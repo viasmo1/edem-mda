{
  "nbformat": 4,
  "nbformat_minor": 0,
  "metadata": {
    "colab": {
      "name": "K_credit_card_k.ipynb",
      "provenance": [],
      "toc_visible": true
    },
    "kernelspec": {
      "name": "python3",
      "display_name": "Python 3"
    }
  },
  "cells": [
    {
      "cell_type": "markdown",
      "metadata": {
        "id": "EExEwVvARoe3"
      },
      "source": [
        "# THE ELBOW METHOD\n",
        " .Determine the \"K\" value, the optimal clustering partition"
      ]
    },
    {
      "cell_type": "markdown",
      "metadata": {
        "id": "wmXigYvAUr7D"
      },
      "source": [
        "K-Means is an unsupervised machine learning algorithm that groups data into k number of clusters. The number of clusters is user-defined and the algorithm will try to group the data even if this number is not optimal for the specific case.\n",
        "\n",
        "Therefore we have to come up with a technique that somehow will help us decide how many clusters we should use for the K-Means model.\n",
        "\n",
        "The Elbow method is a very popular technique and the idea is to run k-means clustering for a range of clusters k (let’s say from 1 to 10) and for each value, we are calculating the sum of squared distances from each point to its assigned center(distortions).\n",
        "\n",
        "When the distortions are plotted and the plot looks like an arm then the “elbow”(the point of inflection on the curve) is the best value of k."
      ]
    },
    {
      "cell_type": "markdown",
      "metadata": {
        "id": "7lyXn45QR3fe"
      },
      "source": [
        "# The first step is to import the requiered python dependencies\n",
        "\n",
        "---\n",
        "\n"
      ]
    },
    {
      "cell_type": "code",
      "metadata": {
        "id": "C9QhzObL_IAL"
      },
      "source": [
        "import pandas as pd\n",
        "import numpy as np\n",
        "import matplotlib.pyplot as plt\n",
        "%matplotlib inline \n",
        "from sklearn.cluster import KMeans"
      ],
      "execution_count": 2,
      "outputs": []
    },
    {
      "cell_type": "markdown",
      "metadata": {
        "id": "LRl2XVtTSIPf"
      },
      "source": [
        "# Now we have to load our dataset using pandas. First you have to upload your \"csv\" file to google colab ( left folder ) and copy the route ( right click on the uploaded file)\n",
        "\n",
        "---\n",
        "\n"
      ]
    },
    {
      "cell_type": "code",
      "metadata": {
        "id": "ARRYJlNIMVYN"
      },
      "source": [
        "# Import your dataset\n",
        "cluster_credit_card = pd.read_csv(\"/content/credit card clean.csv\") # creates a Pandas data frame for credit card dataset"
      ],
      "execution_count": 3,
      "outputs": []
    },
    {
      "cell_type": "markdown",
      "metadata": {
        "id": "4vMLhfcuSs7J"
      },
      "source": [
        "# Let´s make a fast visualization, to see how it looks and to gather general info\n",
        "\n",
        "---\n",
        "\n"
      ]
    },
    {
      "cell_type": "code",
      "metadata": {
        "id": "iOUUV3SbMrib",
        "colab": {
          "base_uri": "https://localhost:8080/"
        },
        "outputId": "b57e9c69-1ba4-447d-f6e6-3ecea4e20aa6"
      },
      "source": [
        "print(cluster_credit_card) # rememeber to use print to don´t get lost"
      ],
      "execution_count": 4,
      "outputs": [
        {
          "output_type": "stream",
          "text": [
            "          BALANCE  BALANCE_FREQUENCY  ...  PRC_FULL_PAYMENT  TENURE\n",
            "0       40.900749           0.818182  ...          0.000000      12\n",
            "1     3202.467416           0.909091  ...          0.222222      12\n",
            "2     2495.148862           1.000000  ...          0.000000      12\n",
            "3      817.714335           1.000000  ...          0.000000      12\n",
            "4     1809.828751           1.000000  ...          0.000000      12\n",
            "...           ...                ...  ...               ...     ...\n",
            "8631     5.871712           0.500000  ...          0.000000       6\n",
            "8632    28.493517           1.000000  ...          0.500000       6\n",
            "8633    23.398673           0.833333  ...          0.250000       6\n",
            "8634    13.457564           0.833333  ...          0.250000       6\n",
            "8635   372.708075           0.666667  ...          0.000000       6\n",
            "\n",
            "[8636 rows x 17 columns]\n"
          ],
          "name": "stdout"
        }
      ]
    },
    {
      "cell_type": "markdown",
      "metadata": {
        "id": "I1R0xIhVS_OQ"
      },
      "source": [
        "#  We want to explore our variables\n",
        "\n",
        "---\n",
        "\n"
      ]
    },
    {
      "cell_type": "code",
      "metadata": {
        "id": "botppnevMyTG",
        "colab": {
          "base_uri": "https://localhost:8080/"
        },
        "outputId": "5857de87-c31d-480c-d590-4de0d1a64e12"
      },
      "source": [
        "# Show variables\n",
        "cluster_credit_card.columns"
      ],
      "execution_count": 5,
      "outputs": [
        {
          "output_type": "execute_result",
          "data": {
            "text/plain": [
              "Index(['BALANCE', 'BALANCE_FREQUENCY', 'PURCHASES', 'ONEOFF_PURCHASES',\n",
              "       'INSTALLMENTS_PURCHASES', 'CASH_ADVANCE', 'PURCHASES_FREQUENCY',\n",
              "       'ONEOFF_PURCHASES_FREQUENCY', 'PURCHASES_INSTALLMENTS_FREQUENCY',\n",
              "       'CASH_ADVANCE_FREQUENCY', 'CASH_ADVANCE_TRX', 'PURCHASES_TRX',\n",
              "       'CREDIT_LIMIT', 'PAYMENTS', 'MINIMUM_PAYMENTS', 'PRC_FULL_PAYMENT',\n",
              "       'TENURE'],\n",
              "      dtype='object')"
            ]
          },
          "metadata": {
            "tags": []
          },
          "execution_count": 5
        }
      ]
    },
    {
      "cell_type": "markdown",
      "metadata": {
        "id": "ELcoX2qmTW9U"
      },
      "source": [
        "# And we also need to now how is our type of data: string, douoble, integer, float...\n",
        "\n",
        "---\n",
        "\n"
      ]
    },
    {
      "cell_type": "code",
      "metadata": {
        "id": "ycD2tWtOQLKD",
        "colab": {
          "base_uri": "https://localhost:8080/"
        },
        "outputId": "2188906e-2185-4644-8561-4088251dab48"
      },
      "source": [
        "cluster_credit_card.dtypes"
      ],
      "execution_count": 6,
      "outputs": [
        {
          "output_type": "execute_result",
          "data": {
            "text/plain": [
              "BALANCE                             float64\n",
              "BALANCE_FREQUENCY                   float64\n",
              "PURCHASES                           float64\n",
              "ONEOFF_PURCHASES                    float64\n",
              "INSTALLMENTS_PURCHASES              float64\n",
              "CASH_ADVANCE                        float64\n",
              "PURCHASES_FREQUENCY                 float64\n",
              "ONEOFF_PURCHASES_FREQUENCY          float64\n",
              "PURCHASES_INSTALLMENTS_FREQUENCY    float64\n",
              "CASH_ADVANCE_FREQUENCY              float64\n",
              "CASH_ADVANCE_TRX                      int64\n",
              "PURCHASES_TRX                         int64\n",
              "CREDIT_LIMIT                        float64\n",
              "PAYMENTS                            float64\n",
              "MINIMUM_PAYMENTS                    float64\n",
              "PRC_FULL_PAYMENT                    float64\n",
              "TENURE                                int64\n",
              "dtype: object"
            ]
          },
          "metadata": {
            "tags": []
          },
          "execution_count": 6
        }
      ]
    },
    {
      "cell_type": "markdown",
      "metadata": {
        "id": "qbDsRlw4VDMp"
      },
      "source": [
        "# Now, we can run our algorithm in order to get the optimal value\n",
        "\n",
        "---\n",
        "\n"
      ]
    },
    {
      "cell_type": "code",
      "metadata": {
        "id": "Iq7iLpX6QTjM"
      },
      "source": [
        "# Remember to add your data frame after the \"fit\" command\n",
        "distortions = []\n",
        "K = range(1,10)\n",
        "for k in K:\n",
        "    kmeanModel = KMeans(n_clusters=k)\n",
        "    kmeanModel.fit(cluster_credit_card)\n",
        "    distortions.append(kmeanModel.inertia_)"
      ],
      "execution_count": 7,
      "outputs": []
    },
    {
      "cell_type": "markdown",
      "metadata": {
        "id": "AnQqben0V9Ep"
      },
      "source": [
        "# And analyze how the elbow plot looks like\n",
        "\n",
        "---\n",
        "\n"
      ]
    },
    {
      "cell_type": "code",
      "metadata": {
        "id": "WbL465s7QdbQ",
        "colab": {
          "base_uri": "https://localhost:8080/",
          "height": 513
        },
        "outputId": "988c4755-3ae6-423d-e34b-5d91fcf9230c"
      },
      "source": [
        "# Let´s plot our result\n",
        "plt.figure(figsize=(16,8))\n",
        "plt.plot(K, distortions, 'bx-')\n",
        "plt.xlabel('k')\n",
        "plt.ylabel('Distortion score')\n",
        "plt.title('The Elbow Method showing the optimal k')\n",
        "plt.show()"
      ],
      "execution_count": 8,
      "outputs": [
        {
          "output_type": "display_data",
          "data": {
            "image/png": "[encoded data removed]",
            "text/plain": [
              "<Figure size 1152x576 with 1 Axes>"
            ]
          },
          "metadata": {
            "tags": [],
            "needs_background": "light"
          }
        }
      ]
    },
    {
      "cell_type": "code",
      "metadata": {
        "id": "LT-_ijhqPJGg"
      },
      "source": [
        ""
      ],
      "execution_count": null,
      "outputs": []
    },
    {
      "cell_type": "markdown",
      "metadata": {
        "id": "IH_UjUR2Zdiq"
      },
      "source": [
        "# It seems that with this dataset we could obtaing good partitions from 3 till 6 clusters, so it means that in this range we could obtain good accuracy  for further algorithms implementations.\n",
        "\n",
        "---\n",
        "\n"
      ]
    },
    {
      "cell_type": "markdown",
      "metadata": {
        "id": "CK0T8qkjWB_j"
      },
      "source": [
        "# SHILOUTTE SCORE\n",
        " .Determine the \"K\" value, the optimal clustering partition"
      ]
    },
    {
      "cell_type": "code",
      "metadata": {
        "id": "q3rOMHtjNhUp"
      },
      "source": [
        "# import libraries\n",
        "import numpy as np\n",
        "import pandas as pd\n",
        "import csv\n",
        "from sklearn.cluster import KMeans\n",
        "from sklearn.metrics import silhouette_score"
      ],
      "execution_count": 10,
      "outputs": []
    },
    {
      "cell_type": "code",
      "metadata": {
        "id": "N8FUe3IGOD2U"
      },
      "source": [
        "#load the data\n",
        "dataframe = pd.read_csv('/content/credit card clean.csv')\n",
        "df = dataframe.copy(deep=True)\n"
      ],
      "execution_count": 15,
      "outputs": []
    },
    {
      "cell_type": "code",
      "metadata": {
        "colab": {
          "base_uri": "https://localhost:8080/"
        },
        "id": "3P6hJZcNObKm",
        "outputId": "ee7f3822-0806-43f7-9361-45ad45ff8d16"
      },
      "source": [
        "#Use silhouette score\n",
        "range_n_clusters = list (range(2,10))\n",
        "print (\"Number of clusters from 2 to 9: \\n\", range_n_clusters)"
      ],
      "execution_count": 16,
      "outputs": [
        {
          "output_type": "stream",
          "text": [
            "Number of clusters from 2 to 9: \n",
            " [2, 3, 4, 5, 6, 7, 8, 9]\n"
          ],
          "name": "stdout"
        }
      ]
    },
    {
      "cell_type": "code",
      "metadata": {
        "colab": {
          "base_uri": "https://localhost:8080/"
        },
        "id": "fh-vlQOjOgrp",
        "outputId": "92bff62e-6a3d-46ac-8202-07a3c62ccf85"
      },
      "source": [
        "# fit the model for the whole range and print results\n",
        "\n",
        "for n_clusters in range_n_clusters:\n",
        "    clusterer = KMeans (n_clusters=n_clusters).fit(df)\n",
        "    preds = clusterer.predict(df)\n",
        "    centers = clusterer.cluster_centers_\n",
        "    score = silhouette_score(df, preds)\n",
        "    print(\"For n_clusters = {}, silhouette score is {})\".format(n_clusters, score))"
      ],
      "execution_count": 21,
      "outputs": [
        {
          "output_type": "stream",
          "text": [
            "For n_clusters = 2, silhouette score is 0.511307699456009)\n",
            "For n_clusters = 3, silhouette score is 0.4649592292907119)\n",
            "For n_clusters = 4, silhouette score is 0.46049569919279437)\n",
            "For n_clusters = 5, silhouette score is 0.4015896096337523)\n",
            "For n_clusters = 6, silhouette score is 0.3716386527240559)\n",
            "For n_clusters = 7, silhouette score is 0.36938585523825423)\n",
            "For n_clusters = 8, silhouette score is 0.383338210364183)\n",
            "For n_clusters = 9, silhouette score is 0.3534785540517469)\n"
          ],
          "name": "stdout"
        }
      ]
    },
    {
      "cell_type": "markdown",
      "metadata": {
        "id": "G7Jnr2iwUZNM"
      },
      "source": [
        "Silhouette coefficients (as these values are referred to as) near +1 indicate that the sample is far away from the neighboring clusters. A value of 0 indicates that the sample is on or very close to the decision boundary between two neighboring clusters and negative values indicate that those samples might have been assigned to the wrong cluster."
      ]
    }
  ]
}
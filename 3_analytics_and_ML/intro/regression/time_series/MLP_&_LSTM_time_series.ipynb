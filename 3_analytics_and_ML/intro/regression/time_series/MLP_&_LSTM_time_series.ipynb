{
  "nbformat": 4,
  "nbformat_minor": 0,
  "metadata": {
    "colab": {
      "name": "MLP_&_LSTM_time_series.ipynb",
      "provenance": [],
      "collapsed_sections": [],
      "toc_visible": true
    },
    "kernelspec": {
      "name": "python3",
      "display_name": "Python 3"
    }
  },
  "cells": [
    {
      "cell_type": "markdown",
      "metadata": {
        "id": "VSrYncDxHVoT"
      },
      "source": [
        "# Univariate Time Series\n",
        "# **Multilayer Perceptron (MLP)**\n",
        "Sequential model\n",
        "\n",
        "Notebook developed by: Jose Peris\n",
        "\n",
        "Solved by [me](https://github.com/viasmo1)\n"
      ]
    },
    {
      "cell_type": "markdown",
      "metadata": {
        "id": "Tps9mqfmINSw"
      },
      "source": [
        "## Import dependencies\n",
        "-**py dependencies**\n",
        "-Our DL framework: **Keras**\n",
        "-Pour DL backend: **Tensorflow**\n",
        "\n"
      ]
    },
    {
      "cell_type": "code",
      "metadata": {
        "id": "bJddKhickas0"
      },
      "source": [
        "import numpy as np\n",
        "%matplotlib inline\n",
        "import pandas as pd\n",
        "import matplotlib.pyplot as plt\n",
        "from sklearn.metrics import r2_score\n"
      ],
      "execution_count": 1,
      "outputs": []
    },
    {
      "cell_type": "code",
      "metadata": {
        "id": "sMiw6uFKNVTG",
        "colab": {
          "base_uri": "https://localhost:8080/"
        },
        "outputId": "f304d74c-3271-48bd-ffa0-2ac85ae63a9a"
      },
      "source": [
        "# Welcome to deep learning ;)\n",
        "from keras.models import Sequential\n",
        "from keras.layers import Dense\n",
        "from keras.callbacks import EarlyStopping\n",
        "from keras.optimizers import Adam\n",
        "from keras.layers import LSTM\n",
        "%tensorflow_version 1.x"
      ],
      "execution_count": 2,
      "outputs": [
        {
          "output_type": "stream",
          "text": [
            "TensorFlow is already loaded. Please restart the runtime to change versions.\n"
          ],
          "name": "stdout"
        }
      ]
    },
    {
      "cell_type": "code",
      "metadata": {
        "id": "CM17BWdTkn1C"
      },
      "source": [
        "df = pd.read_csv(\"/content/vix_2011_2019.csv\")"
      ],
      "execution_count": 3,
      "outputs": []
    },
    {
      "cell_type": "code",
      "metadata": {
        "id": "fXpSuXL2kykR",
        "colab": {
          "base_uri": "https://localhost:8080/"
        },
        "outputId": "ccd0a786-375e-444e-9ed9-9fe66d5050e1"
      },
      "source": [
        "print(df.head())"
      ],
      "execution_count": 4,
      "outputs": [
        {
          "output_type": "stream",
          "text": [
            "         Date       Open       High        Low      Close  Adj Close  Volume\n",
            "0  2011-01-03  17.940001  17.950001  16.910000  17.610001  17.610001       0\n",
            "1  2011-01-04  17.340000  18.240000  17.330000  17.379999  17.379999       0\n",
            "2  2011-01-05  17.809999  17.950001  16.860001  17.020000  17.020000       0\n",
            "3  2011-01-06  16.799999  17.559999  16.790001  17.400000  17.400000       0\n",
            "4  2011-01-07  17.309999  18.070000  16.570000  17.139999  17.139999       0\n"
          ],
          "name": "stdout"
        }
      ]
    },
    {
      "cell_type": "markdown",
      "metadata": {
        "id": "HNjBkUA_IlU6"
      },
      "source": [
        "We are going to use an univariate time series model, so we have to remain just the **time series and  target column**"
      ]
    },
    {
      "cell_type": "code",
      "metadata": {
        "id": "XcMIJtuEk1fL"
      },
      "source": [
        "df.drop(['Open', 'High', 'Low', 'Close', 'Volume'], axis=1, inplace=True)"
      ],
      "execution_count": 5,
      "outputs": []
    },
    {
      "cell_type": "code",
      "metadata": {
        "id": "wTXyoXxEk4Ip",
        "colab": {
          "base_uri": "https://localhost:8080/"
        },
        "outputId": "3ebd6c3b-f713-43a4-f490-320ad6133c1d"
      },
      "source": [
        "# Now we check the nuember of rows and columns of our dataset\n",
        "df.shape"
      ],
      "execution_count": 6,
      "outputs": [
        {
          "output_type": "execute_result",
          "data": {
            "text/plain": [
              "(2068, 2)"
            ]
          },
          "metadata": {
            "tags": []
          },
          "execution_count": 6
        }
      ]
    },
    {
      "cell_type": "code",
      "metadata": {
        "id": "mqa8ql0Xk6vx",
        "colab": {
          "base_uri": "https://localhost:8080/"
        },
        "outputId": "b9ed7d79-f83e-43bb-d1a5-01ac5de78180"
      },
      "source": [
        "df.info()"
      ],
      "execution_count": 7,
      "outputs": [
        {
          "output_type": "stream",
          "text": [
            "<class 'pandas.core.frame.DataFrame'>\n",
            "RangeIndex: 2068 entries, 0 to 2067\n",
            "Data columns (total 2 columns):\n",
            " #   Column     Non-Null Count  Dtype  \n",
            "---  ------     --------------  -----  \n",
            " 0   Date       2068 non-null   object \n",
            " 1   Adj Close  2068 non-null   float64\n",
            "dtypes: float64(1), object(1)\n",
            "memory usage: 32.4+ KB\n"
          ],
          "name": "stdout"
        }
      ]
    },
    {
      "cell_type": "markdown",
      "metadata": {
        "id": "HvQUt7TXJAdG"
      },
      "source": [
        "We have to convert our series (object) into **datetime format**"
      ]
    },
    {
      "cell_type": "code",
      "metadata": {
        "id": "oMEyrbalJMv4",
        "colab": {
          "base_uri": "https://localhost:8080/"
        },
        "outputId": "b8a344ce-3d36-4de5-daa0-fd80c045d757"
      },
      "source": [
        "help(pd.to_datetime)"
      ],
      "execution_count": 8,
      "outputs": [
        {
          "output_type": "stream",
          "text": [
            "Help on function to_datetime in module pandas.core.tools.datetimes:\n",
            "\n",
            "to_datetime(arg:Union[~DatetimeScalar, List, Tuple, ~ArrayLike, _ForwardRef('Series')], errors:str='raise', dayfirst:bool=False, yearfirst:bool=False, utc:Union[bool, NoneType]=None, format:Union[str, NoneType]=None, exact:bool=True, unit:Union[str, NoneType]=None, infer_datetime_format:bool=False, origin='unix', cache:bool=True) -> Union[pandas.core.indexes.datetimes.DatetimeIndex, _ForwardRef('Series'), ~DatetimeScalar, _ForwardRef('NaTType')]\n",
            "    Convert argument to datetime.\n",
            "    \n",
            "    Parameters\n",
            "    ----------\n",
            "    arg : int, float, str, datetime, list, tuple, 1-d array, Series, DataFrame/dict-like\n",
            "        The object to convert to a datetime.\n",
            "    errors : {'ignore', 'raise', 'coerce'}, default 'raise'\n",
            "        - If 'raise', then invalid parsing will raise an exception.\n",
            "        - If 'coerce', then invalid parsing will be set as NaT.\n",
            "        - If 'ignore', then invalid parsing will return the input.\n",
            "    dayfirst : bool, default False\n",
            "        Specify a date parse order if `arg` is str or its list-likes.\n",
            "        If True, parses dates with the day first, eg 10/11/12 is parsed as\n",
            "        2012-11-10.\n",
            "        Warning: dayfirst=True is not strict, but will prefer to parse\n",
            "        with day first (this is a known bug, based on dateutil behavior).\n",
            "    yearfirst : bool, default False\n",
            "        Specify a date parse order if `arg` is str or its list-likes.\n",
            "    \n",
            "        - If True parses dates with the year first, eg 10/11/12 is parsed as\n",
            "          2010-11-12.\n",
            "        - If both dayfirst and yearfirst are True, yearfirst is preceded (same\n",
            "          as dateutil).\n",
            "    \n",
            "        Warning: yearfirst=True is not strict, but will prefer to parse\n",
            "        with year first (this is a known bug, based on dateutil behavior).\n",
            "    utc : bool, default None\n",
            "        Return UTC DatetimeIndex if True (converting any tz-aware\n",
            "        datetime.datetime objects as well).\n",
            "    format : str, default None\n",
            "        The strftime to parse time, eg \"%d/%m/%Y\", note that \"%f\" will parse\n",
            "        all the way up to nanoseconds.\n",
            "        See strftime documentation for more information on choices:\n",
            "        https://docs.python.org/3/library/datetime.html#strftime-and-strptime-behavior.\n",
            "    exact : bool, True by default\n",
            "        Behaves as:\n",
            "        - If True, require an exact format match.\n",
            "        - If False, allow the format to match anywhere in the target string.\n",
            "    \n",
            "    unit : str, default 'ns'\n",
            "        The unit of the arg (D,s,ms,us,ns) denote the unit, which is an\n",
            "        integer or float number. This will be based off the origin.\n",
            "        Example, with unit='ms' and origin='unix' (the default), this\n",
            "        would calculate the number of milliseconds to the unix epoch start.\n",
            "    infer_datetime_format : bool, default False\n",
            "        If True and no `format` is given, attempt to infer the format of the\n",
            "        datetime strings based on the first non-NaN element,\n",
            "        and if it can be inferred, switch to a faster method of parsing them.\n",
            "        In some cases this can increase the parsing speed by ~5-10x.\n",
            "    origin : scalar, default 'unix'\n",
            "        Define the reference date. The numeric values would be parsed as number\n",
            "        of units (defined by `unit`) since this reference date.\n",
            "    \n",
            "        - If 'unix' (or POSIX) time; origin is set to 1970-01-01.\n",
            "        - If 'julian', unit must be 'D', and origin is set to beginning of\n",
            "          Julian Calendar. Julian day number 0 is assigned to the day starting\n",
            "          at noon on January 1, 4713 BC.\n",
            "        - If Timestamp convertible, origin is set to Timestamp identified by\n",
            "          origin.\n",
            "    cache : bool, default True\n",
            "        If True, use a cache of unique, converted dates to apply the datetime\n",
            "        conversion. May produce significant speed-up when parsing duplicate\n",
            "        date strings, especially ones with timezone offsets. The cache is only\n",
            "        used when there are at least 50 values. The presence of out-of-bounds\n",
            "        values will render the cache unusable and may slow down parsing.\n",
            "    \n",
            "        .. versionadded:: 0.23.0\n",
            "    \n",
            "        .. versionchanged:: 0.25.0\n",
            "            - changed default value from False to True.\n",
            "    \n",
            "    Returns\n",
            "    -------\n",
            "    datetime\n",
            "        If parsing succeeded.\n",
            "        Return type depends on input:\n",
            "    \n",
            "        - list-like: DatetimeIndex\n",
            "        - Series: Series of datetime64 dtype\n",
            "        - scalar: Timestamp\n",
            "    \n",
            "        In case when it is not possible to return designated types (e.g. when\n",
            "        any element of input is before Timestamp.min or after Timestamp.max)\n",
            "        return will have datetime.datetime type (or corresponding\n",
            "        array/Series).\n",
            "    \n",
            "    See Also\n",
            "    --------\n",
            "    DataFrame.astype : Cast argument to a specified dtype.\n",
            "    to_timedelta : Convert argument to timedelta.\n",
            "    convert_dtypes : Convert dtypes.\n",
            "    \n",
            "    Examples\n",
            "    --------\n",
            "    Assembling a datetime from multiple columns of a DataFrame. The keys can be\n",
            "    common abbreviations like ['year', 'month', 'day', 'minute', 'second',\n",
            "    'ms', 'us', 'ns']) or plurals of the same\n",
            "    \n",
            "    >>> df = pd.DataFrame({'year': [2015, 2016],\n",
            "    ...                    'month': [2, 3],\n",
            "    ...                    'day': [4, 5]})\n",
            "    >>> pd.to_datetime(df)\n",
            "    0   2015-02-04\n",
            "    1   2016-03-05\n",
            "    dtype: datetime64[ns]\n",
            "    \n",
            "    If a date does not meet the `timestamp limitations\n",
            "    <https://pandas.pydata.org/pandas-docs/stable/user_guide/timeseries.html\n",
            "    #timeseries-timestamp-limits>`_, passing errors='ignore'\n",
            "    will return the original input instead of raising any exception.\n",
            "    \n",
            "    Passing errors='coerce' will force an out-of-bounds date to NaT,\n",
            "    in addition to forcing non-dates (or non-parseable dates) to NaT.\n",
            "    \n",
            "    >>> pd.to_datetime('13000101', format='%Y%m%d', errors='ignore')\n",
            "    datetime.datetime(1300, 1, 1, 0, 0)\n",
            "    >>> pd.to_datetime('13000101', format='%Y%m%d', errors='coerce')\n",
            "    NaT\n",
            "    \n",
            "    Passing infer_datetime_format=True can often-times speedup a parsing\n",
            "    if its not an ISO8601 format exactly, but in a regular format.\n",
            "    \n",
            "    >>> s = pd.Series(['3/11/2000', '3/12/2000', '3/13/2000'] * 1000)\n",
            "    >>> s.head()\n",
            "    0    3/11/2000\n",
            "    1    3/12/2000\n",
            "    2    3/13/2000\n",
            "    3    3/11/2000\n",
            "    4    3/12/2000\n",
            "    dtype: object\n",
            "    \n",
            "    >>> %timeit pd.to_datetime(s, infer_datetime_format=True)  # doctest: +SKIP\n",
            "    100 loops, best of 3: 10.4 ms per loop\n",
            "    \n",
            "    >>> %timeit pd.to_datetime(s, infer_datetime_format=False)  # doctest: +SKIP\n",
            "    1 loop, best of 3: 471 ms per loop\n",
            "    \n",
            "    Using a unix epoch time\n",
            "    \n",
            "    >>> pd.to_datetime(1490195805, unit='s')\n",
            "    Timestamp('2017-03-22 15:16:45')\n",
            "    >>> pd.to_datetime(1490195805433502912, unit='ns')\n",
            "    Timestamp('2017-03-22 15:16:45.433502912')\n",
            "    \n",
            "    .. warning:: For float arg, precision rounding might happen. To prevent\n",
            "        unexpected behavior use a fixed-width exact type.\n",
            "    \n",
            "    Using a non-unix epoch origin\n",
            "    \n",
            "    >>> pd.to_datetime([1, 2, 3], unit='D',\n",
            "    ...                origin=pd.Timestamp('1960-01-01'))\n",
            "    DatetimeIndex(['1960-01-02', '1960-01-03', '1960-01-04'], dtype='datetime64[ns]', freq=None)\n",
            "\n"
          ],
          "name": "stdout"
        }
      ]
    },
    {
      "cell_type": "code",
      "metadata": {
        "id": "_9kM2gGWk9JB"
      },
      "source": [
        "df['Date'] = pd.to_datetime(df['Date'])"
      ],
      "execution_count": 9,
      "outputs": []
    },
    {
      "cell_type": "markdown",
      "metadata": {
        "id": "8mlddM5iKAXZ"
      },
      "source": [
        "And we have to indicate that the time series will be the **index** of our dataframe"
      ]
    },
    {
      "cell_type": "code",
      "metadata": {
        "id": "BVhafMNxk_pv"
      },
      "source": [
        "df = df.set_index(['Date'], drop=True)"
      ],
      "execution_count": 10,
      "outputs": []
    },
    {
      "cell_type": "code",
      "metadata": {
        "id": "piKn74eYlDGt",
        "colab": {
          "base_uri": "https://localhost:8080/",
          "height": 390
        },
        "outputId": "a55c6e78-0128-4fc3-90cc-477bbe6f4668"
      },
      "source": [
        "# and we check again the structure of our dataset\n",
        "df.head(10)"
      ],
      "execution_count": 11,
      "outputs": [
        {
          "output_type": "execute_result",
          "data": {
            "text/html": [
              "<div>\n",
              "<style scoped>\n",
              "    .dataframe tbody tr th:only-of-type {\n",
              "        vertical-align: middle;\n",
              "    }\n",
              "\n",
              "    .dataframe tbody tr th {\n",
              "        vertical-align: top;\n",
              "    }\n",
              "\n",
              "    .dataframe thead th {\n",
              "        text-align: right;\n",
              "    }\n",
              "</style>\n",
              "<table border=\"1\" class=\"dataframe\">\n",
              "  <thead>\n",
              "    <tr style=\"text-align: right;\">\n",
              "      <th></th>\n",
              "      <th>Adj Close</th>\n",
              "    </tr>\n",
              "    <tr>\n",
              "      <th>Date</th>\n",
              "      <th></th>\n",
              "    </tr>\n",
              "  </thead>\n",
              "  <tbody>\n",
              "    <tr>\n",
              "      <th>2011-01-03</th>\n",
              "      <td>17.610001</td>\n",
              "    </tr>\n",
              "    <tr>\n",
              "      <th>2011-01-04</th>\n",
              "      <td>17.379999</td>\n",
              "    </tr>\n",
              "    <tr>\n",
              "      <th>2011-01-05</th>\n",
              "      <td>17.020000</td>\n",
              "    </tr>\n",
              "    <tr>\n",
              "      <th>2011-01-06</th>\n",
              "      <td>17.400000</td>\n",
              "    </tr>\n",
              "    <tr>\n",
              "      <th>2011-01-07</th>\n",
              "      <td>17.139999</td>\n",
              "    </tr>\n",
              "    <tr>\n",
              "      <th>2011-01-10</th>\n",
              "      <td>17.540001</td>\n",
              "    </tr>\n",
              "    <tr>\n",
              "      <th>2011-01-11</th>\n",
              "      <td>16.889999</td>\n",
              "    </tr>\n",
              "    <tr>\n",
              "      <th>2011-01-12</th>\n",
              "      <td>16.240000</td>\n",
              "    </tr>\n",
              "    <tr>\n",
              "      <th>2011-01-13</th>\n",
              "      <td>16.389999</td>\n",
              "    </tr>\n",
              "    <tr>\n",
              "      <th>2011-01-14</th>\n",
              "      <td>15.460000</td>\n",
              "    </tr>\n",
              "  </tbody>\n",
              "</table>\n",
              "</div>"
            ],
            "text/plain": [
              "            Adj Close\n",
              "Date                 \n",
              "2011-01-03  17.610001\n",
              "2011-01-04  17.379999\n",
              "2011-01-05  17.020000\n",
              "2011-01-06  17.400000\n",
              "2011-01-07  17.139999\n",
              "2011-01-10  17.540001\n",
              "2011-01-11  16.889999\n",
              "2011-01-12  16.240000\n",
              "2011-01-13  16.389999\n",
              "2011-01-14  15.460000"
            ]
          },
          "metadata": {
            "tags": []
          },
          "execution_count": 11
        }
      ]
    },
    {
      "cell_type": "markdown",
      "metadata": {
        "id": "6jBOqdDBNswZ"
      },
      "source": [
        "Now, let's plot our **time series data**"
      ]
    },
    {
      "cell_type": "code",
      "metadata": {
        "id": "Vn3HgShglH0_",
        "colab": {
          "base_uri": "https://localhost:8080/",
          "height": 367
        },
        "outputId": "f95d0180-2ea6-4a22-85de-6919e42c5b03"
      },
      "source": [
        "# df = df.sort_index()\n",
        "plt.figure(figsize=(10, 6))\n",
        "df['Adj Close'].plot();"
      ],
      "execution_count": 12,
      "outputs": [
        {
          "output_type": "display_data",
          "data": {
            "image/png": "[encoded data removed]",
            "text/plain": [
              "<Figure size 720x432 with 1 Axes>"
            ]
          },
          "metadata": {
            "tags": [],
            "needs_background": "light"
          }
        }
      ]
    },
    {
      "cell_type": "markdown",
      "metadata": {
        "id": "MKvIEUhzON8d"
      },
      "source": [
        "## Train-test split\n",
        "We will take 2018/01/01 as timestamp to split, due that we are working with time series\n",
        "\n",
        "\n",
        "\n",
        "\n",
        "\n",
        "\n",
        "\n"
      ]
    },
    {
      "cell_type": "code",
      "metadata": {
        "id": "eSQMLiJ-lPxB"
      },
      "source": [
        "split_date = pd.Timestamp('2018-01-01')"
      ],
      "execution_count": 13,
      "outputs": []
    },
    {
      "cell_type": "code",
      "metadata": {
        "id": "5poal9CDlVCQ",
        "colab": {
          "base_uri": "https://localhost:8080/",
          "height": 367
        },
        "outputId": "90e6cd46-5ce2-4f36-d51e-c5842fdc30f1"
      },
      "source": [
        "df =  df['Adj Close']\n",
        "train = df.loc[:split_date]\n",
        "test = df.loc[split_date:]\n",
        "plt.figure(figsize=(10, 6))\n",
        "ax = train.plot()\n",
        "test.plot(ax=ax)\n",
        "plt.legend(['train', 'test']);\n"
      ],
      "execution_count": 14,
      "outputs": [
        {
          "output_type": "display_data",
          "data": {
            "image/png": "[encoded data removed]",
            "text/plain": [
              "<Figure size 720x432 with 1 Axes>"
            ]
          },
          "metadata": {
            "tags": [],
            "needs_background": "light"
          }
        }
      ]
    },
    {
      "cell_type": "code",
      "metadata": {
        "id": "9XZl6dKYl3PV"
      },
      "source": [
        "# Convert pandas Dataframe to Numpy Array. We need to convert data to array in DL\n",
        "train_numpy = train.values\n",
        "test_numpy = test.values\n"
      ],
      "execution_count": 15,
      "outputs": []
    },
    {
      "cell_type": "code",
      "metadata": {
        "id": "Bd2H-ipDlZ_D"
      },
      "source": [
        "# Normalize. scale train and test data to [-1, 1]\n",
        "\n",
        "train_sc = train_numpy.reshape(-1,1)\n",
        "test_sc = test_numpy.reshape(-1,1)"
      ],
      "execution_count": 16,
      "outputs": []
    },
    {
      "cell_type": "code",
      "metadata": {
        "id": "doImz_YNmnFA"
      },
      "source": [
        "X_train = train_sc[:-1]\n",
        "y_train = train_sc[1:]\n",
        "\n",
        "X_test = test_sc[:-1]\n",
        "y_test = test_sc[1:]"
      ],
      "execution_count": 17,
      "outputs": []
    },
    {
      "cell_type": "markdown",
      "metadata": {
        "id": "RVyS193pPMl1"
      },
      "source": [
        "## Neural network declaration"
      ]
    },
    {
      "cell_type": "markdown",
      "metadata": {
        "id": "ng1LtOJpy5p8"
      },
      "source": [
        "### **NN Sequential Fully connected**"
      ]
    },
    {
      "cell_type": "code",
      "metadata": {
        "id": "bXlFvuWwmvVY",
        "colab": {
          "base_uri": "https://localhost:8080/"
        },
        "outputId": "78649fe7-a838-4748-c550-b6abd541127e"
      },
      "source": [
        "nn_model = Sequential()\n",
        "nn_model.add(Dense(12, input_dim=1, activation='relu'))\n",
        "nn_model.add(Dense(1))\n",
        "nn_model.compile(loss='mean_squared_error', optimizer='adam')\n",
        "early_stop = EarlyStopping(monitor='loss', patience=2, verbose=1)\n",
        "history = nn_model.fit(X_train, y_train, epochs=100, batch_size=1, verbose=1, shuffle=False)"
      ],
      "execution_count": 18,
      "outputs": [
        {
          "output_type": "stream",
          "text": [
            "Epoch 1/100\n",
            "1760/1760 [==============================] - 2s 840us/step - loss: 20.6181\n",
            "Epoch 2/100\n",
            "1760/1760 [==============================] - 1s 849us/step - loss: 3.1378\n",
            "Epoch 3/100\n",
            "1760/1760 [==============================] - 1s 842us/step - loss: 3.1324\n",
            "Epoch 4/100\n",
            "1760/1760 [==============================] - 2s 873us/step - loss: 3.1240\n",
            "Epoch 5/100\n",
            "1760/1760 [==============================] - 2s 870us/step - loss: 3.1172\n",
            "Epoch 6/100\n",
            "1760/1760 [==============================] - 1s 816us/step - loss: 3.1121\n",
            "Epoch 7/100\n",
            "1760/1760 [==============================] - 1s 827us/step - loss: 3.1087\n",
            "Epoch 8/100\n",
            "1760/1760 [==============================] - 2s 861us/step - loss: 3.1065\n",
            "Epoch 9/100\n",
            "1760/1760 [==============================] - 1s 828us/step - loss: 3.1053\n",
            "Epoch 10/100\n",
            "1760/1760 [==============================] - 2s 874us/step - loss: 3.1049\n",
            "Epoch 11/100\n",
            "1760/1760 [==============================] - 1s 847us/step - loss: 3.1050\n",
            "Epoch 12/100\n",
            "1760/1760 [==============================] - 1s 814us/step - loss: 3.1056\n",
            "Epoch 13/100\n",
            "1760/1760 [==============================] - 1s 842us/step - loss: 3.1066\n",
            "Epoch 14/100\n",
            "1760/1760 [==============================] - 1s 822us/step - loss: 3.1078\n",
            "Epoch 15/100\n",
            "1760/1760 [==============================] - 1s 839us/step - loss: 3.1091\n",
            "Epoch 16/100\n",
            "1760/1760 [==============================] - 1s 812us/step - loss: 3.1106\n",
            "Epoch 17/100\n",
            "1760/1760 [==============================] - 1s 811us/step - loss: 3.1122\n",
            "Epoch 18/100\n",
            "1760/1760 [==============================] - 1s 828us/step - loss: 3.1138\n",
            "Epoch 19/100\n",
            "1760/1760 [==============================] - 1s 843us/step - loss: 3.1154\n",
            "Epoch 20/100\n",
            "1760/1760 [==============================] - 1s 839us/step - loss: 3.1169\n",
            "Epoch 21/100\n",
            "1760/1760 [==============================] - 2s 1ms/step - loss: 3.1185\n",
            "Epoch 22/100\n",
            "1760/1760 [==============================] - 2s 989us/step - loss: 3.1200\n",
            "Epoch 23/100\n",
            "1760/1760 [==============================] - 2s 893us/step - loss: 3.1214\n",
            "Epoch 24/100\n",
            "1760/1760 [==============================] - 1s 828us/step - loss: 3.1227\n",
            "Epoch 25/100\n",
            "1760/1760 [==============================] - 2s 850us/step - loss: 3.1240\n",
            "Epoch 26/100\n",
            "1760/1760 [==============================] - 2s 903us/step - loss: 3.1253\n",
            "Epoch 27/100\n",
            "1760/1760 [==============================] - 2s 884us/step - loss: 3.1264\n",
            "Epoch 28/100\n",
            "1760/1760 [==============================] - 2s 900us/step - loss: 3.1275\n",
            "Epoch 29/100\n",
            "1760/1760 [==============================] - 2s 897us/step - loss: 3.1285\n",
            "Epoch 30/100\n",
            "1760/1760 [==============================] - 2s 880us/step - loss: 3.1294\n",
            "Epoch 31/100\n",
            "1760/1760 [==============================] - 2s 898us/step - loss: 3.1302\n",
            "Epoch 32/100\n",
            "1760/1760 [==============================] - 2s 857us/step - loss: 3.1310\n",
            "Epoch 33/100\n",
            "1760/1760 [==============================] - 2s 929us/step - loss: 3.1318\n",
            "Epoch 34/100\n",
            "1760/1760 [==============================] - 2s 899us/step - loss: 3.1324\n",
            "Epoch 35/100\n",
            "1760/1760 [==============================] - 2s 886us/step - loss: 3.1330\n",
            "Epoch 36/100\n",
            "1760/1760 [==============================] - 2s 912us/step - loss: 3.1336\n",
            "Epoch 37/100\n",
            "1760/1760 [==============================] - 2s 901us/step - loss: 3.1341\n",
            "Epoch 38/100\n",
            "1760/1760 [==============================] - 2s 952us/step - loss: 3.1345\n",
            "Epoch 39/100\n",
            "1760/1760 [==============================] - 1s 847us/step - loss: 3.1349\n",
            "Epoch 40/100\n",
            "1760/1760 [==============================] - 1s 840us/step - loss: 3.1353\n",
            "Epoch 41/100\n",
            "1760/1760 [==============================] - 2s 1ms/step - loss: 3.1356\n",
            "Epoch 42/100\n",
            "1760/1760 [==============================] - 3s 2ms/step - loss: 3.1359\n",
            "Epoch 43/100\n",
            "1760/1760 [==============================] - 2s 1ms/step - loss: 3.1361\n",
            "Epoch 44/100\n",
            "1760/1760 [==============================] - 2s 870us/step - loss: 3.1363\n",
            "Epoch 45/100\n",
            "1760/1760 [==============================] - 2s 875us/step - loss: 3.1365\n",
            "Epoch 46/100\n",
            "1760/1760 [==============================] - 1s 831us/step - loss: 3.1366\n",
            "Epoch 47/100\n",
            "1760/1760 [==============================] - 1s 826us/step - loss: 3.1367\n",
            "Epoch 48/100\n",
            "1760/1760 [==============================] - 2s 895us/step - loss: 3.1368\n",
            "Epoch 49/100\n",
            "1760/1760 [==============================] - 1s 814us/step - loss: 3.1368\n",
            "Epoch 50/100\n",
            "1760/1760 [==============================] - 1s 799us/step - loss: 3.1368\n",
            "Epoch 51/100\n",
            "1760/1760 [==============================] - 2s 879us/step - loss: 3.1368\n",
            "Epoch 52/100\n",
            "1760/1760 [==============================] - 1s 826us/step - loss: 3.1367\n",
            "Epoch 53/100\n",
            "1760/1760 [==============================] - 1s 843us/step - loss: 3.1365\n",
            "Epoch 54/100\n",
            "1760/1760 [==============================] - 1s 807us/step - loss: 3.1363\n",
            "Epoch 55/100\n",
            "1760/1760 [==============================] - 2s 852us/step - loss: 3.1359\n",
            "Epoch 56/100\n",
            "1760/1760 [==============================] - 1s 824us/step - loss: 3.1354\n",
            "Epoch 57/100\n",
            "1760/1760 [==============================] - 2s 878us/step - loss: 3.1342\n",
            "Epoch 58/100\n",
            "1760/1760 [==============================] - 1s 796us/step - loss: 3.1320\n",
            "Epoch 59/100\n",
            "1760/1760 [==============================] - 1s 802us/step - loss: 3.1354\n",
            "Epoch 60/100\n",
            "1760/1760 [==============================] - 1s 812us/step - loss: 3.1357\n",
            "Epoch 61/100\n",
            "1760/1760 [==============================] - 1s 830us/step - loss: 3.1357\n",
            "Epoch 62/100\n",
            "1760/1760 [==============================] - 1s 816us/step - loss: 3.1358\n",
            "Epoch 63/100\n",
            "1760/1760 [==============================] - 1s 786us/step - loss: 3.1358\n",
            "Epoch 64/100\n",
            "1760/1760 [==============================] - 1s 814us/step - loss: 3.1358\n",
            "Epoch 65/100\n",
            "1760/1760 [==============================] - 2s 886us/step - loss: 3.1358\n",
            "Epoch 66/100\n",
            "1760/1760 [==============================] - 1s 813us/step - loss: 3.1358\n",
            "Epoch 67/100\n",
            "1760/1760 [==============================] - 1s 810us/step - loss: 3.1358\n",
            "Epoch 68/100\n",
            "1760/1760 [==============================] - 2s 854us/step - loss: 3.1358\n",
            "Epoch 69/100\n",
            "1760/1760 [==============================] - 1s 819us/step - loss: 3.1358\n",
            "Epoch 70/100\n",
            "1760/1760 [==============================] - 1s 825us/step - loss: 3.1358\n",
            "Epoch 71/100\n",
            "1760/1760 [==============================] - 1s 819us/step - loss: 3.1358\n",
            "Epoch 72/100\n",
            "1760/1760 [==============================] - 1s 833us/step - loss: 3.1358\n",
            "Epoch 73/100\n",
            "1760/1760 [==============================] - 1s 818us/step - loss: 3.1358\n",
            "Epoch 74/100\n",
            "1760/1760 [==============================] - 1s 817us/step - loss: 3.1358\n",
            "Epoch 75/100\n",
            "1760/1760 [==============================] - 1s 824us/step - loss: 3.1358\n",
            "Epoch 76/100\n",
            "1760/1760 [==============================] - 1s 846us/step - loss: 3.1358\n",
            "Epoch 77/100\n",
            "1760/1760 [==============================] - 1s 829us/step - loss: 3.1358\n",
            "Epoch 78/100\n",
            "1760/1760 [==============================] - 2s 891us/step - loss: 3.1358\n",
            "Epoch 79/100\n",
            "1760/1760 [==============================] - 1s 815us/step - loss: 3.1358\n",
            "Epoch 80/100\n",
            "1760/1760 [==============================] - 1s 837us/step - loss: 3.1358\n",
            "Epoch 81/100\n",
            "1760/1760 [==============================] - 1s 830us/step - loss: 3.1357\n",
            "Epoch 82/100\n",
            "1760/1760 [==============================] - 1s 844us/step - loss: 3.1357\n",
            "Epoch 83/100\n",
            "1760/1760 [==============================] - 1s 824us/step - loss: 3.1357\n",
            "Epoch 84/100\n",
            "1760/1760 [==============================] - 1s 822us/step - loss: 3.1357\n",
            "Epoch 85/100\n",
            "1760/1760 [==============================] - 1s 847us/step - loss: 3.1357\n",
            "Epoch 86/100\n",
            "1760/1760 [==============================] - 1s 816us/step - loss: 3.1356\n",
            "Epoch 87/100\n",
            "1760/1760 [==============================] - 2s 853us/step - loss: 3.1356\n",
            "Epoch 88/100\n",
            "1760/1760 [==============================] - 1s 829us/step - loss: 3.1356\n",
            "Epoch 89/100\n",
            "1760/1760 [==============================] - 2s 872us/step - loss: 3.1356\n",
            "Epoch 90/100\n",
            "1760/1760 [==============================] - 1s 817us/step - loss: 3.1356\n",
            "Epoch 91/100\n",
            "1760/1760 [==============================] - 1s 826us/step - loss: 3.1355\n",
            "Epoch 92/100\n",
            "1760/1760 [==============================] - 1s 845us/step - loss: 3.1355\n",
            "Epoch 93/100\n",
            "1760/1760 [==============================] - 1s 834us/step - loss: 3.1355\n",
            "Epoch 94/100\n",
            "1760/1760 [==============================] - 1s 837us/step - loss: 3.1355\n",
            "Epoch 95/100\n",
            "1760/1760 [==============================] - 1s 830us/step - loss: 3.1354\n",
            "Epoch 96/100\n",
            "1760/1760 [==============================] - 1s 834us/step - loss: 3.1354\n",
            "Epoch 97/100\n",
            "1760/1760 [==============================] - 2s 878us/step - loss: 3.1354\n",
            "Epoch 98/100\n",
            "1760/1760 [==============================] - 1s 845us/step - loss: 3.1354\n",
            "Epoch 99/100\n",
            "1760/1760 [==============================] - 1s 810us/step - loss: 3.1353\n",
            "Epoch 100/100\n",
            "1760/1760 [==============================] - 2s 852us/step - loss: 3.1353\n"
          ],
          "name": "stdout"
        }
      ]
    },
    {
      "cell_type": "markdown",
      "metadata": {
        "id": "uRgz65gLwgBL"
      },
      "source": [
        "**Congratulations! training complete! ;)**"
      ]
    },
    {
      "cell_type": "markdown",
      "metadata": {
        "id": "1pFM20ijwadg"
      },
      "source": [
        "Let´s check the architecture of our model"
      ]
    },
    {
      "cell_type": "code",
      "metadata": {
        "id": "90ItJO44RDMm",
        "colab": {
          "base_uri": "https://localhost:8080/"
        },
        "outputId": "a884f5d6-db38-4238-935f-553c8a2fe056"
      },
      "source": [
        "# Show model information\n",
        "nn_model.summary()"
      ],
      "execution_count": 19,
      "outputs": [
        {
          "output_type": "stream",
          "text": [
            "Model: \"sequential\"\n",
            "_________________________________________________________________\n",
            "Layer (type)                 Output Shape              Param #   \n",
            "=================================================================\n",
            "dense (Dense)                (None, 12)                24        \n",
            "_________________________________________________________________\n",
            "dense_1 (Dense)              (None, 1)                 13        \n",
            "=================================================================\n",
            "Total params: 37\n",
            "Trainable params: 37\n",
            "Non-trainable params: 0\n",
            "_________________________________________________________________\n"
          ],
          "name": "stdout"
        }
      ]
    },
    {
      "cell_type": "markdown",
      "metadata": {
        "id": "Vg47lXmVx-e1"
      },
      "source": [
        "Check the **accuracy** on training and test"
      ]
    },
    {
      "cell_type": "code",
      "metadata": {
        "id": "lpeMn8oBm44I",
        "colab": {
          "base_uri": "https://localhost:8080/"
        },
        "outputId": "71d8823d-8df7-4280-c4ea-3a3e5eb4a6f3"
      },
      "source": [
        "y_pred_test_nn = nn_model.predict(X_test)\n",
        "y_train_pred_nn = nn_model.predict(X_train)\n",
        "print(\"The R2 score on the Train set is:\\t{:0.3f}\".format(r2_score(y_train, y_train_pred_nn)))\n",
        "print(\"The R2 score on the Test set is:\\t{:0.3f}\".format(r2_score(y_test, y_pred_test_nn)))"
      ],
      "execution_count": 20,
      "outputs": [
        {
          "output_type": "stream",
          "text": [
            "The R2 score on the Train set is:\t0.871\n",
            "The R2 score on the Test set is:\t0.762\n"
          ],
          "name": "stdout"
        }
      ]
    },
    {
      "cell_type": "markdown",
      "metadata": {
        "id": "PtcnDxRdyQ2Z"
      },
      "source": [
        "### **Long short term memory - LSTM (RNN)**"
      ]
    },
    {
      "cell_type": "markdown",
      "metadata": {
        "id": "XZo-Q10lyfQz"
      },
      "source": [
        "First, we need to preprocess the data"
      ]
    },
    {
      "cell_type": "code",
      "metadata": {
        "id": "7yechc6tnZLs"
      },
      "source": [
        "train_sc_df = pd.DataFrame(train_sc, columns=['Y'], index=train.index)\n",
        "test_sc_df = pd.DataFrame(test_sc, columns=['Y'], index=test.index)\n",
        "\n",
        "for s in range(1,2):\n",
        "    train_sc_df['X_{}'.format(s)] = train_sc_df['Y'].shift(s)\n",
        "    test_sc_df['X_{}'.format(s)] = test_sc_df['Y'].shift(s)\n",
        "\n",
        "X_train = train_sc_df.dropna().drop('Y', axis=1)\n",
        "y_train = train_sc_df.dropna().drop('X_1', axis=1)\n",
        "\n",
        "X_test = test_sc_df.dropna().drop('Y', axis=1)\n",
        "y_test = test_sc_df.dropna().drop('X_1', axis=1)\n",
        "\n",
        "X_train = X_train.values\n",
        "y_train = y_train.values\n",
        "\n",
        "X_test = X_test.values\n",
        "y_test = y_test.values"
      ],
      "execution_count": 21,
      "outputs": []
    },
    {
      "cell_type": "code",
      "metadata": {
        "id": "7fLLoIZ_ndm9",
        "colab": {
          "base_uri": "https://localhost:8080/"
        },
        "outputId": "49b4329f-96e3-4a06-d3f3-a5a9b086ac1f"
      },
      "source": [
        "X_train_lmse = X_train.reshape(X_train.shape[0], X_train.shape[1], 1)\n",
        "X_test_lmse = X_test.reshape(X_test.shape[0], X_test.shape[1], 1)\n",
        "\n",
        "print('Train shape: ', X_train_lmse.shape)\n",
        "print('Test shape: ', X_test_lmse.shape)"
      ],
      "execution_count": 22,
      "outputs": [
        {
          "output_type": "stream",
          "text": [
            "Train shape:  (1760, 1, 1)\n",
            "Test shape:  (306, 1, 1)\n"
          ],
          "name": "stdout"
        }
      ]
    },
    {
      "cell_type": "markdown",
      "metadata": {
        "id": "yNTX5FjzZsNN"
      },
      "source": [
        "Then, we train de LSTM model"
      ]
    },
    {
      "cell_type": "code",
      "metadata": {
        "id": "n5x4TP1BntC1",
        "colab": {
          "base_uri": "https://localhost:8080/"
        },
        "outputId": "f7ee3639-6c29-4085-e54a-c017609e45ce"
      },
      "source": [
        "lstm_model = Sequential()\n",
        "lstm_model.add(LSTM(7, input_shape=(1, X_train_lmse.shape[1]), activation='relu', kernel_initializer='lecun_uniform', return_sequences=False))\n",
        "lstm_model.add(Dense(1))\n",
        "lstm_model.compile(loss='mean_squared_error', optimizer='adam')\n",
        "early_stop = EarlyStopping(monitor='loss', patience=2, verbose=1)\n",
        "history_lstm_model = lstm_model.fit(X_train_lmse, y_train, epochs=100, batch_size=1, verbose=1, shuffle=False)"
      ],
      "execution_count": 23,
      "outputs": [
        {
          "output_type": "stream",
          "text": [
            "Epoch 1/100\n",
            "1760/1760 [==============================] - 3s 1ms/step - loss: 940.0557\n",
            "Epoch 2/100\n",
            "1760/1760 [==============================] - 2s 1ms/step - loss: 7.1345\n",
            "Epoch 3/100\n",
            "1760/1760 [==============================] - 2s 1ms/step - loss: 5.2227\n",
            "Epoch 4/100\n",
            "1760/1760 [==============================] - 2s 1ms/step - loss: 4.7781\n",
            "Epoch 5/100\n",
            "1760/1760 [==============================] - 2s 1ms/step - loss: 4.5394\n",
            "Epoch 6/100\n",
            "1760/1760 [==============================] - 2s 1ms/step - loss: 4.3017\n",
            "Epoch 7/100\n",
            "1760/1760 [==============================] - 2s 1ms/step - loss: 4.0483\n",
            "Epoch 8/100\n",
            "1760/1760 [==============================] - 2s 1ms/step - loss: 3.8548\n",
            "Epoch 9/100\n",
            "1760/1760 [==============================] - 2s 1ms/step - loss: 3.7080\n",
            "Epoch 10/100\n",
            "1760/1760 [==============================] - 2s 1ms/step - loss: 3.5926\n",
            "Epoch 11/100\n",
            "1760/1760 [==============================] - 2s 1ms/step - loss: 3.4995\n",
            "Epoch 12/100\n",
            "1760/1760 [==============================] - 2s 1ms/step - loss: 3.4240\n",
            "Epoch 13/100\n",
            "1760/1760 [==============================] - 2s 1ms/step - loss: 3.3634\n",
            "Epoch 14/100\n",
            "1760/1760 [==============================] - 2s 1ms/step - loss: 3.3154\n",
            "Epoch 15/100\n",
            "1760/1760 [==============================] - 2s 1ms/step - loss: 3.2781\n",
            "Epoch 16/100\n",
            "1760/1760 [==============================] - 2s 1ms/step - loss: 3.2494\n",
            "Epoch 17/100\n",
            "1760/1760 [==============================] - 2s 1ms/step - loss: 3.2275\n",
            "Epoch 18/100\n",
            "1760/1760 [==============================] - 2s 1ms/step - loss: 3.2106\n",
            "Epoch 19/100\n",
            "1760/1760 [==============================] - 2s 1ms/step - loss: 3.1976\n",
            "Epoch 20/100\n",
            "1760/1760 [==============================] - 2s 1ms/step - loss: 3.1875\n",
            "Epoch 21/100\n",
            "1760/1760 [==============================] - 2s 1ms/step - loss: 3.1795\n",
            "Epoch 22/100\n",
            "1760/1760 [==============================] - 2s 1ms/step - loss: 3.1732\n",
            "Epoch 23/100\n",
            "1760/1760 [==============================] - 2s 1ms/step - loss: 3.1681\n",
            "Epoch 24/100\n",
            "1760/1760 [==============================] - 2s 1ms/step - loss: 3.1639\n",
            "Epoch 25/100\n",
            "1760/1760 [==============================] - 2s 1ms/step - loss: 3.1604\n",
            "Epoch 26/100\n",
            "1760/1760 [==============================] - 2s 1ms/step - loss: 3.1575\n",
            "Epoch 27/100\n",
            "1760/1760 [==============================] - 2s 1ms/step - loss: 3.1550\n",
            "Epoch 28/100\n",
            "1760/1760 [==============================] - 2s 1ms/step - loss: 3.1529\n",
            "Epoch 29/100\n",
            "1760/1760 [==============================] - 2s 1ms/step - loss: 3.1510\n",
            "Epoch 30/100\n",
            "1760/1760 [==============================] - 2s 1ms/step - loss: 3.1494\n",
            "Epoch 31/100\n",
            "1760/1760 [==============================] - 2s 1ms/step - loss: 3.1479\n",
            "Epoch 32/100\n",
            "1760/1760 [==============================] - 2s 1ms/step - loss: 3.1466\n",
            "Epoch 33/100\n",
            "1760/1760 [==============================] - 2s 1ms/step - loss: 3.1454\n",
            "Epoch 34/100\n",
            "1760/1760 [==============================] - 2s 1ms/step - loss: 3.1443\n",
            "Epoch 35/100\n",
            "1760/1760 [==============================] - 2s 1ms/step - loss: 3.1433\n",
            "Epoch 36/100\n",
            "1760/1760 [==============================] - 2s 1ms/step - loss: 3.1424\n",
            "Epoch 37/100\n",
            "1760/1760 [==============================] - 2s 1ms/step - loss: 3.1415\n",
            "Epoch 38/100\n",
            "1760/1760 [==============================] - 2s 1ms/step - loss: 3.1407\n",
            "Epoch 39/100\n",
            "1760/1760 [==============================] - 2s 1ms/step - loss: 3.1399\n",
            "Epoch 40/100\n",
            "1760/1760 [==============================] - 2s 1ms/step - loss: 3.1391\n",
            "Epoch 41/100\n",
            "1760/1760 [==============================] - 2s 1ms/step - loss: 3.1384\n",
            "Epoch 42/100\n",
            "1760/1760 [==============================] - 2s 1ms/step - loss: 3.1377\n",
            "Epoch 43/100\n",
            "1760/1760 [==============================] - 2s 1ms/step - loss: 3.1370\n",
            "Epoch 44/100\n",
            "1760/1760 [==============================] - 2s 1ms/step - loss: 3.1363\n",
            "Epoch 45/100\n",
            "1760/1760 [==============================] - 2s 1ms/step - loss: 3.1357\n",
            "Epoch 46/100\n",
            "1760/1760 [==============================] - 2s 1ms/step - loss: 3.1351\n",
            "Epoch 47/100\n",
            "1760/1760 [==============================] - 2s 1ms/step - loss: 3.1344\n",
            "Epoch 48/100\n",
            "1760/1760 [==============================] - 2s 1ms/step - loss: 3.1338\n",
            "Epoch 49/100\n",
            "1760/1760 [==============================] - 2s 1ms/step - loss: 3.1332\n",
            "Epoch 50/100\n",
            "1760/1760 [==============================] - 2s 1ms/step - loss: 3.1326\n",
            "Epoch 51/100\n",
            "1760/1760 [==============================] - 2s 1ms/step - loss: 3.1321\n",
            "Epoch 52/100\n",
            "1760/1760 [==============================] - 2s 1ms/step - loss: 3.1315\n",
            "Epoch 53/100\n",
            "1760/1760 [==============================] - 2s 1ms/step - loss: 3.1309\n",
            "Epoch 54/100\n",
            "1760/1760 [==============================] - 2s 1ms/step - loss: 3.1303\n",
            "Epoch 55/100\n",
            "1760/1760 [==============================] - 3s 2ms/step - loss: 3.1298\n",
            "Epoch 56/100\n",
            "1760/1760 [==============================] - 2s 1ms/step - loss: 3.1292\n",
            "Epoch 57/100\n",
            "1760/1760 [==============================] - 2s 1ms/step - loss: 3.1287\n",
            "Epoch 58/100\n",
            "1760/1760 [==============================] - 2s 1ms/step - loss: 3.1281\n",
            "Epoch 59/100\n",
            "1760/1760 [==============================] - 2s 1ms/step - loss: 3.1275\n",
            "Epoch 60/100\n",
            "1760/1760 [==============================] - 2s 1ms/step - loss: 3.1270\n",
            "Epoch 61/100\n",
            "1760/1760 [==============================] - 2s 1ms/step - loss: 3.1265\n",
            "Epoch 62/100\n",
            "1760/1760 [==============================] - 2s 1ms/step - loss: 3.1259\n",
            "Epoch 63/100\n",
            "1760/1760 [==============================] - 2s 1ms/step - loss: 3.1254\n",
            "Epoch 64/100\n",
            "1760/1760 [==============================] - 2s 1ms/step - loss: 3.1248\n",
            "Epoch 65/100\n",
            "1760/1760 [==============================] - 2s 1ms/step - loss: 3.1243\n",
            "Epoch 66/100\n",
            "1760/1760 [==============================] - 2s 1ms/step - loss: 3.1238\n",
            "Epoch 67/100\n",
            "1760/1760 [==============================] - 2s 1ms/step - loss: 3.1232\n",
            "Epoch 68/100\n",
            "1760/1760 [==============================] - 2s 1ms/step - loss: 3.1227\n",
            "Epoch 69/100\n",
            "1760/1760 [==============================] - 2s 1ms/step - loss: 3.1222\n",
            "Epoch 70/100\n",
            "1760/1760 [==============================] - 2s 1ms/step - loss: 3.1216\n",
            "Epoch 71/100\n",
            "1760/1760 [==============================] - 2s 1ms/step - loss: 3.1211\n",
            "Epoch 72/100\n",
            "1760/1760 [==============================] - 2s 1ms/step - loss: 3.1206\n",
            "Epoch 73/100\n",
            "1760/1760 [==============================] - 2s 1ms/step - loss: 3.1200\n",
            "Epoch 74/100\n",
            "1760/1760 [==============================] - 2s 1ms/step - loss: 3.1195\n",
            "Epoch 75/100\n",
            "1760/1760 [==============================] - 2s 1ms/step - loss: 3.1190\n",
            "Epoch 76/100\n",
            "1760/1760 [==============================] - 2s 1ms/step - loss: 3.1185\n",
            "Epoch 77/100\n",
            "1760/1760 [==============================] - 2s 1ms/step - loss: 3.1179\n",
            "Epoch 78/100\n",
            "1760/1760 [==============================] - 2s 1ms/step - loss: 3.1174\n",
            "Epoch 79/100\n",
            "1760/1760 [==============================] - 2s 1ms/step - loss: 3.1169\n",
            "Epoch 80/100\n",
            "1760/1760 [==============================] - 2s 1ms/step - loss: 3.1164\n",
            "Epoch 81/100\n",
            "1760/1760 [==============================] - 2s 1ms/step - loss: 3.1158\n",
            "Epoch 82/100\n",
            "1760/1760 [==============================] - 2s 1ms/step - loss: 3.1153\n",
            "Epoch 83/100\n",
            "1760/1760 [==============================] - 2s 1ms/step - loss: 3.1148\n",
            "Epoch 84/100\n",
            "1760/1760 [==============================] - 2s 1ms/step - loss: 3.1143\n",
            "Epoch 85/100\n",
            "1760/1760 [==============================] - 2s 1ms/step - loss: 3.1138\n",
            "Epoch 86/100\n",
            "1760/1760 [==============================] - 2s 1ms/step - loss: 3.1132\n",
            "Epoch 87/100\n",
            "1760/1760 [==============================] - 2s 1ms/step - loss: 3.1127\n",
            "Epoch 88/100\n",
            "1760/1760 [==============================] - 2s 1ms/step - loss: 3.1122\n",
            "Epoch 89/100\n",
            "1760/1760 [==============================] - 2s 1ms/step - loss: 3.1117\n",
            "Epoch 90/100\n",
            "1760/1760 [==============================] - 3s 1ms/step - loss: 3.1112\n",
            "Epoch 91/100\n",
            "1760/1760 [==============================] - 3s 2ms/step - loss: 3.1107\n",
            "Epoch 92/100\n",
            "1760/1760 [==============================] - 3s 2ms/step - loss: 3.1102\n",
            "Epoch 93/100\n",
            "1760/1760 [==============================] - 3s 2ms/step - loss: 3.1096\n",
            "Epoch 94/100\n",
            "1760/1760 [==============================] - 3s 2ms/step - loss: 3.1091\n",
            "Epoch 95/100\n",
            "1760/1760 [==============================] - 3s 1ms/step - loss: 3.1086\n",
            "Epoch 96/100\n",
            "1760/1760 [==============================] - 2s 1ms/step - loss: 3.1081\n",
            "Epoch 97/100\n",
            "1760/1760 [==============================] - 2s 1ms/step - loss: 3.1076\n",
            "Epoch 98/100\n",
            "1760/1760 [==============================] - 2s 1ms/step - loss: 3.1071\n",
            "Epoch 99/100\n",
            "1760/1760 [==============================] - 2s 1ms/step - loss: 3.1066\n",
            "Epoch 100/100\n",
            "1760/1760 [==============================] - 2s 1ms/step - loss: 3.1061\n"
          ],
          "name": "stdout"
        }
      ]
    },
    {
      "cell_type": "code",
      "metadata": {
        "id": "Ff5yP43izT1g",
        "colab": {
          "base_uri": "https://localhost:8080/"
        },
        "outputId": "65ac2a19-2c82-4bad-f2b6-4081a09a0a4f"
      },
      "source": [
        "# Show model information\n",
        "lstm_model.summary()"
      ],
      "execution_count": 24,
      "outputs": [
        {
          "output_type": "stream",
          "text": [
            "Model: \"sequential_1\"\n",
            "_________________________________________________________________\n",
            "Layer (type)                 Output Shape              Param #   \n",
            "=================================================================\n",
            "lstm (LSTM)                  (None, 7)                 252       \n",
            "_________________________________________________________________\n",
            "dense_2 (Dense)              (None, 1)                 8         \n",
            "=================================================================\n",
            "Total params: 260\n",
            "Trainable params: 260\n",
            "Non-trainable params: 0\n",
            "_________________________________________________________________\n"
          ],
          "name": "stdout"
        }
      ]
    },
    {
      "cell_type": "markdown",
      "metadata": {
        "id": "OZwJQBGazlV1"
      },
      "source": [
        "And check the new **accuracy**"
      ]
    },
    {
      "cell_type": "code",
      "metadata": {
        "id": "-8X9V2dkn8D0",
        "colab": {
          "base_uri": "https://localhost:8080/"
        },
        "outputId": "ad294cd3-2d29-4f64-e621-858a024054b5"
      },
      "source": [
        "y_pred_test_lstm = lstm_model.predict(X_test_lmse)\n",
        "y_train_pred_lstm = lstm_model.predict(X_train_lmse)\n",
        "print(\"The R2 score on the Train set is:\\t{:0.3f}\".format(r2_score(y_train, y_train_pred_lstm)))\n",
        "print(\"The R2 score on the Test set is:\\t{:0.3f}\".format(r2_score(y_test, y_pred_test_lstm)))"
      ],
      "execution_count": 25,
      "outputs": [
        {
          "output_type": "stream",
          "text": [
            "The R2 score on the Train set is:\t0.845\n",
            "The R2 score on the Test set is:\t0.777\n"
          ],
          "name": "stdout"
        }
      ]
    },
    {
      "cell_type": "code",
      "metadata": {
        "id": "lx8ELJWFoHIq",
        "colab": {
          "base_uri": "https://localhost:8080/"
        },
        "outputId": "5447fbd5-9e4e-45b3-c172-afdf77b4cd0c"
      },
      "source": [
        "nn_test_mse = nn_model.evaluate(X_test, y_test, batch_size=1)\n",
        "lstm_test_mse = lstm_model.evaluate(X_test_lmse, y_test, batch_size=1)\n",
        "print('NN: %f'%nn_test_mse)\n",
        "print('LSTM: %f'%lstm_test_mse)"
      ],
      "execution_count": 26,
      "outputs": [
        {
          "output_type": "stream",
          "text": [
            "306/306 [==============================] - 0s 736us/step - loss: 5.3284\n",
            "306/306 [==============================] - 0s 882us/step - loss: 4.9955\n",
            "NN: 5.328382\n",
            "LSTM: 4.995488\n"
          ],
          "name": "stdout"
        }
      ]
    },
    {
      "cell_type": "code",
      "metadata": {
        "id": "KEaLGCIWoK9s"
      },
      "source": [
        "nn_y_pred_test = nn_model.predict(X_test)\n",
        "lstm_y_pred_test = lstm_model.predict(X_test_lmse)"
      ],
      "execution_count": 27,
      "outputs": []
    },
    {
      "cell_type": "markdown",
      "metadata": {
        "id": "1fP475zlz6mV"
      },
      "source": [
        "## Plotting results"
      ]
    },
    {
      "cell_type": "code",
      "metadata": {
        "id": "BEXBmlKcoN9E",
        "colab": {
          "base_uri": "https://localhost:8080/",
          "height": 404
        },
        "outputId": "931d96b7-4ee3-4379-dfa1-97194d0ccd11"
      },
      "source": [
        "plt.figure(figsize=(10, 6))\n",
        "plt.plot(y_test, label='True')\n",
        "plt.plot(y_pred_test_nn, label='NN')\n",
        "plt.title(\"NN's Prediction\")\n",
        "plt.xlabel('Observation')\n",
        "plt.ylabel('Adj Close Scaled')\n",
        "plt.legend()\n",
        "plt.show();"
      ],
      "execution_count": 28,
      "outputs": [
        {
          "output_type": "display_data",
          "data": {
            "image/png": "[encoded data removed]",
            "text/plain": [
              "<Figure size 720x432 with 1 Axes>"
            ]
          },
          "metadata": {
            "tags": [],
            "needs_background": "light"
          }
        }
      ]
    },
    {
      "cell_type": "code",
      "metadata": {
        "id": "N6BYDKNroSHD",
        "colab": {
          "base_uri": "https://localhost:8080/",
          "height": 404
        },
        "outputId": "a52ccc2f-6a67-46e0-af30-fef925220645"
      },
      "source": [
        "plt.figure(figsize=(10, 6))\n",
        "plt.plot(y_test, label='True')\n",
        "plt.plot(y_pred_test_lstm, label='LSTM')\n",
        "plt.title(\"LSTM's Prediction\")\n",
        "plt.xlabel('Observation')\n",
        "plt.ylabel('Adj Close scaled')\n",
        "plt.legend()\n",
        "plt.show();"
      ],
      "execution_count": 29,
      "outputs": [
        {
          "output_type": "display_data",
          "data": {
            "image/png": "[encoded data removed]",
            "text/plain": [
              "<Figure size 720x432 with 1 Axes>"
            ]
          },
          "metadata": {
            "tags": [],
            "needs_background": "light"
          }
        }
      ]
    },
    {
      "cell_type": "markdown",
      "metadata": {
        "id": "XUWOcezs0Jlx"
      },
      "source": [
        "# **WELCOME TO THE DEEP LEARNING WORLD** ;)"
      ]
    }
  ]
}
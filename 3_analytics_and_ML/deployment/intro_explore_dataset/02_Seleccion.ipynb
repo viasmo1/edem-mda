{
 "cells": [
  {
   "cell_type": "markdown",
   "metadata": {},
   "source": [
    "## SELECCIÓN DE VARIABLES\n",
    "\n",
    "En este código se usa el método de regresión de Lasso para seleccionar variables. Se guardará el listado de variables seleccionadas en un archivo .csv"
   ]
  },
  {
   "cell_type": "code",
   "execution_count": 1,
   "metadata": {},
   "outputs": [],
   "source": [
    "# Manejo de los datos\n",
    "import pandas as pd\n",
    "import numpy as np\n",
    "\n",
    "# Representación gráfica\n",
    "import matplotlib.pyplot as plt\n",
    "\n",
    "# Modelos\n",
    "from sklearn.linear_model import Lasso\n",
    "from sklearn.feature_selection import SelectFromModel\n",
    "\n",
    "# Visualización de todas las columnas del banco de datos\n",
    "pd.pandas.set_option('display.max_columns', None)"
   ]
  },
  {
   "cell_type": "code",
   "execution_count": 2,
   "metadata": {},
   "outputs": [],
   "source": [
    "#Ingesta de datos: cargamos los datos resultantes del código anterior \"Procesado\"\n",
    "\n",
    "X_train = pd.read_csv('xtrain.csv')\n",
    "X_test = pd.read_csv('xtest.csv')\n",
    "\n",
    "#Visualización\n",
    "#X_train.head()"
   ]
  },
  {
   "cell_type": "code",
   "execution_count": 3,
   "metadata": {},
   "outputs": [],
   "source": [
    "# Variable endógnea (objetivo, target)\n",
    "y_train = X_train['SalePrice']\n",
    "y_test = X_test['SalePrice']\n",
    "\n",
    "# Descartamos la variable ID en ambos conjuntos de datos.\n",
    "X_train.drop(['Id', 'SalePrice'], axis=1, inplace=True)\n",
    "X_test.drop(['Id', 'SalePrice'], axis=1, inplace=True)"
   ]
  },
  {
   "cell_type": "markdown",
   "metadata": {},
   "source": [
    "### Selección de variables\n",
    "\n",
    "<b>Es importante establecer la semilla.</b>"
   ]
  },
  {
   "cell_type": "code",
   "execution_count": 4,
   "metadata": {
    "scrolled": true
   },
   "outputs": [
    {
     "data": {
      "text/plain": [
       "SelectFromModel(estimator=Lasso(alpha=0.005, copy_X=True, fit_intercept=True,\n",
       "                                max_iter=1000, normalize=False, positive=False,\n",
       "                                precompute=False, random_state=0,\n",
       "                                selection='cyclic', tol=0.0001,\n",
       "                                warm_start=False),\n",
       "                max_features=None, norm_order=1, prefit=False, threshold=None)"
      ]
     },
     "execution_count": 4,
     "metadata": {},
     "output_type": "execute_result"
    }
   ],
   "source": [
    "#Especificación del modelo de regresión Lasso\n",
    "sel_ = SelectFromModel(Lasso(alpha=0.005, \n",
    "                             random_state=0) #SET THE SEED!!!\n",
    "                      )\n",
    "\n",
    "#El valor de alpha se establece por convención. \n",
    "#A mayor valor, menor número de variables seleccionadas.\n",
    "\n",
    "#Ajuste y selección de variables (Aquellas cuyo coeficiente no es cero tras el ajuste)\n",
    "sel_.fit(X_train, y_train)"
   ]
  },
  {
   "cell_type": "code",
   "execution_count": 5,
   "metadata": {},
   "outputs": [
    {
     "data": {
      "text/plain": [
       "array([False,  True, False,  True, False, False, False, False, False,\n",
       "       False, False, False, False, False, False, False, False, False,\n",
       "       False, False, False, False, False, False, False, False, False,\n",
       "       False, False, False, False, False, False, False, False, False,\n",
       "       False, False, False, False, False, False, False, False, False,\n",
       "       False, False, False, False, False,  True, False, False, False,\n",
       "       False, False, False, False, False, False, False, False, False,\n",
       "       False, False, False, False, False, False, False, False, False,\n",
       "       False, False, False, False, False, False, False, False, False,\n",
       "       False, False, False, False, False, False, False, False, False])"
      ]
     },
     "execution_count": 5,
     "metadata": {},
     "output_type": "execute_result"
    }
   ],
   "source": [
    "#Visualización del array de selección como resultado del ajuste\n",
    "\n",
    "sel_.get_support()"
   ]
  },
  {
   "cell_type": "code",
   "execution_count": 6,
   "metadata": {},
   "outputs": [
    {
     "name": "stdout",
     "output_type": "stream",
     "text": [
      "Total: 90\n",
      "Seleccionadas: 3\n",
      "Con coeficiente nulo: 87\n"
     ]
    }
   ],
   "source": [
    "# Lista de las variables seleccionadas\n",
    "selected_feats = X_train.columns[(sel_.get_support())]\n",
    "\n",
    "print(\n",
    "    'Total: {}'.format(\n",
    "        (X_train.shape[1])\n",
    "    )\n",
    ")\n",
    "\n",
    "print(\n",
    "    'Seleccionadas: {}'.format(\n",
    "        len(selected_feats)\n",
    "    )\n",
    ")\n",
    "\n",
    "print('Con coeficiente nulo: {}'.format(\n",
    "    np.sum(sel_.estimator_.coef_ == 0)\n",
    "    )\n",
    ")"
   ]
  },
  {
   "cell_type": "code",
   "execution_count": 7,
   "metadata": {},
   "outputs": [
    {
     "data": {
      "text/plain": [
       "Index(['MSZoning', 'LotArea', 'BedroomAbvGr'], dtype='object')"
      ]
     },
     "execution_count": 7,
     "metadata": {},
     "output_type": "execute_result"
    }
   ],
   "source": [
    "selected_feats"
   ]
  },
  {
   "cell_type": "code",
   "execution_count": 8,
   "metadata": {},
   "outputs": [
    {
     "name": "stdout",
     "output_type": "stream",
     "text": [
      "Listado Index(['MSZoning', 'LotArea', 'BedroomAbvGr'], dtype='object')\n"
     ]
    }
   ],
   "source": [
    "# print the selected features\n",
    "print(f\"Listado {selected_feats}\")\n",
    "\n",
    "#Próxima versión del ejercicio, actualizar a PEP8 para Python >3.6, tal como se ha hecho aquí."
   ]
  },
  {
   "cell_type": "markdown",
   "metadata": {},
   "source": [
    "### Backup del listado de variables seleccionadas"
   ]
  },
  {
   "cell_type": "code",
   "execution_count": 9,
   "metadata": {},
   "outputs": [],
   "source": [
    "pd.Series(selected_feats).to_csv('selected_features.csv', index=False)"
   ]
  }
 ],
 "metadata": {
  "kernelspec": {
   "display_name": "Python 3",
   "language": "python",
   "name": "python3"
  },
  "language_info": {
   "codemirror_mode": {
    "name": "ipython",
    "version": 3
   },
   "file_extension": ".py",
   "mimetype": "text/x-python",
   "name": "python",
   "nbconvert_exporter": "python",
   "pygments_lexer": "ipython3",
   "version": "3.7.6"
  },
  "toc": {
   "nav_menu": {},
   "number_sections": true,
   "sideBar": true,
   "skip_h1_title": false,
   "toc_cell": false,
   "toc_position": {
    "height": "583px",
    "left": "0px",
    "right": "1324px",
    "top": "107px",
    "width": "212px"
   },
   "toc_section_display": "block",
   "toc_window_display": true
  }
 },
 "nbformat": 4,
 "nbformat_minor": 2
}

{
 "cells": [
  {
   "cell_type": "markdown",
   "metadata": {},
   "source": [
    "## Modelización\n",
    "\n",
    "Con este código: Se entrena un modelo lineal de aprendizaje automático (machine learning) utilizando las variables seleccionadas en el código anterior (Selección).\n",
    "\n",
    "<b>Es importante establecer la semilla</b> para poder reproducir el ajuste (entrenamiento) del modelo."
   ]
  },
  {
   "cell_type": "code",
   "execution_count": 20,
   "metadata": {},
   "outputs": [],
   "source": [
    "# Manejo de datos\n",
    "import pandas as pd\n",
    "import numpy as np\n",
    "\n",
    "# Representación gráfica\n",
    "import matplotlib.pyplot as plt\n",
    "\n",
    "# Modelización\n",
    "from sklearn.linear_model import Lasso #Ajuste\n",
    "from sklearn.metrics import mean_squared_error, r2_score #Evaluación\n",
    "from math import sqrt #Evaluación\n",
    "\n",
    "#Test de normalidad\n",
    "import scipy as scipy\n",
    "\n",
    "# Visualización de todas las columnas del banco de datos\n",
    "pd.pandas.set_option('display.max_columns', None)"
   ]
  },
  {
   "cell_type": "code",
   "execution_count": 2,
   "metadata": {},
   "outputs": [],
   "source": [
    "#Ingesta de datos: se cargan los datos resultantes del \"Procesado\"\n",
    "X_train = pd.read_csv('xtrain.csv')\n",
    "X_test = pd.read_csv('xtest.csv')\n",
    "\n",
    "#Visualización\n",
    "#X_train.head()"
   ]
  },
  {
   "cell_type": "code",
   "execution_count": 3,
   "metadata": {},
   "outputs": [],
   "source": [
    "# Variable endógnea (objetivo, target)\n",
    "\n",
    "y_train = X_train['SalePrice']\n",
    "y_test = X_test['SalePrice']"
   ]
  },
  {
   "cell_type": "code",
   "execution_count": 4,
   "metadata": {},
   "outputs": [
    {
     "name": "stdout",
     "output_type": "stream",
     "text": [
      "Variables: ['MSZoning', 'LotArea', 'BedroomAbvGr', 'LotFrontage']\n"
     ]
    },
    {
     "data": {
      "text/html": [
       "<div>\n",
       "<style scoped>\n",
       "    .dataframe tbody tr th:only-of-type {\n",
       "        vertical-align: middle;\n",
       "    }\n",
       "\n",
       "    .dataframe tbody tr th {\n",
       "        vertical-align: top;\n",
       "    }\n",
       "\n",
       "    .dataframe thead th {\n",
       "        text-align: right;\n",
       "    }\n",
       "</style>\n",
       "<table border=\"1\" class=\"dataframe\">\n",
       "  <thead>\n",
       "    <tr style=\"text-align: right;\">\n",
       "      <th></th>\n",
       "      <th>MSZoning</th>\n",
       "      <th>LotArea</th>\n",
       "      <th>BedroomAbvGr</th>\n",
       "      <th>LotFrontage</th>\n",
       "    </tr>\n",
       "  </thead>\n",
       "  <tbody>\n",
       "    <tr>\n",
       "      <th>0</th>\n",
       "      <td>1.0</td>\n",
       "      <td>0.393847</td>\n",
       "      <td>0.666667</td>\n",
       "      <td>0.393693</td>\n",
       "    </tr>\n",
       "    <tr>\n",
       "      <th>1</th>\n",
       "      <td>1.0</td>\n",
       "      <td>0.518055</td>\n",
       "      <td>0.500000</td>\n",
       "      <td>0.564810</td>\n",
       "    </tr>\n",
       "    <tr>\n",
       "      <th>2</th>\n",
       "      <td>1.0</td>\n",
       "      <td>0.467060</td>\n",
       "      <td>0.166667</td>\n",
       "      <td>0.465802</td>\n",
       "    </tr>\n",
       "    <tr>\n",
       "      <th>3</th>\n",
       "      <td>0.0</td>\n",
       "      <td>0.322136</td>\n",
       "      <td>0.333333</td>\n",
       "      <td>0.465802</td>\n",
       "    </tr>\n",
       "    <tr>\n",
       "      <th>4</th>\n",
       "      <td>1.0</td>\n",
       "      <td>0.468075</td>\n",
       "      <td>0.333333</td>\n",
       "      <td>0.465802</td>\n",
       "    </tr>\n",
       "  </tbody>\n",
       "</table>\n",
       "</div>"
      ],
      "text/plain": [
       "   MSZoning   LotArea  BedroomAbvGr  LotFrontage\n",
       "0       1.0  0.393847      0.666667     0.393693\n",
       "1       1.0  0.518055      0.500000     0.564810\n",
       "2       1.0  0.467060      0.166667     0.465802\n",
       "3       0.0  0.322136      0.333333     0.465802\n",
       "4       1.0  0.468075      0.333333     0.465802"
      ]
     },
     "execution_count": 4,
     "metadata": {},
     "output_type": "execute_result"
    }
   ],
   "source": [
    "# Variables exógenas (predictoras) seleccionadas: se cargan del archivo resultante del código de \"Selección\"\n",
    "\n",
    "features = pd.read_csv('selected_features.csv')\n",
    "features = features['0'].to_list() \n",
    "# Añadims una...\n",
    "features = features + ['LotFrontage'] \n",
    "\n",
    "# Visualización\n",
    "#print(features)\n",
    "print(f\"Variables: {features}\")\n",
    "X_test.head()"
   ]
  },
  {
   "cell_type": "code",
   "execution_count": null,
   "metadata": {},
   "outputs": [],
   "source": [
    "# Se descarta el resto de variables\n",
    "X_train = X_train[features]\n",
    "X_test = X_test[features]"
   ]
  },
  {
   "cell_type": "markdown",
   "metadata": {},
   "source": [
    "### Regresión lineal de Lasso\n",
    "\n",
    "<b>¡No olvidar, establecer la semilla!</b>"
   ]
  },
  {
   "cell_type": "code",
   "execution_count": 5,
   "metadata": {},
   "outputs": [
    {
     "data": {
      "text/plain": [
       "Lasso(alpha=0.005, copy_X=True, fit_intercept=True, max_iter=1000,\n",
       "      normalize=False, positive=False, precompute=False, random_state=0,\n",
       "      selection='cyclic', tol=0.0001, warm_start=False)"
      ]
     },
     "execution_count": 5,
     "metadata": {},
     "output_type": "execute_result"
    }
   ],
   "source": [
    "# Modelo, asjutando el valor alpha y la semilla:\n",
    "lin_model = Lasso(alpha=0.005, random_state=0)\n",
    "\n",
    "# Entrenamiento del modelo:\n",
    "lin_model.fit(X_train, y_train)"
   ]
  },
  {
   "cell_type": "markdown",
   "metadata": {},
   "source": [
    "### Evaluación de la capacidad predictiva del modelo"
   ]
  },
  {
   "cell_type": "code",
   "execution_count": 11,
   "metadata": {},
   "outputs": [
    {
     "name": "stdout",
     "output_type": "stream",
     "text": [
      "train mse: 107059985\n",
      "train rmse: 10346\n",
      "train r2: 0.6178712765364902\n",
      "\n"
     ]
    }
   ],
   "source": [
    "# Predicciones con el set de entrenamiento\n",
    "pred = lin_model.predict(X_train)\n",
    "\n",
    "# Medidas de precisión:\n",
    "\n",
    "#Mean Sqared Standard Error\n",
    "print('train mse: {}'.format(int(\n",
    "    mean_squared_error(np.exp(y_train), np.exp(pred)))))\n",
    "# Mean Standard Error\n",
    "print('train rmse: {}'.format(int(\n",
    "    sqrt(mean_squared_error(np.exp(y_train), np.exp(pred))))))\n",
    "\n",
    "\n",
    "# Medida de bondad de ajuste\n",
    "\n",
    "#R-Squared\n",
    "print('train r2: {}'.format(\n",
    "    r2_score(np.exp(y_train), np.exp(pred))))\n",
    "print()"
   ]
  },
  {
   "cell_type": "code",
   "execution_count": 13,
   "metadata": {},
   "outputs": [
    {
     "name": "stdout",
     "output_type": "stream",
     "text": [
      "test mse: 68174255\n",
      "test rmse: 8256\n",
      "test r2: 0.667605006163563\n",
      "\n",
      "Precio medio:  179074\n"
     ]
    }
   ],
   "source": [
    "# Predicciones con el set de prueba\n",
    "pred = lin_model.predict(X_test)\n",
    "\n",
    "# Medidas de precisión:\n",
    "\n",
    "#Mean Sqared Standard Error\n",
    "print('test mse: {}'.format(int(\n",
    "    mean_squared_error(np.exp(y_test), np.exp(pred)))))\n",
    "# Mean Standard Error\n",
    "print('test rmse: {}'.format(int(\n",
    "    sqrt(mean_squared_error(np.exp(y_test), np.exp(pred))))))\n",
    "\n",
    "# Medida de bondad de ajuste\n",
    "\n",
    "#R-Squared\n",
    "print('test r2: {}'.format(\n",
    "    r2_score(np.exp(y_test), np.exp(pred))))\n",
    "print()\n",
    "\n",
    "print('Precio medio: ', int(np.exp(y_train).median()))"
   ]
  },
  {
   "cell_type": "code",
   "execution_count": 15,
   "metadata": {},
   "outputs": [
    {
     "data": {
      "text/plain": [
       "Text(0.5, 1.0, 'Evaluación de las predicciones')"
      ]
     },
     "execution_count": 15,
     "metadata": {},
     "output_type": "execute_result"
    },
    {
     "data": {
      "image/png": "[encoded data removed]",
      "text/plain": [
       "<Figure size 432x288 with 1 Axes>"
      ]
     },
     "metadata": {
      "needs_background": "light"
     },
     "output_type": "display_data"
    }
   ],
   "source": [
    "# Evaluación gráfica\n",
    "plt.scatter(y_test, lin_model.predict(X_test))\n",
    "plt.xlabel('Precio real')\n",
    "plt.ylabel('Predicción')\n",
    "plt.title('Evaluación de las predicciones')"
   ]
  },
  {
   "cell_type": "code",
   "execution_count": 28,
   "metadata": {},
   "outputs": [
    {
     "data": {
      "text/plain": [
       "NormaltestResult(statistic=0.11934793658012041, pvalue=0.9420716287441536)"
      ]
     },
     "execution_count": 28,
     "metadata": {},
     "output_type": "execute_result"
    },
    {
     "data": {
      "image/png": "[encoded data removed]",
      "text/plain": [
       "<Figure size 432x288 with 1 Axes>"
      ]
     },
     "metadata": {
      "needs_background": "light"
     },
     "output_type": "display_data"
    }
   ],
   "source": [
    "# Distribución de los errores\n",
    "\n",
    "errors = y_test - lin_model.predict(X_test)\n",
    "errors.hist(bins=30)\n",
    "\n",
    "# Test de normalidad de los errores\n",
    "p_bart = scipy.stats.normaltest(errors)\n",
    "p_bart"
   ]
  },
  {
   "cell_type": "markdown",
   "metadata": {},
   "source": [
    "### Capacidad predictiva de las variables exógenas"
   ]
  },
  {
   "cell_type": "code",
   "execution_count": 30,
   "metadata": {},
   "outputs": [
    {
     "data": {
      "text/plain": [
       "Text(0.5, 1.0, 'Capacidad explicativa')"
      ]
     },
     "execution_count": 30,
     "metadata": {},
     "output_type": "execute_result"
    },
    {
     "data": {
      "image/png": "[encoded data removed]",
      "text/plain": [
       "<Figure size 1296x432 with 1 Axes>"
      ]
     },
     "metadata": {
      "needs_background": "light"
     },
     "output_type": "display_data"
    }
   ],
   "source": [
    "importance = pd.Series(np.abs(lin_model.coef_.ravel()))\n",
    "importance.index = features\n",
    "importance.sort_values(inplace=True, ascending=False)\n",
    "importance.plot.bar(figsize=(18,6))\n",
    "plt.ylabel('Coeficientes Lasso')\n",
    "plt.title('Capacidad explicativa')"
   ]
  }
 ],
 "metadata": {
  "kernelspec": {
   "display_name": "Python 3",
   "language": "python",
   "name": "python3"
  },
  "language_info": {
   "codemirror_mode": {
    "name": "ipython",
    "version": 3
   },
   "file_extension": ".py",
   "mimetype": "text/x-python",
   "name": "python",
   "nbconvert_exporter": "python",
   "pygments_lexer": "ipython3",
   "version": "3.7.6"
  },
  "toc": {
   "nav_menu": {},
   "number_sections": true,
   "sideBar": true,
   "skip_h1_title": false,
   "toc_cell": false,
   "toc_position": {
    "height": "583px",
    "left": "0px",
    "right": "1324px",
    "top": "107px",
    "width": "212px"
   },
   "toc_section_display": "block",
   "toc_window_display": true
  }
 },
 "nbformat": 4,
 "nbformat_minor": 2
}

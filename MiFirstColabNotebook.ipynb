{
  "nbformat": 4,
  "nbformat_minor": 0,
  "metadata": {
    "colab": {
      "name": "Untitled0.ipynb",
      "provenance": [],
      "authorship_tag": "ABX9TyNDkkHHO5vYF3Q10zMKI8S7",
      "include_colab_link": true
    },
    "kernelspec": {
      "name": "python3",
      "display_name": "Python 3"
    }
  },
  "cells": [
    {
      "cell_type": "markdown",
      "metadata": {
        "id": "view-in-github",
        "colab_type": "text"
      },
      "source": [
        "<a href=\"https://colab.research.google.com/github/viasmo1/mda/blob/master/MiFirstColabNotebook.ipynb\" target=\"_parent\"><img src=\"https://colab.research.google.com/assets/colab-badge.svg\" alt=\"Open In Colab\"/></a>"
      ]
    },
    {
      "cell_type": "markdown",
      "metadata": {
        "id": "NoGtMW-5wEyE"
      },
      "source": [
        "#My First Colab Notebook"
      ]
    },
    {
      "cell_type": "code",
      "metadata": {
        "id": "5roklJdFwNe9",
        "outputId": "cd53da38-08be-4894-c7e5-58ced96ea10b",
        "colab": {
          "base_uri": "https://localhost:8080/",
          "height": 34
        }
      },
      "source": [
        "print(\"Hi there, I'm discovering Colab now!\")"
      ],
      "execution_count": 2,
      "outputs": [
        {
          "output_type": "stream",
          "text": [
            "Hi there, I'm discovering Colab now!\n"
          ],
          "name": "stdout"
        }
      ]
    }
  ]
}
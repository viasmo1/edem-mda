{
  "nbformat": 4,
  "nbformat_minor": 0,
  "metadata": {
    "colab": {
      "name": "Ejercicio 1 Sesión 14 Spark_SQL.ipynb",
      "provenance": [],
      "collapsed_sections": [
        "Jq9d0x1OTh2N",
        "8Z0h3dF9Vg4X"
      ],
      "toc_visible": true
    },
    "kernelspec": {
      "name": "python3",
      "display_name": "Python 3"
    }
  },
  "cells": [
    {
      "cell_type": "markdown",
      "metadata": {
        "id": "Jq9d0x1OTh2N"
      },
      "source": [
        "# Prerrequisites"
      ]
    },
    {
      "cell_type": "markdown",
      "metadata": {
        "id": "2_DQBVj_KNvL"
      },
      "source": [
        "Installing Spark and Apache Kafka Library in VM\n",
        "\n",
        "\n",
        "---\n",
        "\n"
      ]
    },
    {
      "cell_type": "code",
      "metadata": {
        "id": "xEbGSM3_NM-z",
        "colab": {
          "base_uri": "https://localhost:8080/"
        },
        "outputId": "451c8234-d6cc-4f97-aa8b-34d12e3a9768"
      },
      "source": [
        "# install Java8\n",
        "!apt-get install openjdk-8-jdk-headless -qq > /dev/null\n",
        "# download spark3.0.1\n",
        "!wget -q https://apache.osuosl.org/spark/spark-3.0.1/spark-3.0.1-bin-hadoop3.2.tgz\n",
        "\n",
        "# unzip it\n",
        "!tar xf spark-3.0.1-bin-hadoop3.2.tgz\n",
        "!pip install -q findspark\n",
        "!pip install py4j\n",
        "\n",
        "# For maps\n",
        "!pip install folium\n",
        "!pip install plotly"
      ],
      "execution_count": 1,
      "outputs": [
        {
          "output_type": "stream",
          "text": [
            "Collecting py4j\n",
            "\u001b[?25l  Downloading https://files.pythonhosted.org/packages/30/42/25ad191f311fcdb38b750d49de167abd535e37a144e730a80d7c439d1751/py4j-0.10.9.1-py2.py3-none-any.whl (198kB)\n",
            "\r\u001b[K     |█▋                              | 10kB 18.6MB/s eta 0:00:01\r\u001b[K     |███▎                            | 20kB 19.8MB/s eta 0:00:01\r\u001b[K     |█████                           | 30kB 16.4MB/s eta 0:00:01\r\u001b[K     |██████▋                         | 40kB 15.2MB/s eta 0:00:01\r\u001b[K     |████████▎                       | 51kB 15.0MB/s eta 0:00:01\r\u001b[K     |██████████                      | 61kB 15.3MB/s eta 0:00:01\r\u001b[K     |███████████▌                    | 71kB 13.6MB/s eta 0:00:01\r\u001b[K     |█████████████▏                  | 81kB 14.8MB/s eta 0:00:01\r\u001b[K     |██████████████▉                 | 92kB 13.2MB/s eta 0:00:01\r\u001b[K     |████████████████▌               | 102kB 12.4MB/s eta 0:00:01\r\u001b[K     |██████████████████▏             | 112kB 12.4MB/s eta 0:00:01\r\u001b[K     |███████████████████▉            | 122kB 12.4MB/s eta 0:00:01\r\u001b[K     |█████████████████████▌          | 133kB 12.4MB/s eta 0:00:01\r\u001b[K     |███████████████████████         | 143kB 12.4MB/s eta 0:00:01\r\u001b[K     |████████████████████████▊       | 153kB 12.4MB/s eta 0:00:01\r\u001b[K     |██████████████████████████▍     | 163kB 12.4MB/s eta 0:00:01\r\u001b[K     |████████████████████████████    | 174kB 12.4MB/s eta 0:00:01\r\u001b[K     |█████████████████████████████▊  | 184kB 12.4MB/s eta 0:00:01\r\u001b[K     |███████████████████████████████▍| 194kB 12.4MB/s eta 0:00:01\r\u001b[K     |████████████████████████████████| 204kB 12.4MB/s \n",
            "\u001b[?25hInstalling collected packages: py4j\n",
            "Successfully installed py4j-0.10.9.1\n",
            "Requirement already satisfied: folium in /usr/local/lib/python3.6/dist-packages (0.8.3)\n",
            "Requirement already satisfied: branca>=0.3.0 in /usr/local/lib/python3.6/dist-packages (from folium) (0.4.1)\n",
            "Requirement already satisfied: jinja2 in /usr/local/lib/python3.6/dist-packages (from folium) (2.11.2)\n",
            "Requirement already satisfied: six in /usr/local/lib/python3.6/dist-packages (from folium) (1.15.0)\n",
            "Requirement already satisfied: requests in /usr/local/lib/python3.6/dist-packages (from folium) (2.23.0)\n",
            "Requirement already satisfied: numpy in /usr/local/lib/python3.6/dist-packages (from folium) (1.18.5)\n",
            "Requirement already satisfied: MarkupSafe>=0.23 in /usr/local/lib/python3.6/dist-packages (from jinja2->folium) (1.1.1)\n",
            "Requirement already satisfied: urllib3!=1.25.0,!=1.25.1,<1.26,>=1.21.1 in /usr/local/lib/python3.6/dist-packages (from requests->folium) (1.24.3)\n",
            "Requirement already satisfied: chardet<4,>=3.0.2 in /usr/local/lib/python3.6/dist-packages (from requests->folium) (3.0.4)\n",
            "Requirement already satisfied: certifi>=2017.4.17 in /usr/local/lib/python3.6/dist-packages (from requests->folium) (2020.12.5)\n",
            "Requirement already satisfied: idna<3,>=2.5 in /usr/local/lib/python3.6/dist-packages (from requests->folium) (2.10)\n",
            "Requirement already satisfied: plotly in /usr/local/lib/python3.6/dist-packages (4.4.1)\n",
            "Requirement already satisfied: retrying>=1.3.3 in /usr/local/lib/python3.6/dist-packages (from plotly) (1.3.3)\n",
            "Requirement already satisfied: six in /usr/local/lib/python3.6/dist-packages (from plotly) (1.15.0)\n"
          ],
          "name": "stdout"
        }
      ]
    },
    {
      "cell_type": "markdown",
      "metadata": {
        "id": "W0qDLAxMTUYQ"
      },
      "source": [
        "Define the environment (Java & Spark homes)\n",
        "\n",
        "---"
      ]
    },
    {
      "cell_type": "code",
      "metadata": {
        "id": "nSd4dfANNndH"
      },
      "source": [
        "import os\n",
        "os.environ[\"JAVA_HOME\"] = \"/usr/lib/jvm/java-8-openjdk-amd64\"\n",
        "os.environ[\"SPARK_HOME\"] = \"/content/spark-3.0.1-bin-hadoop3.2\"\n",
        "os.environ[\"PYSPARK_SUBMIT_ARGS\"] = \"--master local[*] pyspark-shell\""
      ],
      "execution_count": 2,
      "outputs": []
    },
    {
      "cell_type": "markdown",
      "metadata": {
        "id": "K_IgZEv2XaDm"
      },
      "source": [
        "Starting Spark Session and print the version\n",
        "\n",
        "\n",
        "---\n"
      ]
    },
    {
      "cell_type": "code",
      "metadata": {
        "id": "BDLMbVBATf9K",
        "colab": {
          "base_uri": "https://localhost:8080/",
          "height": 176
        },
        "outputId": "8a9db4bd-77a9-4415-ed68-f95df8d68731"
      },
      "source": [
        "import findspark\n",
        "findspark.init(\"spark-3.0.1-bin-hadoop3.2\")# SPARK_HOME\n",
        "\n",
        "from pyspark.sql import SparkSession\n",
        "\n",
        "# create the session\n",
        "spark = SparkSession \\\n",
        "        .builder \\\n",
        "        .master(\"local[*]\") \\\n",
        "        .config(\"spark.ui.port\", \"4500\") \\\n",
        "        .getOrCreate()\n",
        "\n",
        "spark.version"
      ],
      "execution_count": 3,
      "outputs": [
        {
          "output_type": "execute_result",
          "data": {
            "application/vnd.google.colaboratory.intrinsic+json": {
              "type": "string"
            },
            "text/plain": [
              "'3.0.1'"
            ]
          },
          "metadata": {
            "tags": []
          },
          "execution_count": 3
        }
      ]
    },
    {
      "cell_type": "code",
      "metadata": {
        "id": "G28MgeRJHKJ5",
        "colab": {
          "base_uri": "https://localhost:8080/",
          "height": 321
        },
        "outputId": "a8750e28-4b66-48cb-cc87-49df13e0aa0f"
      },
      "source": [
        "spark"
      ],
      "execution_count": 4,
      "outputs": [
        {
          "output_type": "execute_result",
          "data": {
            "text/html": [
              "\n",
              "            <div>\n",
              "                <p><b>SparkSession - in-memory</b></p>\n",
              "                \n",
              "        <div>\n",
              "            <p><b>SparkContext</b></p>\n",
              "\n",
              "            <p><a href=\"http://4c7c50757225:4500\">Spark UI</a></p>\n",
              "\n",
              "            <dl>\n",
              "              <dt>Version</dt>\n",
              "                <dd><code>v3.0.1</code></dd>\n",
              "              <dt>Master</dt>\n",
              "                <dd><code>local[*]</code></dd>\n",
              "              <dt>AppName</dt>\n",
              "                <dd><code>pyspark-shell</code></dd>\n",
              "            </dl>\n",
              "        </div>\n",
              "        \n",
              "            </div>\n",
              "        "
            ],
            "text/plain": [
              "<pyspark.sql.session.SparkSession at 0x7ff46911fd30>"
            ]
          },
          "metadata": {
            "tags": []
          },
          "execution_count": 4
        }
      ]
    },
    {
      "cell_type": "code",
      "metadata": {
        "id": "qPrOO29YRuDB"
      },
      "source": [
        "# For Pandas conversion optimization\n",
        "spark.conf.set(\"spark.sql.execution.arrow.enabled\", \"true\")"
      ],
      "execution_count": 5,
      "outputs": []
    },
    {
      "cell_type": "markdown",
      "metadata": {
        "id": "FNiYuI5dGo8Y"
      },
      "source": [
        "Creating ngrok tunnel to allow Spark UI (Optional)\n"
      ]
    },
    {
      "cell_type": "code",
      "metadata": {
        "id": "x4-7fXZiGmqB",
        "colab": {
          "base_uri": "https://localhost:8080/"
        },
        "outputId": "6c0a68d8-0687-492f-f69e-69da7ef46493"
      },
      "source": [
        "!wget https://bin.equinox.io/c/4VmDzA7iaHb/ngrok-stable-linux-amd64.zip\n",
        "!unzip -o ngrok-stable-linux-amd64.zip\n",
        "!sleep 2\n",
        "get_ipython().system_raw('./ngrok http 4500 &')\n",
        "!curl -s http://localhost:4040/api/tunnels | python3 -c \\\n",
        "    \"import sys, json; print(json.load(sys.stdin)['tunnels'][0]['public_url'])\""
      ],
      "execution_count": 6,
      "outputs": [
        {
          "output_type": "stream",
          "text": [
            "--2020-12-10 18:17:19--  https://bin.equinox.io/c/4VmDzA7iaHb/ngrok-stable-linux-amd64.zip\n",
            "Resolving bin.equinox.io (bin.equinox.io)... 35.169.225.215, 54.198.148.204, 52.20.200.43, ...\n",
            "Connecting to bin.equinox.io (bin.equinox.io)|35.169.225.215|:443... connected.\n",
            "HTTP request sent, awaiting response... 200 OK\n",
            "Length: 13773305 (13M) [application/octet-stream]\n",
            "Saving to: ‘ngrok-stable-linux-amd64.zip’\n",
            "\n",
            "ngrok-stable-linux- 100%[===================>]  13.13M  13.9MB/s    in 0.9s    \n",
            "\n",
            "2020-12-10 18:17:21 (13.9 MB/s) - ‘ngrok-stable-linux-amd64.zip’ saved [13773305/13773305]\n",
            "\n",
            "Archive:  ngrok-stable-linux-amd64.zip\n",
            "  inflating: ngrok                   \n",
            "Traceback (most recent call last):\n",
            "  File \"<string>\", line 1, in <module>\n",
            "IndexError: list index out of range\n"
          ],
          "name": "stdout"
        }
      ]
    },
    {
      "cell_type": "markdown",
      "metadata": {
        "id": "8Z0h3dF9Vg4X"
      },
      "source": [
        "# Descargar Datasets"
      ]
    },
    {
      "cell_type": "code",
      "metadata": {
        "id": "KBDin-0sXgyI",
        "colab": {
          "base_uri": "https://localhost:8080/"
        },
        "outputId": "536fc23e-9964-42a0-b959-72897ebbe101"
      },
      "source": [
        "!mkdir -p /dataset\n",
        "!wget -q https://github.com/masfworld/datahack_docker/raw/master/zeppelin/data/bank.csv -P /dataset\n",
        "!wget -q https://github.com/masfworld/datahack_docker/raw/master/zeppelin/data/vehicles.csv -P /dataset\n",
        "!wget -q https://github.com/masfworld/datahack_docker/raw/master/zeppelin/data/characters.csv -P /dataset\n",
        "!wget -q https://github.com/masfworld/datahack_docker/raw/master/zeppelin/data/netflix_titles.csv -P /dataset\n",
        "!ls /dataset"
      ],
      "execution_count": 7,
      "outputs": [
        {
          "output_type": "stream",
          "text": [
            "bank.csv  characters.csv  netflix_titles.csv  vehicles.csv\n"
          ],
          "name": "stdout"
        }
      ]
    },
    {
      "cell_type": "markdown",
      "metadata": {
        "id": "02Zwm3NRXS_I"
      },
      "source": [
        "# Lectura de Datos con Spark SQL\n",
        "\n",
        "---\n",
        "\n"
      ]
    },
    {
      "cell_type": "markdown",
      "metadata": {
        "id": "h1o6f6QOjTcZ"
      },
      "source": [
        "## Ejemplo 1"
      ]
    },
    {
      "cell_type": "code",
      "metadata": {
        "id": "USrsDETtstv-",
        "colab": {
          "base_uri": "https://localhost:8080/"
        },
        "outputId": "dbf796c6-7750-46cf-d4a4-3f2ed5bc9871"
      },
      "source": [
        "!head /dataset/bank.csv"
      ],
      "execution_count": 8,
      "outputs": [
        {
          "output_type": "stream",
          "text": [
            "\"age\";\"job\";\"marital\";\"education\";\"default\";\"balance\";\"housing\";\"loan\";\"contact\";\"day\";\"month\";\"duration\";\"campaign\";\"pdays\";\"previous\";\"poutcome\";\"y\"\n",
            "30;\"unemployed\";\"married\";\"primary\";\"no\";1787;\"no\";\"no\";\"cellular\";19;\"oct\";79;1;-1;0;\"unknown\";\"no\"\n",
            "33;\"services\";\"married\";\"secondary\";\"no\";4789;\"yes\";\"yes\";\"cellular\";11;\"may\";220;1;339;4;\"failure\";\"no\"\n",
            "35;\"management\";\"single\";\"tertiary\";\"no\";1350;\"yes\";\"no\";\"cellular\";16;\"apr\";185;1;330;1;\"failure\";\"no\"\n",
            "30;\"management\";\"married\";\"tertiary\";\"no\";1476;\"yes\";\"yes\";\"unknown\";3;\"jun\";199;4;-1;0;\"unknown\";\"no\"\n",
            "59;\"blue-collar\";\"married\";\"secondary\";\"no\";0;\"yes\";\"no\";\"unknown\";5;\"may\";226;1;-1;0;\"unknown\";\"no\"\n",
            "35;\"management\";\"single\";\"tertiary\";\"no\";747;\"no\";\"no\";\"cellular\";23;\"feb\";141;2;176;3;\"failure\";\"no\"\n",
            "36;\"self-employed\";\"married\";\"tertiary\";\"no\";307;\"yes\";\"no\";\"cellular\";14;\"may\";341;1;330;2;\"other\";\"no\"\n",
            "39;\"technician\";\"married\";\"secondary\";\"no\";147;\"yes\";\"no\";\"cellular\";6;\"may\";151;2;-1;0;\"unknown\";\"no\"\n",
            "41;\"entrepreneur\";\"married\";\"tertiary\";\"no\";221;\"yes\";\"no\";\"unknown\";14;\"may\";57;2;-1;0;\"unknown\";\"no\"\n"
          ],
          "name": "stdout"
        }
      ]
    },
    {
      "cell_type": "markdown",
      "metadata": {
        "id": "yjPpxRyJYA1h"
      },
      "source": [
        "Leyendo Datos desde un RDD, y conviertiéndolo a DataFrame"
      ]
    },
    {
      "cell_type": "code",
      "metadata": {
        "id": "HnbafeFCVk8d"
      },
      "source": [
        "from pyspark.sql.types import Row\n",
        "from pyspark.sql.functions import *\n",
        "\n",
        "bankText = spark.sparkContext.textFile(\"/dataset/bank.csv\")\n",
        "\n",
        "bank = bankText.map(lambda lineaCsv: lineaCsv.split(\";\"))\\\n",
        ".filter(lambda s: s[0] != \"\\\"age\\\"\") \\\n",
        ".map(lambda row: Row(int(row[0]), row[1].replace(\"\\\"\", \"\"), row[2].replace(\"\\\"\", \"\"), row[3].replace(\"\\\"\", \"\"), row[5].replace(\"\\\"\", \"\"))) \\\n",
        ".toDF([\"age\", \"job\", \"marital\", \"education\", \"balance\"]) \\\n",
        ".withColumn(\"age\", col(\"age\").cast(\"int\"))"
      ],
      "execution_count": 9,
      "outputs": []
    },
    {
      "cell_type": "code",
      "metadata": {
        "id": "3BEWmhhYqxp8",
        "colab": {
          "base_uri": "https://localhost:8080/"
        },
        "outputId": "aac7b08e-204f-4ade-8556-fcab3e6eac2c"
      },
      "source": [
        "bank.printSchema()"
      ],
      "execution_count": 10,
      "outputs": [
        {
          "output_type": "stream",
          "text": [
            "root\n",
            " |-- age: integer (nullable = true)\n",
            " |-- job: string (nullable = true)\n",
            " |-- marital: string (nullable = true)\n",
            " |-- education: string (nullable = true)\n",
            " |-- balance: string (nullable = true)\n",
            "\n"
          ],
          "name": "stdout"
        }
      ]
    },
    {
      "cell_type": "code",
      "metadata": {
        "id": "I7kQm1A5q00M"
      },
      "source": [
        "bank.registerTempTable(\"bank\")"
      ],
      "execution_count": 11,
      "outputs": []
    },
    {
      "cell_type": "markdown",
      "metadata": {
        "id": "9-JI8uCsroG7"
      },
      "source": [
        "Cargamos una **extensión de Google Colab** para mostrar una tabla con posibilidad de filtro (Debemos devolver un DataFrame en Pandas)"
      ]
    },
    {
      "cell_type": "code",
      "metadata": {
        "id": "KCGzK_zfrm8u"
      },
      "source": [
        "%load_ext google.colab.data_table"
      ],
      "execution_count": 12,
      "outputs": []
    },
    {
      "cell_type": "code",
      "metadata": {
        "id": "GE6JMclKbbkw",
        "colab": {
          "base_uri": "https://localhost:8080/"
        },
        "outputId": "070d9132-c697-423d-bdb8-9ecd1bdcc202"
      },
      "source": [
        "\n",
        "from pyspark.sql.functions import *\n",
        "\n",
        "bank_grouped = bank\\\n",
        ".groupBy(bank.marital) \\\n",
        ".agg({\"balance\": \"avg\"}) \\\n",
        ".select(\"marital\", col(\"avg(balance)\").alias(\"balance_avg\")) \\\n",
        ".orderBy(col(\"balance_avg\").desc())\\\n",
        "\n",
        "bank_grouped.show()\n"
      ],
      "execution_count": 13,
      "outputs": [
        {
          "output_type": "stream",
          "text": [
            "+--------+------------------+\n",
            "| marital|       balance_avg|\n",
            "+--------+------------------+\n",
            "| married| 1463.195566678584|\n",
            "|  single|1460.4147157190635|\n",
            "|divorced|1122.3901515151515|\n",
            "+--------+------------------+\n",
            "\n"
          ],
          "name": "stdout"
        }
      ]
    },
    {
      "cell_type": "code",
      "metadata": {
        "id": "QQ1vduJ45VtS",
        "colab": {
          "base_uri": "https://localhost:8080/",
          "height": 243
        },
        "outputId": "226dfdb2-8c27-4476-f25b-260dbac4c9ac"
      },
      "source": [
        "# Here, we group all the data splited in the worker nodes in the driver. WE LOSE PARALELISME\n",
        "bank_grouped.toPandas()"
      ],
      "execution_count": null,
      "outputs": [
        {
          "output_type": "stream",
          "text": [
            "spark-3.0.1-bin-hadoop3.2/python/pyspark/sql/pandas/conversion.py:88: UserWarning: toPandas attempted Arrow optimization because 'spark.sql.execution.arrow.pyspark.enabled' is set to true; however, failed by the reason below:\n",
            "  PyArrow >= 0.15.1 must be installed; however, your version was 0.14.1.\n",
            "Attempting non-optimization as 'spark.sql.execution.arrow.pyspark.fallback.enabled' is set to true.\n",
            "  warnings.warn(msg)\n"
          ],
          "name": "stderr"
        },
        {
          "output_type": "execute_result",
          "data": {
            "application/vnd.google.colaboratory.module+javascript": "\n      import \"https://ssl.gstatic.com/colaboratory/data_table/a6224c040fa35dcf/data_table.js\";\n\n      window.createDataTable({\n        data: [[{\n            'v': 0,\n            'f': \"0\",\n        },\n\"married\",\n{\n            'v': 1463.195566678584,\n            'f': \"1463.195566678584\",\n        }],\n [{\n            'v': 1,\n            'f': \"1\",\n        },\n\"single\",\n{\n            'v': 1460.4147157190635,\n            'f': \"1460.4147157190635\",\n        }],\n [{\n            'v': 2,\n            'f': \"2\",\n        },\n\"divorced\",\n{\n            'v': 1122.3901515151515,\n            'f': \"1122.3901515151515\",\n        }]],\n        columns: [[\"number\", \"index\"], [\"string\", \"marital\"], [\"number\", \"balance_avg\"]],\n        columnOptions: [{\"width\": \"1px\", \"className\": \"index_column\"}],\n        rowsPerPage: 25,\n        helpUrl: \"https://colab.research.google.com/notebooks/data_table.ipynb\",\n        suppressOutputScrolling: true,\n        minimumWidth: undefined,\n      });\n    ",
            "text/html": [
              "<div>\n",
              "<style scoped>\n",
              "    .dataframe tbody tr th:only-of-type {\n",
              "        vertical-align: middle;\n",
              "    }\n",
              "\n",
              "    .dataframe tbody tr th {\n",
              "        vertical-align: top;\n",
              "    }\n",
              "\n",
              "    .dataframe thead th {\n",
              "        text-align: right;\n",
              "    }\n",
              "</style>\n",
              "<table border=\"1\" class=\"dataframe\">\n",
              "  <thead>\n",
              "    <tr style=\"text-align: right;\">\n",
              "      <th></th>\n",
              "      <th>marital</th>\n",
              "      <th>balance_avg</th>\n",
              "    </tr>\n",
              "  </thead>\n",
              "  <tbody>\n",
              "    <tr>\n",
              "      <th>0</th>\n",
              "      <td>married</td>\n",
              "      <td>1463.195567</td>\n",
              "    </tr>\n",
              "    <tr>\n",
              "      <th>1</th>\n",
              "      <td>single</td>\n",
              "      <td>1460.414716</td>\n",
              "    </tr>\n",
              "    <tr>\n",
              "      <th>2</th>\n",
              "      <td>divorced</td>\n",
              "      <td>1122.390152</td>\n",
              "    </tr>\n",
              "  </tbody>\n",
              "</table>\n",
              "</div>"
            ],
            "text/plain": [
              "    marital  balance_avg\n",
              "0   married  1463.195567\n",
              "1    single  1460.414716\n",
              "2  divorced  1122.390152"
            ]
          },
          "metadata": {
            "tags": []
          },
          "execution_count": 15
        }
      ]
    },
    {
      "cell_type": "code",
      "metadata": {
        "id": "tTy8ySNSpgpN",
        "colab": {
          "base_uri": "https://localhost:8080/"
        },
        "outputId": "57e98a54-8528-40f1-c746-6a6828e5cd54"
      },
      "source": [
        "spark.sql(\"SELECT marital, avg(balance) as balance_avg FROM bank group by marital\").show()"
      ],
      "execution_count": null,
      "outputs": [
        {
          "output_type": "stream",
          "text": [
            "+--------+------------------+\n",
            "| marital|       balance_avg|\n",
            "+--------+------------------+\n",
            "|divorced|1122.3901515151515|\n",
            "| married| 1463.195566678584|\n",
            "|  single|1460.4147157190635|\n",
            "+--------+------------------+\n",
            "\n"
          ],
          "name": "stdout"
        }
      ]
    },
    {
      "cell_type": "code",
      "metadata": {
        "id": "7CJgXJe-kpnF",
        "colab": {
          "base_uri": "https://localhost:8080/",
          "height": 664
        },
        "outputId": "ee396103-91cc-4799-b0a2-e3209c6c782f"
      },
      "source": [
        "import plotly.express as px\n",
        "\n",
        "fig = px.pie(bank_grouped.toPandas(), values='balance_avg', names='marital', title='By Marital')\n",
        "fig.show()"
      ],
      "execution_count": null,
      "outputs": [
        {
          "output_type": "stream",
          "text": [
            "spark-3.0.1-bin-hadoop3.2/python/pyspark/sql/pandas/conversion.py:88: UserWarning:\n",
            "\n",
            "toPandas attempted Arrow optimization because 'spark.sql.execution.arrow.pyspark.enabled' is set to true; however, failed by the reason below:\n",
            "  PyArrow >= 0.15.1 must be installed; however, your version was 0.14.1.\n",
            "Attempting non-optimization as 'spark.sql.execution.arrow.pyspark.fallback.enabled' is set to true.\n",
            "\n"
          ],
          "name": "stderr"
        },
        {
          "output_type": "display_data",
          "data": {
            "text/html": [
              "<html>\n",
              "<head><meta charset=\"utf-8\" /></head>\n",
              "<body>\n",
              "    <div>\n",
              "            <script src=\"https://cdnjs.cloudflare.com/ajax/libs/mathjax/2.7.5/MathJax.js?config=TeX-AMS-MML_SVG\"></script><script type=\"text/javascript\">if (window.MathJax) {MathJax.Hub.Config({SVG: {font: \"STIX-Web\"}});}</script>\n",
              "                <script type=\"text/javascript\">window.PlotlyConfig = {MathJaxConfig: 'local'};</script>\n",
              "        <script src=\"https://cdn.plot.ly/plotly-latest.min.js\"></script>    \n",
              "            <div id=\"9e29f21d-9eb0-4e54-8135-a040d752804b\" class=\"plotly-graph-div\" style=\"height:525px; width:100%;\"></div>\n",
              "            <script type=\"text/javascript\">\n",
              "                \n",
              "                    window.PLOTLYENV=window.PLOTLYENV || {};\n",
              "                    \n",
              "                if (document.getElementById(\"9e29f21d-9eb0-4e54-8135-a040d752804b\")) {\n",
              "                    Plotly.newPlot(\n",
              "                        '9e29f21d-9eb0-4e54-8135-a040d752804b',\n",
              "                        [{\"domain\": {\"x\": [0.0, 1.0], \"y\": [0.0, 1.0]}, \"hoverlabel\": {\"namelength\": 0}, \"hovertemplate\": \"marital=%{label}<br>balance_avg=%{value}\", \"labels\": [\"married\", \"single\", \"divorced\"], \"legendgroup\": \"\", \"name\": \"\", \"showlegend\": true, \"type\": \"pie\", \"values\": [1463.195566678584, 1460.4147157190635, 1122.3901515151515]}],\n",
              "                        {\"legend\": {\"tracegroupgap\": 0}, \"template\": {\"data\": {\"bar\": [{\"error_x\": {\"color\": \"#2a3f5f\"}, \"error_y\": {\"color\": \"#2a3f5f\"}, \"marker\": {\"line\": {\"color\": \"#E5ECF6\", \"width\": 0.5}}, \"type\": \"bar\"}], \"barpolar\": [{\"marker\": {\"line\": {\"color\": \"#E5ECF6\", \"width\": 0.5}}, \"type\": \"barpolar\"}], \"carpet\": [{\"aaxis\": {\"endlinecolor\": \"#2a3f5f\", \"gridcolor\": \"white\", \"linecolor\": \"white\", \"minorgridcolor\": \"white\", \"startlinecolor\": \"#2a3f5f\"}, \"baxis\": {\"endlinecolor\": \"#2a3f5f\", \"gridcolor\": \"white\", \"linecolor\": \"white\", \"minorgridcolor\": \"white\", \"startlinecolor\": \"#2a3f5f\"}, \"type\": \"carpet\"}], \"choropleth\": [{\"colorbar\": {\"outlinewidth\": 0, \"ticks\": \"\"}, \"type\": \"choropleth\"}], \"contour\": [{\"colorbar\": {\"outlinewidth\": 0, \"ticks\": \"\"}, \"colorscale\": [[0.0, \"#0d0887\"], [0.1111111111111111, \"#46039f\"], [0.2222222222222222, \"#7201a8\"], [0.3333333333333333, \"#9c179e\"], [0.4444444444444444, \"#bd3786\"], [0.5555555555555556, \"#d8576b\"], [0.6666666666666666, \"#ed7953\"], [0.7777777777777778, \"#fb9f3a\"], [0.8888888888888888, \"#fdca26\"], [1.0, \"#f0f921\"]], \"type\": \"contour\"}], \"contourcarpet\": [{\"colorbar\": {\"outlinewidth\": 0, \"ticks\": \"\"}, \"type\": \"contourcarpet\"}], \"heatmap\": [{\"colorbar\": {\"outlinewidth\": 0, \"ticks\": \"\"}, \"colorscale\": [[0.0, \"#0d0887\"], [0.1111111111111111, \"#46039f\"], [0.2222222222222222, \"#7201a8\"], [0.3333333333333333, \"#9c179e\"], [0.4444444444444444, \"#bd3786\"], [0.5555555555555556, \"#d8576b\"], [0.6666666666666666, \"#ed7953\"], [0.7777777777777778, \"#fb9f3a\"], [0.8888888888888888, \"#fdca26\"], [1.0, \"#f0f921\"]], \"type\": \"heatmap\"}], \"heatmapgl\": [{\"colorbar\": {\"outlinewidth\": 0, \"ticks\": \"\"}, \"colorscale\": [[0.0, \"#0d0887\"], [0.1111111111111111, \"#46039f\"], [0.2222222222222222, \"#7201a8\"], [0.3333333333333333, \"#9c179e\"], [0.4444444444444444, \"#bd3786\"], [0.5555555555555556, \"#d8576b\"], [0.6666666666666666, \"#ed7953\"], [0.7777777777777778, \"#fb9f3a\"], [0.8888888888888888, \"#fdca26\"], [1.0, \"#f0f921\"]], \"type\": \"heatmapgl\"}], \"histogram\": [{\"marker\": {\"colorbar\": {\"outlinewidth\": 0, \"ticks\": \"\"}}, \"type\": \"histogram\"}], \"histogram2d\": [{\"colorbar\": {\"outlinewidth\": 0, \"ticks\": \"\"}, \"colorscale\": [[0.0, \"#0d0887\"], [0.1111111111111111, \"#46039f\"], [0.2222222222222222, \"#7201a8\"], [0.3333333333333333, \"#9c179e\"], [0.4444444444444444, \"#bd3786\"], [0.5555555555555556, \"#d8576b\"], [0.6666666666666666, \"#ed7953\"], [0.7777777777777778, \"#fb9f3a\"], [0.8888888888888888, \"#fdca26\"], [1.0, \"#f0f921\"]], \"type\": \"histogram2d\"}], \"histogram2dcontour\": [{\"colorbar\": {\"outlinewidth\": 0, \"ticks\": \"\"}, \"colorscale\": [[0.0, \"#0d0887\"], [0.1111111111111111, \"#46039f\"], [0.2222222222222222, \"#7201a8\"], [0.3333333333333333, \"#9c179e\"], [0.4444444444444444, \"#bd3786\"], [0.5555555555555556, \"#d8576b\"], [0.6666666666666666, \"#ed7953\"], [0.7777777777777778, \"#fb9f3a\"], [0.8888888888888888, \"#fdca26\"], [1.0, \"#f0f921\"]], \"type\": \"histogram2dcontour\"}], \"mesh3d\": [{\"colorbar\": {\"outlinewidth\": 0, \"ticks\": \"\"}, \"type\": \"mesh3d\"}], \"parcoords\": [{\"line\": {\"colorbar\": {\"outlinewidth\": 0, \"ticks\": \"\"}}, \"type\": \"parcoords\"}], \"pie\": [{\"automargin\": true, \"type\": \"pie\"}], \"scatter\": [{\"marker\": {\"colorbar\": {\"outlinewidth\": 0, \"ticks\": \"\"}}, \"type\": \"scatter\"}], \"scatter3d\": [{\"line\": {\"colorbar\": {\"outlinewidth\": 0, \"ticks\": \"\"}}, \"marker\": {\"colorbar\": {\"outlinewidth\": 0, \"ticks\": \"\"}}, \"type\": \"scatter3d\"}], \"scattercarpet\": [{\"marker\": {\"colorbar\": {\"outlinewidth\": 0, \"ticks\": \"\"}}, \"type\": \"scattercarpet\"}], \"scattergeo\": [{\"marker\": {\"colorbar\": {\"outlinewidth\": 0, \"ticks\": \"\"}}, \"type\": \"scattergeo\"}], \"scattergl\": [{\"marker\": {\"colorbar\": {\"outlinewidth\": 0, \"ticks\": \"\"}}, \"type\": \"scattergl\"}], \"scattermapbox\": [{\"marker\": {\"colorbar\": {\"outlinewidth\": 0, \"ticks\": \"\"}}, \"type\": \"scattermapbox\"}], \"scatterpolar\": [{\"marker\": {\"colorbar\": {\"outlinewidth\": 0, \"ticks\": \"\"}}, \"type\": \"scatterpolar\"}], \"scatterpolargl\": [{\"marker\": {\"colorbar\": {\"outlinewidth\": 0, \"ticks\": \"\"}}, \"type\": \"scatterpolargl\"}], \"scatterternary\": [{\"marker\": {\"colorbar\": {\"outlinewidth\": 0, \"ticks\": \"\"}}, \"type\": \"scatterternary\"}], \"surface\": [{\"colorbar\": {\"outlinewidth\": 0, \"ticks\": \"\"}, \"colorscale\": [[0.0, \"#0d0887\"], [0.1111111111111111, \"#46039f\"], [0.2222222222222222, \"#7201a8\"], [0.3333333333333333, \"#9c179e\"], [0.4444444444444444, \"#bd3786\"], [0.5555555555555556, \"#d8576b\"], [0.6666666666666666, \"#ed7953\"], [0.7777777777777778, \"#fb9f3a\"], [0.8888888888888888, \"#fdca26\"], [1.0, \"#f0f921\"]], \"type\": \"surface\"}], \"table\": [{\"cells\": {\"fill\": {\"color\": \"#EBF0F8\"}, \"line\": {\"color\": \"white\"}}, \"header\": {\"fill\": {\"color\": \"#C8D4E3\"}, \"line\": {\"color\": \"white\"}}, \"type\": \"table\"}]}, \"layout\": {\"annotationdefaults\": {\"arrowcolor\": \"#2a3f5f\", \"arrowhead\": 0, \"arrowwidth\": 1}, \"coloraxis\": {\"colorbar\": {\"outlinewidth\": 0, \"ticks\": \"\"}}, \"colorscale\": {\"diverging\": [[0, \"#8e0152\"], [0.1, \"#c51b7d\"], [0.2, \"#de77ae\"], [0.3, \"#f1b6da\"], [0.4, \"#fde0ef\"], [0.5, \"#f7f7f7\"], [0.6, \"#e6f5d0\"], [0.7, \"#b8e186\"], [0.8, \"#7fbc41\"], [0.9, \"#4d9221\"], [1, \"#276419\"]], \"sequential\": [[0.0, \"#0d0887\"], [0.1111111111111111, \"#46039f\"], [0.2222222222222222, \"#7201a8\"], [0.3333333333333333, \"#9c179e\"], [0.4444444444444444, \"#bd3786\"], [0.5555555555555556, \"#d8576b\"], [0.6666666666666666, \"#ed7953\"], [0.7777777777777778, \"#fb9f3a\"], [0.8888888888888888, \"#fdca26\"], [1.0, \"#f0f921\"]], \"sequentialminus\": [[0.0, \"#0d0887\"], [0.1111111111111111, \"#46039f\"], [0.2222222222222222, \"#7201a8\"], [0.3333333333333333, \"#9c179e\"], [0.4444444444444444, \"#bd3786\"], [0.5555555555555556, \"#d8576b\"], [0.6666666666666666, \"#ed7953\"], [0.7777777777777778, \"#fb9f3a\"], [0.8888888888888888, \"#fdca26\"], [1.0, \"#f0f921\"]]}, \"colorway\": [\"#636efa\", \"#EF553B\", \"#00cc96\", \"#ab63fa\", \"#FFA15A\", \"#19d3f3\", \"#FF6692\", \"#B6E880\", \"#FF97FF\", \"#FECB52\"], \"font\": {\"color\": \"#2a3f5f\"}, \"geo\": {\"bgcolor\": \"white\", \"lakecolor\": \"white\", \"landcolor\": \"#E5ECF6\", \"showlakes\": true, \"showland\": true, \"subunitcolor\": \"white\"}, \"hoverlabel\": {\"align\": \"left\"}, \"hovermode\": \"closest\", \"mapbox\": {\"style\": \"light\"}, \"paper_bgcolor\": \"white\", \"plot_bgcolor\": \"#E5ECF6\", \"polar\": {\"angularaxis\": {\"gridcolor\": \"white\", \"linecolor\": \"white\", \"ticks\": \"\"}, \"bgcolor\": \"#E5ECF6\", \"radialaxis\": {\"gridcolor\": \"white\", \"linecolor\": \"white\", \"ticks\": \"\"}}, \"scene\": {\"xaxis\": {\"backgroundcolor\": \"#E5ECF6\", \"gridcolor\": \"white\", \"gridwidth\": 2, \"linecolor\": \"white\", \"showbackground\": true, \"ticks\": \"\", \"zerolinecolor\": \"white\"}, \"yaxis\": {\"backgroundcolor\": \"#E5ECF6\", \"gridcolor\": \"white\", \"gridwidth\": 2, \"linecolor\": \"white\", \"showbackground\": true, \"ticks\": \"\", \"zerolinecolor\": \"white\"}, \"zaxis\": {\"backgroundcolor\": \"#E5ECF6\", \"gridcolor\": \"white\", \"gridwidth\": 2, \"linecolor\": \"white\", \"showbackground\": true, \"ticks\": \"\", \"zerolinecolor\": \"white\"}}, \"shapedefaults\": {\"line\": {\"color\": \"#2a3f5f\"}}, \"ternary\": {\"aaxis\": {\"gridcolor\": \"white\", \"linecolor\": \"white\", \"ticks\": \"\"}, \"baxis\": {\"gridcolor\": \"white\", \"linecolor\": \"white\", \"ticks\": \"\"}, \"bgcolor\": \"#E5ECF6\", \"caxis\": {\"gridcolor\": \"white\", \"linecolor\": \"white\", \"ticks\": \"\"}}, \"title\": {\"x\": 0.05}, \"xaxis\": {\"automargin\": true, \"gridcolor\": \"white\", \"linecolor\": \"white\", \"ticks\": \"\", \"title\": {\"standoff\": 15}, \"zerolinecolor\": \"white\", \"zerolinewidth\": 2}, \"yaxis\": {\"automargin\": true, \"gridcolor\": \"white\", \"linecolor\": \"white\", \"ticks\": \"\", \"title\": {\"standoff\": 15}, \"zerolinecolor\": \"white\", \"zerolinewidth\": 2}}}, \"title\": {\"text\": \"By Marital\"}},\n",
              "                        {\"responsive\": true}\n",
              "                    ).then(function(){\n",
              "                            \n",
              "var gd = document.getElementById('9e29f21d-9eb0-4e54-8135-a040d752804b');\n",
              "var x = new MutationObserver(function (mutations, observer) {{\n",
              "        var display = window.getComputedStyle(gd).display;\n",
              "        if (!display || display === 'none') {{\n",
              "            console.log([gd, 'removed!']);\n",
              "            Plotly.purge(gd);\n",
              "            observer.disconnect();\n",
              "        }}\n",
              "}});\n",
              "\n",
              "// Listen for the removal of the full notebook cells\n",
              "var notebookContainer = gd.closest('#notebook-container');\n",
              "if (notebookContainer) {{\n",
              "    x.observe(notebookContainer, {childList: true});\n",
              "}}\n",
              "\n",
              "// Listen for the clearing of the current output cell\n",
              "var outputEl = gd.closest('.output');\n",
              "if (outputEl) {{\n",
              "    x.observe(outputEl, {childList: true});\n",
              "}}\n",
              "\n",
              "                        })\n",
              "                };\n",
              "                \n",
              "            </script>\n",
              "        </div>\n",
              "</body>\n",
              "</html>"
            ]
          },
          "metadata": {
            "tags": []
          }
        }
      ]
    },
    {
      "cell_type": "markdown",
      "metadata": {
        "id": "yzU_4EjAjZgh"
      },
      "source": [
        "## Ejemplo 2"
      ]
    },
    {
      "cell_type": "markdown",
      "metadata": {
        "id": "sV-NchsMsHvF"
      },
      "source": [
        "Cargando un fichero CSV como RDD y convirtiendo a DataFrame aplicando un esquema específico usando el método **\"createDataFrame\"**"
      ]
    },
    {
      "cell_type": "code",
      "metadata": {
        "id": "SgireGq6YWEj"
      },
      "source": [
        "from pyspark.sql.types import *\n",
        "\n",
        "bankSchema = StructType([\n",
        "    StructField(\"age\", IntegerType(), False), \n",
        "    StructField(\"job\", StringType(), False),\n",
        "    StructField(\"marital\", StringType(), False),\n",
        "    StructField(\"education\", StringType(), False),\n",
        "    StructField(\"balance\", IntegerType(), False)])\n",
        "\n",
        "bankText = spark.sparkContext.textFile(\"/dataset/bank.csv\")\n",
        "\n",
        "bank = bankText\\\n",
        ".map(lambda s: s.split(\";\")).filter(lambda s: s[0] != \"\\\"age\\\"\")\\\n",
        ".map(lambda s:(int(s[0]), str(s[1]).replace(\"\\\"\", \"\"), str(s[2]).replace(\"\\\"\", \"\"), str(s[3]).replace(\"\\\"\", \"\"), int(s[5]) ))\n",
        "\n",
        "bankdf = spark.createDataFrame(bank, bankSchema)\n",
        "bankdf.registerTempTable(\"bank2\")"
      ],
      "execution_count": null,
      "outputs": []
    },
    {
      "cell_type": "code",
      "metadata": {
        "id": "tTSxYSiqtwum",
        "colab": {
          "base_uri": "https://localhost:8080/"
        },
        "outputId": "96e20912-34e4-47c2-e9ee-efbc04020547"
      },
      "source": [
        "spark.sql(\"select * from bank2 limit 10\").show()"
      ],
      "execution_count": null,
      "outputs": [
        {
          "output_type": "stream",
          "text": [
            "+---+-------------+-------+---------+-------+\n",
            "|age|          job|marital|education|balance|\n",
            "+---+-------------+-------+---------+-------+\n",
            "| 30|   unemployed|married|  primary|   1787|\n",
            "| 33|     services|married|secondary|   4789|\n",
            "| 35|   management| single| tertiary|   1350|\n",
            "| 30|   management|married| tertiary|   1476|\n",
            "| 59|  blue-collar|married|secondary|      0|\n",
            "| 35|   management| single| tertiary|    747|\n",
            "| 36|self-employed|married| tertiary|    307|\n",
            "| 39|   technician|married|secondary|    147|\n",
            "| 41| entrepreneur|married| tertiary|    221|\n",
            "| 43|     services|married|  primary|    -88|\n",
            "+---+-------------+-------+---------+-------+\n",
            "\n"
          ],
          "name": "stdout"
        }
      ]
    },
    {
      "cell_type": "markdown",
      "metadata": {
        "id": "bX0FXU7JawRm"
      },
      "source": [
        "## Ejercicio 1\n",
        "**Carga el fichero \"vehicles.csv\" directamente en un DataFrame, muéstra el contenido por pantalla e imprime el esquema**\n",
        "\n",
        "Apóyate en la siguiente documentación para hacer la lectura directamente en un DataFrame https://spark.apache.org/docs/latest/sql-data-sources-load-save-functions.html\n",
        "\n",
        "---\n",
        "\n"
      ]
    },
    {
      "cell_type": "code",
      "metadata": {
        "id": "eYPt59chwJUw",
        "colab": {
          "base_uri": "https://localhost:8080/"
        },
        "outputId": "6bd10212-e256-4ee2-8053-28e8f3756f81"
      },
      "source": [
        "!head /dataset/vehicles.csv"
      ],
      "execution_count": 14,
      "outputs": [
        {
          "output_type": "stream",
          "text": [
            "name,model,manufacturer,cost_in_credits,length,max_atmosphering_speed,crew,passengers,cargo_capacity,consumables,vehicle_class\n",
            "Sand Crawler,Digger Crawler,Corellia Mining Corporation,150000,36.8,30,46,30,50000,2 months,wheeled\n",
            "T-16 skyhopper,T-16 skyhopper,Incom Corporation,14500,10.4,1200,1,1,50,0,repulsorcraft\n",
            "X-34 landspeeder,X-34 landspeeder,SoroSuub Corporation,10550,3.4,250,1,1,5,NA,repulsorcraft\n",
            "TIE/LN starfighter,Twin Ion Engine/Ln Starfighter,Sienar Fleet Systems,NA,6.4,1200,1,0,65,2 days,starfighter\n",
            "Snowspeeder,t-47 airspeeder,Incom corporation,NA,4.5,650,2,0,10,none,airspeeder\n",
            "TIE bomber,TIE/sa bomber,Sienar Fleet Systems,NA,7.8,850,1,0,none,2 days,space/planetary bomber\n",
            "AT-AT,All Terrain Armored Transport,\"Kuat Drive Yards, Imperial Department of Military Research\",NA,20,60,5,40,1000,NA,assault walker\n",
            "AT-ST,All Terrain Scout Transport,\"Kuat Drive Yards, Imperial Department of Military Research\",NA,2,90,2,0,200,none,walker\n",
            "Storm IV Twin-Pod cloud car,Storm IV Twin-Pod,Bespin Motors,75000,7,1500,2,0,10,1 day,repulsorcraft\n"
          ],
          "name": "stdout"
        }
      ]
    },
    {
      "cell_type": "code",
      "metadata": {
        "id": "KhzS2LGscDLc"
      },
      "source": [
        "# Load the vehicles.csv\n",
        "vehicles = spark.read.load(\"/dataset/vehicles.csv\", \n",
        "                           format=\"csv\", sep=\",\", header=True, inferSchema=True)"
      ],
      "execution_count": 15,
      "outputs": []
    },
    {
      "cell_type": "code",
      "metadata": {
        "colab": {
          "base_uri": "https://localhost:8080/"
        },
        "id": "Hw2uvlQIrTCz",
        "outputId": "d469b94a-41ad-4a61-9855-c6060028c609"
      },
      "source": [
        "# Show the content\n",
        "vehicles.show()"
      ],
      "execution_count": 16,
      "outputs": [
        {
          "output_type": "stream",
          "text": [
            "+--------------------+--------------------+--------------------+---------------+------+----------------------+----+----------+--------------+---------------+--------------------+\n",
            "|                name|               model|        manufacturer|cost_in_credits|length|max_atmosphering_speed|crew|passengers|cargo_capacity|    consumables|       vehicle_class|\n",
            "+--------------------+--------------------+--------------------+---------------+------+----------------------+----+----------+--------------+---------------+--------------------+\n",
            "|        Sand Crawler|      Digger Crawler|Corellia Mining C...|         150000|  36.8|                    30|  46|        30|         50000|       2 months|             wheeled|\n",
            "|      T-16 skyhopper|      T-16 skyhopper|   Incom Corporation|          14500|  10.4|                  1200|   1|         1|            50|              0|       repulsorcraft|\n",
            "|    X-34 landspeeder|    X-34 landspeeder|SoroSuub Corporation|          10550|   3.4|                   250|   1|         1|             5|             NA|       repulsorcraft|\n",
            "|  TIE/LN starfighter|Twin Ion Engine/L...|Sienar Fleet Systems|             NA|   6.4|                  1200|   1|         0|            65|         2 days|         starfighter|\n",
            "|         Snowspeeder|     t-47 airspeeder|   Incom corporation|             NA|   4.5|                   650|   2|         0|            10|           none|          airspeeder|\n",
            "|          TIE bomber|       TIE/sa bomber|Sienar Fleet Systems|             NA|   7.8|                   850|   1|         0|          none|         2 days|space/planetary b...|\n",
            "|               AT-AT|All Terrain Armor...|Kuat Drive Yards,...|             NA|    20|                    60|   5|        40|          1000|             NA|      assault walker|\n",
            "|               AT-ST|All Terrain Scout...|Kuat Drive Yards,...|             NA|     2|                    90|   2|         0|           200|           none|              walker|\n",
            "|Storm IV Twin-Pod...|   Storm IV Twin-Pod|       Bespin Motors|          75000|     7|                  1500|   2|         0|            10|          1 day|       repulsorcraft|\n",
            "|          Sail barge|Modified Luxury S...|Ubrikkian Industr...|         285000|    30|                   100|  26|       500|       2000000|Live food tanks|          sail barge|\n",
            "|Bantha-II cargo s...|           Bantha-II|Ubrikkian Industries|           8000|   9.5|                   250|   5|        16|        135000|          1 day|repulsorcraft car...|\n",
            "|  TIE/IN interceptor|Twin Ion Engine I...|Sienar Fleet Systems|             NA|   9.6|                  1250|   1|         0|            75|         2 days|         starfighter|\n",
            "|Imperial Speeder ...|   74-Z speeder bike|Aratech Repulsor ...|           8000|     3|                   360|   1|         1|             4|          1 day|             speeder|\n",
            "|       Vulture Droid|Vulture-class dro...|Haor Chall Engine...|             NA|   3.5|                  1200|   0|         0|             0|           none|         starfighter|\n",
            "|Multi-Troop Trans...|Multi-Troop Trans...|Baktoid Armor Wor...|         138000|    31|                    35|   4|       112|         12000|             NA|       repulsorcraft|\n",
            "|Armored Assault Tank|Armoured Assault ...|Baktoid Armor Wor...|             NA|  9.75|                    55|   4|         6|            NA|             NA|       repulsorcraft|\n",
            "|Single Trooper Ae...|Single Trooper Ae...|Baktoid Armor Wor...|           2500|     2|                   400|   1|         0|          none|           none|       repulsorcraft|\n",
            "|C-9979 landing craft|C-9979 landing craft|Haor Chall Engine...|         200000|   210|                   587| 140|       284|       1800000|          1 day|       landing craft|\n",
            "|     Tribubble bongo|     Tribubble bongo|Otoh Gunga Bongam...|             NA|    15|                    85|   1|         2|          1600|             NA|           submarine|\n",
            "|        Sith speeder|  FC-20 speeder bike|             Razalon|           4000|   1.5|                   180|   1|         0|             2|             NA|             speeder|\n",
            "+--------------------+--------------------+--------------------+---------------+------+----------------------+----+----------+--------------+---------------+--------------------+\n",
            "only showing top 20 rows\n",
            "\n"
          ],
          "name": "stdout"
        }
      ]
    },
    {
      "cell_type": "code",
      "metadata": {
        "colab": {
          "base_uri": "https://localhost:8080/"
        },
        "id": "_hL8uPz5rW1T",
        "outputId": "7aa91ec6-7bbf-4a36-f8e5-5cf8e5df514a"
      },
      "source": [
        "# Print schema\n",
        "vehicles.printSchema()"
      ],
      "execution_count": 17,
      "outputs": [
        {
          "output_type": "stream",
          "text": [
            "root\n",
            " |-- name: string (nullable = true)\n",
            " |-- model: string (nullable = true)\n",
            " |-- manufacturer: string (nullable = true)\n",
            " |-- cost_in_credits: string (nullable = true)\n",
            " |-- length: string (nullable = true)\n",
            " |-- max_atmosphering_speed: string (nullable = true)\n",
            " |-- crew: integer (nullable = true)\n",
            " |-- passengers: string (nullable = true)\n",
            " |-- cargo_capacity: string (nullable = true)\n",
            " |-- consumables: string (nullable = true)\n",
            " |-- vehicle_class: string (nullable = true)\n",
            "\n"
          ],
          "name": "stdout"
        }
      ]
    },
    {
      "cell_type": "code",
      "metadata": {
        "id": "XZO948l6uSse"
      },
      "source": [
        "# We cast the column cargo_capacity to an integer in a new dataframe (remember: we cannot change a RDD)\n",
        "new_vehicles = vehicles. \\\n",
        "withColumn(\"cargo_capacity\", col(\"cargo_capacity\").cast(\"int\"))"
      ],
      "execution_count": 18,
      "outputs": []
    },
    {
      "cell_type": "code",
      "metadata": {
        "colab": {
          "base_uri": "https://localhost:8080/"
        },
        "id": "bkWlmcecu0Ra",
        "outputId": "8bd5c1a1-d030-46b6-b5fe-3b0f60189d66"
      },
      "source": [
        "# Print schema\n",
        "new_vehicles.printSchema()"
      ],
      "execution_count": 19,
      "outputs": [
        {
          "output_type": "stream",
          "text": [
            "root\n",
            " |-- name: string (nullable = true)\n",
            " |-- model: string (nullable = true)\n",
            " |-- manufacturer: string (nullable = true)\n",
            " |-- cost_in_credits: string (nullable = true)\n",
            " |-- length: string (nullable = true)\n",
            " |-- max_atmosphering_speed: string (nullable = true)\n",
            " |-- crew: integer (nullable = true)\n",
            " |-- passengers: string (nullable = true)\n",
            " |-- cargo_capacity: integer (nullable = true)\n",
            " |-- consumables: string (nullable = true)\n",
            " |-- vehicle_class: string (nullable = true)\n",
            "\n"
          ],
          "name": "stdout"
        }
      ]
    },
    {
      "cell_type": "markdown",
      "metadata": {
        "id": "vCDfqm_UxUcn"
      },
      "source": [
        "**Filtra el anterior dataframe obteniendo los vehículos cuya capacidad supere 70**\n",
        "\n",
        "\n",
        "---\n",
        "\n"
      ]
    },
    {
      "cell_type": "code",
      "metadata": {
        "colab": {
          "base_uri": "https://localhost:8080/"
        },
        "id": "Deg9dkSrr4ZF",
        "outputId": "69b3fbdb-df54-4bf6-aa1b-cb1ccbaf7e0c"
      },
      "source": [
        "new_vehicles \\\n",
        ".filter(vehicles.cargo_capacity > 70) \\\n",
        ".show()"
      ],
      "execution_count": 20,
      "outputs": [
        {
          "output_type": "stream",
          "text": [
            "+--------------------+--------------------+--------------------+---------------+------+----------------------+----+----------+--------------+---------------+--------------------+\n",
            "|                name|               model|        manufacturer|cost_in_credits|length|max_atmosphering_speed|crew|passengers|cargo_capacity|    consumables|       vehicle_class|\n",
            "+--------------------+--------------------+--------------------+---------------+------+----------------------+----+----------+--------------+---------------+--------------------+\n",
            "|        Sand Crawler|      Digger Crawler|Corellia Mining C...|         150000|  36.8|                    30|  46|        30|         50000|       2 months|             wheeled|\n",
            "|               AT-AT|All Terrain Armor...|Kuat Drive Yards,...|             NA|    20|                    60|   5|        40|          1000|             NA|      assault walker|\n",
            "|               AT-ST|All Terrain Scout...|Kuat Drive Yards,...|             NA|     2|                    90|   2|         0|           200|           none|              walker|\n",
            "|          Sail barge|Modified Luxury S...|Ubrikkian Industr...|         285000|    30|                   100|  26|       500|       2000000|Live food tanks|          sail barge|\n",
            "|Bantha-II cargo s...|           Bantha-II|Ubrikkian Industries|           8000|   9.5|                   250|   5|        16|        135000|          1 day|repulsorcraft car...|\n",
            "|  TIE/IN interceptor|Twin Ion Engine I...|Sienar Fleet Systems|             NA|   9.6|                  1250|   1|         0|            75|         2 days|         starfighter|\n",
            "|Multi-Troop Trans...|Multi-Troop Trans...|Baktoid Armor Wor...|         138000|    31|                    35|   4|       112|         12000|             NA|       repulsorcraft|\n",
            "|C-9979 landing craft|C-9979 landing craft|Haor Chall Engine...|         200000|   210|                   587| 140|       284|       1800000|          1 day|       landing craft|\n",
            "|     Tribubble bongo|     Tribubble bongo|Otoh Gunga Bongam...|             NA|    15|                    85|   1|         2|          1600|             NA|           submarine|\n",
            "| Zephyr-G swoop bike| Zephyr-G swoop bike|Mobquet Swoops an...|           5750|  3.68|                   350|   1|         1|           200|           none|       repulsorcraft|\n",
            "|Koro-2 Exodrive a...|Koro-2 Exodrive a...|Desler Gizh Outwo...|             NA|   6.6|                   800|   1|         1|            80|             NA|          airspeeder|\n",
            "|              LAAT/i|Low Altitude Assa...|Rothana Heavy Eng...|             NA|  17.4|                   620|   6|        30|           170|             NA|             gunship|\n",
            "|              LAAT/c|Low Altitude Assa...|Rothana Heavy Eng...|             NA| 28.82|                   620|   1|         0|         40000|             NA|             gunship|\n",
            "|    Clone turbo tank|  HAVw A6 Juggernaut|    Kuat Drive Yards|         350000|  49.4|                   160|  20|       300|         30000|        20 days|      wheeled walker|\n",
            "|               AT-TE|All Terrain Tacti...|Rothana Heavy Eng...|             NA|  13.2|                    60|   6|        36|         10000|        21 days|              walker|\n",
            "|                SPHA|Self-Propelled He...|Rothana Heavy Eng...|             NA|   140|                    35|  25|        30|           500|         7 days|              walker|\n",
            "|  Neimoidian shuttle|Sheathipede-class...|Haor Chall Engine...|             NA|    20|                   880|   2|         6|          1000|         7 days|           transport|\n",
            "+--------------------+--------------------+--------------------+---------------+------+----------------------+----+----------+--------------+---------------+--------------------+\n",
            "\n"
          ],
          "name": "stdout"
        }
      ]
    },
    {
      "cell_type": "markdown",
      "metadata": {
        "id": "8GUV9KLzqR-4"
      },
      "source": [
        "# Spark SQL. Funciones de agregación"
      ]
    },
    {
      "cell_type": "markdown",
      "metadata": {
        "id": "BbMEyQFOqVnQ"
      },
      "source": [
        "Links útiles:\n",
        "\n",
        "https://spark.apache.org/docs/latest/api/python/pyspark.sql.html\n"
      ]
    },
    {
      "cell_type": "markdown",
      "metadata": {
        "id": "tZw41ki6kc3p"
      },
      "source": [
        "## Ejercicio 2"
      ]
    },
    {
      "cell_type": "markdown",
      "metadata": {
        "id": "YAzx5B5IkVeP"
      },
      "source": [
        "**A partir del dataframe con todos los vehículos cargado en el ejercicio 1, obtén el número de pasarejos medios por clase de vehículo**\n",
        "\n",
        "\n",
        "---\n",
        "\n",
        "\n"
      ]
    },
    {
      "cell_type": "code",
      "metadata": {
        "id": "V016awxlb_qm",
        "colab": {
          "base_uri": "https://localhost:8080/"
        },
        "outputId": "26d1b21a-5967-4ba2-842f-de40696b517e"
      },
      "source": [
        "# First, we cast the passengers into an integer (alternative way)\n",
        "from pyspark.sql.types import IntegerType\n",
        "\n",
        "vehicles3 = new_vehicles \\\n",
        ".withColumn(\"passengers\", col(\"passengers\").cast(IntegerType()))\n",
        "\n",
        "vehicles3.printSchema()"
      ],
      "execution_count": 21,
      "outputs": [
        {
          "output_type": "stream",
          "text": [
            "root\n",
            " |-- name: string (nullable = true)\n",
            " |-- model: string (nullable = true)\n",
            " |-- manufacturer: string (nullable = true)\n",
            " |-- cost_in_credits: string (nullable = true)\n",
            " |-- length: string (nullable = true)\n",
            " |-- max_atmosphering_speed: string (nullable = true)\n",
            " |-- crew: integer (nullable = true)\n",
            " |-- passengers: integer (nullable = true)\n",
            " |-- cargo_capacity: integer (nullable = true)\n",
            " |-- consumables: string (nullable = true)\n",
            " |-- vehicle_class: string (nullable = true)\n",
            "\n"
          ],
          "name": "stdout"
        }
      ]
    },
    {
      "cell_type": "code",
      "metadata": {
        "colab": {
          "base_uri": "https://localhost:8080/"
        },
        "id": "v_-JTyfvxtvi",
        "outputId": "184b3c79-ebfb-4dc0-d110-d04e77a9c3d8"
      },
      "source": [
        "# Now, we calculate the average\n",
        "vehicles3 \\\n",
        ".groupBy(\"vehicle_class\") \\\n",
        ".avg(\"passengers\") \\\n",
        ".show()"
      ],
      "execution_count": 22,
      "outputs": [
        {
          "output_type": "stream",
          "text": [
            "+--------------------+------------------+\n",
            "|       vehicle_class|   avg(passengers)|\n",
            "+--------------------+------------------+\n",
            "|          droid tank|               4.0|\n",
            "|space/planetary b...|               0.0|\n",
            "|   droid starfighter|               0.0|\n",
            "|      wheeled walker|             150.5|\n",
            "|          sail barge|             500.0|\n",
            "|       landing craft|             284.0|\n",
            "|             speeder|0.3333333333333333|\n",
            "|      assault walker|              40.0|\n",
            "|         starfighter|               0.0|\n",
            "|         air speeder|               0.0|\n",
            "|           transport|               6.0|\n",
            "|repulsorcraft car...|              16.0|\n",
            "|             wheeled|              30.0|\n",
            "|          airspeeder|               0.8|\n",
            "|           submarine|               2.0|\n",
            "|             gunship|              15.0|\n",
            "|       repulsorcraft|17.285714285714285|\n",
            "|fire suppression ...|              null|\n",
            "|              walker|              16.5|\n",
            "+--------------------+------------------+\n",
            "\n"
          ],
          "name": "stdout"
        }
      ]
    },
    {
      "cell_type": "code",
      "metadata": {
        "colab": {
          "base_uri": "https://localhost:8080/"
        },
        "id": "thzqZndhz8B9",
        "outputId": "4f671b56-0d3e-4ade-b841-329f5e1c6df7"
      },
      "source": [
        "# Another way (in case we want to calculate one than more field)\n",
        "vehicles3 \\\n",
        ".groupBy(\"vehicle_class\") \\\n",
        ".agg(avg(\"passengers\"), avg(\"crew\")) \\\n",
        ".show()"
      ],
      "execution_count": null,
      "outputs": [
        {
          "output_type": "stream",
          "text": [
            "+--------------------+------------------+---------+\n",
            "|       vehicle_class|   avg(passengers)|avg(crew)|\n",
            "+--------------------+------------------+---------+\n",
            "|          droid tank|               4.0|      0.0|\n",
            "|space/planetary b...|               0.0|      1.0|\n",
            "|   droid starfighter|               0.0|      1.0|\n",
            "|      wheeled walker|             150.5|     10.5|\n",
            "|          sail barge|             500.0|     26.0|\n",
            "|       landing craft|             284.0|    140.0|\n",
            "|             speeder|0.3333333333333333|      1.0|\n",
            "|      assault walker|              40.0|      5.0|\n",
            "|         starfighter|               0.0|     0.75|\n",
            "|         air speeder|               0.0|      2.0|\n",
            "|           transport|               6.0|      2.0|\n",
            "|repulsorcraft car...|              16.0|      5.0|\n",
            "|             wheeled|              30.0|     46.0|\n",
            "|          airspeeder|               0.8|      1.2|\n",
            "|           submarine|               2.0|      1.0|\n",
            "|             gunship|              15.0|      3.5|\n",
            "|       repulsorcraft|17.285714285714285|      2.0|\n",
            "|fire suppression ...|              null|      2.0|\n",
            "|              walker|              16.5|      8.5|\n",
            "+--------------------+------------------+---------+\n",
            "\n"
          ],
          "name": "stdout"
        }
      ]
    },
    {
      "cell_type": "markdown",
      "metadata": {
        "id": "HSEBVnVQlU52"
      },
      "source": [
        "## Ejercicio 3"
      ]
    },
    {
      "cell_type": "markdown",
      "metadata": {
        "id": "JF4fyAaMlXsI"
      },
      "source": [
        "**Carga el fichero \"characters.csv\" y obtén el color de ojos más común entre todos los personajes**\n",
        "\n",
        "---"
      ]
    },
    {
      "cell_type": "code",
      "metadata": {
        "id": "dMBFJW35b-OM"
      },
      "source": [
        "# Load the characters.csv\n",
        "characters = spark.read.load(\"/dataset/characters.csv\", \n",
        "                           format=\"csv\", sep=\",\", header=True, inferSchema=True)"
      ],
      "execution_count": null,
      "outputs": []
    },
    {
      "cell_type": "code",
      "metadata": {
        "colab": {
          "base_uri": "https://localhost:8080/"
        },
        "id": "n7HaPNtRzoda",
        "outputId": "d8d5b2c8-e747-48fd-c4e6-acddb6c8d016"
      },
      "source": [
        "# Print the schema\n",
        "characters.printSchema()"
      ],
      "execution_count": null,
      "outputs": [
        {
          "output_type": "stream",
          "text": [
            "root\n",
            " |-- name: string (nullable = true)\n",
            " |-- height: string (nullable = true)\n",
            " |-- mass: string (nullable = true)\n",
            " |-- hair_color: string (nullable = true)\n",
            " |-- skin_color: string (nullable = true)\n",
            " |-- eye_color: string (nullable = true)\n",
            " |-- birth_year: string (nullable = true)\n",
            " |-- gender: string (nullable = true)\n",
            " |-- homeworld: string (nullable = true)\n",
            " |-- species: string (nullable = true)\n",
            "\n"
          ],
          "name": "stdout"
        }
      ]
    },
    {
      "cell_type": "code",
      "metadata": {
        "colab": {
          "base_uri": "https://localhost:8080/"
        },
        "id": "ubNMpkNH1JBg",
        "outputId": "a17a979a-9257-4216-a75d-32ea467b9e0b"
      },
      "source": [
        "characters.show()"
      ],
      "execution_count": null,
      "outputs": [
        {
          "output_type": "stream",
          "text": [
            "+--------------------+------+-----+-------------+----------------+---------+----------+-------------+----------+--------------+\n",
            "|                name|height| mass|   hair_color|      skin_color|eye_color|birth_year|       gender| homeworld|       species|\n",
            "+--------------------+------+-----+-------------+----------------+---------+----------+-------------+----------+--------------+\n",
            "|      Luke Skywalker|   172|   77|        blond|            fair|     blue|     19BBY|         male|  Tatooine|         Human|\n",
            "|               C-3PO|   167|   75|           NA|            gold|   yellow|    112BBY|           NA|  Tatooine|         Droid|\n",
            "|               R2-D2|    96|   32|           NA|     white, blue|      red|     33BBY|           NA|     Naboo|         Droid|\n",
            "|         Darth Vader|   202|  136|         none|           white|   yellow|   41.9BBY|         male|  Tatooine|         Human|\n",
            "|         Leia Organa|   150|   49|        brown|           light|    brown|     19BBY|       female|  Alderaan|         Human|\n",
            "|           Owen Lars|   178|  120|  brown, grey|           light|     blue|     52BBY|         male|  Tatooine|         Human|\n",
            "|  Beru Whitesun lars|   165|   75|        brown|           light|     blue|     47BBY|       female|  Tatooine|         Human|\n",
            "|               R5-D4|    97|   32|           NA|      white, red|      red|        NA|           NA|  Tatooine|         Droid|\n",
            "|   Biggs Darklighter|   183|   84|        black|           light|    brown|     24BBY|         male|  Tatooine|         Human|\n",
            "|      Obi-Wan Kenobi|   182|   77|auburn, white|            fair|blue-gray|     57BBY|         male|   Stewjon|         Human|\n",
            "|    Anakin Skywalker|   188|   84|        blond|            fair|     blue|   41.9BBY|         male|  Tatooine|         Human|\n",
            "|      Wilhuff Tarkin|   180|   NA| auburn, grey|            fair|     blue|     64BBY|         male|    Eriadu|         Human|\n",
            "|           Chewbacca|   228|  112|        brown|              NA|     blue|    200BBY|         male|  Kashyyyk|       Wookiee|\n",
            "|            Han Solo|   180|   80|        brown|            fair|    brown|     29BBY|         male|  Corellia|         Human|\n",
            "|              Greedo|   173|   74|           NA|           green|    black|     44BBY|         male|     Rodia|        Rodian|\n",
            "|Jabba Desilijic T...|   175|1,358|           NA|green-tan, brown|   orange|    600BBY|hermaphrodite| Nal Hutta|          Hutt|\n",
            "|      Wedge Antilles|   170|   77|        brown|            fair|    hazel|     21BBY|         male|  Corellia|         Human|\n",
            "|    Jek Tono Porkins|   180|  110|        brown|            fair|     blue|        NA|         male|Bestine IV|         Human|\n",
            "|                Yoda|    66|   17|        white|           green|    brown|    896BBY|         male|        NA|Yoda's species|\n",
            "|           Palpatine|   170|   75|         grey|            pale|   yellow|     82BBY|         male|     Naboo|         Human|\n",
            "+--------------------+------+-----+-------------+----------------+---------+----------+-------------+----------+--------------+\n",
            "only showing top 20 rows\n",
            "\n"
          ],
          "name": "stdout"
        }
      ]
    },
    {
      "cell_type": "code",
      "metadata": {
        "colab": {
          "base_uri": "https://localhost:8080/"
        },
        "id": "-rUnXCe70ftB",
        "outputId": "99561861-ae32-4a2f-e41c-cc044a6661eb"
      },
      "source": [
        "characters \\\n",
        ".groupBy(\"eye_color\") \\\n",
        ".agg(count(\"eye_color\")) \\\n",
        ".orderBy(\"count(eye_color)\", ascending=False) \\\n",
        ".limit(1) \\\n",
        ".show()"
      ],
      "execution_count": null,
      "outputs": [
        {
          "output_type": "stream",
          "text": [
            "+---------+----------------+\n",
            "|eye_color|count(eye_color)|\n",
            "+---------+----------------+\n",
            "|    brown|              21|\n",
            "+---------+----------------+\n",
            "\n"
          ],
          "name": "stdout"
        }
      ]
    },
    {
      "cell_type": "code",
      "metadata": {
        "colab": {
          "base_uri": "https://localhost:8080/"
        },
        "id": "9pMZgOym3MvH",
        "outputId": "320c646e-e332-4468-ee15-23984b0e08aa"
      },
      "source": [
        "# Another way\n",
        "characters \\\n",
        ".groupBy(\"eye_color\") \\\n",
        ".count() \\\n",
        ".orderBy(col(\"count\").desc()) \\\n",
        ".limit(1) \\\n",
        ".show()"
      ],
      "execution_count": null,
      "outputs": [
        {
          "output_type": "stream",
          "text": [
            "+---------+-----+\n",
            "|eye_color|count|\n",
            "+---------+-----+\n",
            "|    brown|   21|\n",
            "+---------+-----+\n",
            "\n"
          ],
          "name": "stdout"
        }
      ]
    },
    {
      "cell_type": "markdown",
      "metadata": {
        "id": "yT-AFIMvm43z"
      },
      "source": [
        "## Ejercicio 4"
      ]
    },
    {
      "cell_type": "markdown",
      "metadata": {
        "id": "C9UBVU6ym9ue"
      },
      "source": [
        "**Carga el dataframe completo de personajes en una tabla temporal y obtén mediante SQL el número de personajes por género**\n",
        "\n",
        "\n",
        "---\n",
        "\n"
      ]
    },
    {
      "cell_type": "code",
      "metadata": {
        "id": "aLsnA8dcb5jk",
        "colab": {
          "base_uri": "https://localhost:8080/"
        },
        "outputId": "53c22b06-d2c1-48bf-f8aa-613584eae194"
      },
      "source": [
        "characters.registerTempTable(\"characters_table\")\n",
        "\n",
        "spark.sql(\"select gender, count(1) as total from characters_table group by gender order by total desc\").show()"
      ],
      "execution_count": null,
      "outputs": [
        {
          "output_type": "stream",
          "text": [
            "+-------------+-----+\n",
            "|       gender|total|\n",
            "+-------------+-----+\n",
            "|         male|   62|\n",
            "|       female|   19|\n",
            "|           NA|    3|\n",
            "|         none|    2|\n",
            "|hermaphrodite|    1|\n",
            "+-------------+-----+\n",
            "\n"
          ],
          "name": "stdout"
        }
      ]
    },
    {
      "cell_type": "code",
      "metadata": {
        "id": "wi8ji8tg7ujP"
      },
      "source": [
        "# Group NA and none values\n",
        "characters2 = characters \\\n",
        ".withColumn(\"gender\", expr(\"case when gender = 'NA' then 'none' else gender end\")) \\"
      ],
      "execution_count": null,
      "outputs": []
    },
    {
      "cell_type": "code",
      "metadata": {
        "colab": {
          "base_uri": "https://localhost:8080/"
        },
        "id": "BxjEDy8pH6jP",
        "outputId": "4f7120b5-19f6-4222-e797-5beea5500b5b"
      },
      "source": [
        "characters2.registerTempTable(\"characters2_table\")\n",
        "\n",
        "spark.sql(\"select gender, count(1) as total from characters2_table group by gender order by total desc\").show()"
      ],
      "execution_count": null,
      "outputs": [
        {
          "output_type": "stream",
          "text": [
            "+-------------+-----+\n",
            "|       gender|total|\n",
            "+-------------+-----+\n",
            "|         male|   62|\n",
            "|       female|   19|\n",
            "|         none|    5|\n",
            "|hermaphrodite|    1|\n",
            "+-------------+-----+\n",
            "\n"
          ],
          "name": "stdout"
        }
      ]
    },
    {
      "cell_type": "markdown",
      "metadata": {
        "id": "tv0AmHi926F7"
      },
      "source": [
        "## Ejercicio 5"
      ]
    },
    {
      "cell_type": "markdown",
      "metadata": {
        "id": "WR6FPU3b29TP"
      },
      "source": [
        "**Carga el fichero \"netflix_titles.csv\" en un DataFrame e imprime el esquema**\n",
        "\n",
        "\n",
        "---\n",
        "\n"
      ]
    },
    {
      "cell_type": "code",
      "metadata": {
        "id": "5zyuYbll3UrI",
        "colab": {
          "base_uri": "https://localhost:8080/"
        },
        "outputId": "e3803f07-6b8c-40c9-9f0b-c9483d944554"
      },
      "source": [
        "!head /dataset/netflix_titles.csv"
      ],
      "execution_count": 23,
      "outputs": [
        {
          "output_type": "stream",
          "text": [
            "show_id,type,title,director,cast,country,date_added,release_year,rating,duration,listed_in,description\n",
            "81145628,Movie,Norm of the North: King Sized Adventure,\"Richard Finn, Tim Maltby\",\"Alan Marriott, Andrew Toth, Brian Dobson, Cole Howard, Jennifer Cameron, Jonathan Holmes, Lee Tockar, Lisa Durupt, Maya Kay, Michael Dobson\",\"United States, India, South Korea, China\",\"September 9, 2019\",2019,TV-PG,90 min,\"Children & Family Movies, Comedies\",\"Before planning an awesome wedding for his grandfather, a polar bear king must take back a stolen artifact from an evil archaeologist first.\"\n",
            "80117401,Movie,Jandino: Whatever it Takes,,Jandino Asporaat,United Kingdom,\"September 9, 2016\",2016,TV-MA,94 min,Stand-Up Comedy,\"Jandino Asporaat riffs on the challenges of raising kids and serenades the audience with a rousing rendition of \"\"Sex on Fire\"\" in his comedy show.\"\n",
            "70234439,TV Show,Transformers Prime,,\"Peter Cullen, Sumalee Montano, Frank Welker, Jeffrey Combs, Kevin Michael Richardson, Tania Gunadi, Josh Keaton, Steve Blum, Andy Pessoa, Ernie Hudson, Daran Norris, Will Friedle\",United States,\"September 8, 2018\",2013,TV-Y7-FV,1 Season,Kids' TV,\"With the help of three human allies, the Autobots once again protect Earth from the onslaught of the Decepticons and their leader, Megatron.\"\n",
            "80058654,TV Show,Transformers: Robots in Disguise,,\"Will Friedle, Darren Criss, Constance Zimmer, Khary Payton, Mitchell Whitfield, Stuart Allan, Ted McGinley, Peter Cullen\",United States,\"September 8, 2018\",2016,TV-Y7,1 Season,Kids' TV,\"When a prison ship crash unleashes hundreds of Decepticons on Earth, Bumblebee leads a new Autobot force to protect humankind.\"\n",
            "80125979,Movie,#realityhigh,Fernando Lebrija,\"Nesta Cooper, Kate Walsh, John Michael Higgins, Keith Powers, Alicia Sanz, Jake Borelli, Kid Ink, Yousef Erakat, Rebekah Graf, Anne Winters, Peter Gilroy, Patrick Davis\",United States,\"September 8, 2017\",2017,TV-14,99 min,Comedies,\"When nerdy high schooler Dani finally attracts the interest of her longtime crush, she lands in the cross hairs of his ex, a social media celebrity.\"\n",
            "80163890,TV Show,Apaches,,\"Alberto Ammann, Eloy Azorín, Verónica Echegui, Lucía Jiménez, Claudia Traisac\",Spain,\"September 8, 2017\",2016,TV-MA,1 Season,\"Crime TV Shows, International TV Shows, Spanish-Language TV Shows\",A young journalist is forced into a life of crime to save his father and family in this series based on the novel by Miguel Sáez Carral.\n",
            "70304989,Movie,Automata,Gabe Ibáñez,\"Antonio Banderas, Dylan McDermott, Melanie Griffith, Birgitte Hjort Sørensen, Robert Forster, Christa Campbell, Tim McInnerny, Andy Nyman, David Ryall\",\"Bulgaria, United States, Spain, Canada\",\"September 8, 2017\",2014,R,110 min,\"International Movies, Sci-Fi & Fantasy, Thrillers\",\"In a dystopian future, an insurance adjuster for a tech company investigates a robot killed for violating protocol and discovers a global conspiracy.\"\n",
            "80164077,Movie,Fabrizio Copano: Solo pienso en mi,\"Rodrigo Toro, Francisco Schultz\",Fabrizio Copano,Chile,\"September 8, 2017\",2017,TV-MA,60 min,Stand-Up Comedy,\"Fabrizio Copano takes audience participation to the next level in this stand-up set while reflecting on sperm banks, family WhatsApp groups and more.\"\n",
            "80117902,TV Show,Fire Chasers,,,United States,\"September 8, 2017\",2017,TV-MA,1 Season,\"Docuseries, Science & Nature TV\",\"As California's 2016 fire season rages, brave backcountry firefighters race to put out the flames, protect homes and save lives in this docuseries.\"\n"
          ],
          "name": "stdout"
        }
      ]
    },
    {
      "cell_type": "code",
      "metadata": {
        "id": "poS3oDQ9b6T0"
      },
      "source": [
        "# Load csv\n",
        "netflix_titles = spark.read.load(\"/dataset/netflix_titles.csv\", \n",
        "                                 format=\"csv\", sep=\",\", inferSchema=True, header=True)"
      ],
      "execution_count": 24,
      "outputs": []
    },
    {
      "cell_type": "code",
      "metadata": {
        "colab": {
          "base_uri": "https://localhost:8080/"
        },
        "id": "e5EG4h5D6fBD",
        "outputId": "038dbe89-9e1a-4e91-8749-7a19dabe879d"
      },
      "source": [
        "# Print schema\n",
        "netflix_titles.printSchema()"
      ],
      "execution_count": 25,
      "outputs": [
        {
          "output_type": "stream",
          "text": [
            "root\n",
            " |-- show_id: string (nullable = true)\n",
            " |-- type: string (nullable = true)\n",
            " |-- title: string (nullable = true)\n",
            " |-- director: string (nullable = true)\n",
            " |-- cast: string (nullable = true)\n",
            " |-- country: string (nullable = true)\n",
            " |-- date_added: string (nullable = true)\n",
            " |-- release_year: string (nullable = true)\n",
            " |-- rating: string (nullable = true)\n",
            " |-- duration: string (nullable = true)\n",
            " |-- listed_in: string (nullable = true)\n",
            " |-- description: string (nullable = true)\n",
            "\n"
          ],
          "name": "stdout"
        }
      ]
    },
    {
      "cell_type": "markdown",
      "metadata": {
        "id": "xG81SgpY4P3t"
      },
      "source": [
        "## Ejercicio 6"
      ]
    },
    {
      "cell_type": "markdown",
      "metadata": {
        "id": "56fGSsmt4adO"
      },
      "source": [
        "**Obtén el año en el que se añadieron más películas (No TV Shows)**\n",
        "**Usa una UDF para obtener el año en el que se añadió al catálogo**\n",
        "\n",
        "---\n",
        "\n"
      ]
    },
    {
      "cell_type": "code",
      "metadata": {
        "id": "v5O7kVYDBStC",
        "outputId": "2a935843-2480-4bd7-b738-3fc5829b21e1",
        "colab": {
          "base_uri": "https://localhost:8080/"
        }
      },
      "source": [
        "from pyspark.sql.functions import *\n",
        "\n",
        "# UDF to extract year of date_added\n",
        "def getYearAdded(s): return s[-4:]\n",
        "# Register UDF in Spark\n",
        "getYearAdded_udf = udf(getYearAdded)\n",
        "\n",
        "netflix_titles.filter(netflix_titles[\"type\"] == \"Movie\") \\\n",
        "              .filter(col(\"date_added\").isNotNull()) \\\n",
        "              .select(getYearAdded_udf(\"date_added\").alias(\"year_added\")) \\\n",
        "              .groupBy(\"year_added\") \\\n",
        "              .count() \\\n",
        "              .show()"
      ],
      "execution_count": 38,
      "outputs": [
        {
          "output_type": "stream",
          "text": [
            "+----------+-----+\n",
            "|year_added|count|\n",
            "+----------+-----+\n",
            "|      2016|  264|\n",
            "|      2012|    4|\n",
            "|      2020|  146|\n",
            "|      2019| 1545|\n",
            "|      2017|  911|\n",
            "|      2014|   19|\n",
            "|      2013|    6|\n",
            "|      2018| 1288|\n",
            "|      2009|    2|\n",
            "|      2011|   13|\n",
            "|      2008|    1|\n",
            "|      2015|   57|\n",
            "|      2010|    1|\n",
            "+----------+-----+\n",
            "\n"
          ],
          "name": "stdout"
        }
      ]
    }
  ]
}
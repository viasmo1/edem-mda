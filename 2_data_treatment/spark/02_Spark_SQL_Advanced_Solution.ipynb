{
  "nbformat": 4,
  "nbformat_minor": 0,
  "metadata": {
    "colab": {
      "name": "02.Spark_SQL_Advanced_Solution.ipynb",
      "provenance": [],
      "collapsed_sections": [
        "Jq9d0x1OTh2N",
        "8Z0h3dF9Vg4X",
        "h1o6f6QOjTcZ",
        "tv0AmHi926F7"
      ],
      "toc_visible": true
    },
    "kernelspec": {
      "name": "python3",
      "display_name": "Python 3"
    }
  },
  "cells": [
    {
      "cell_type": "markdown",
      "metadata": {
        "id": "Jq9d0x1OTh2N"
      },
      "source": [
        "# Prerrequisites"
      ]
    },
    {
      "cell_type": "markdown",
      "metadata": {
        "id": "2_DQBVj_KNvL"
      },
      "source": [
        "Installing Spark and Apache Kafka Library in VM\n",
        "\n",
        "\n",
        "---\n",
        "\n"
      ]
    },
    {
      "cell_type": "code",
      "metadata": {
        "id": "xEbGSM3_NM-z",
        "colab": {
          "base_uri": "https://localhost:8080/"
        },
        "outputId": "ee024b2a-8a18-45f4-c918-5ef44c65fccc"
      },
      "source": [
        "# install Java8\n",
        "!apt-get install openjdk-8-jdk-headless -qq > /dev/null\n",
        "# download spark3.0.1\n",
        "!wget -q https://apache.osuosl.org/spark/spark-3.0.1/spark-3.0.1-bin-hadoop3.2.tgz\n",
        "\n",
        "# unzip it\n",
        "!tar xf spark-3.0.1-bin-hadoop3.2.tgz\n",
        "!pip install -q findspark\n",
        "!pip install py4j\n",
        "\n",
        "# For maps\n",
        "!pip install folium\n",
        "!pip install plotly"
      ],
      "execution_count": null,
      "outputs": [
        {
          "output_type": "stream",
          "text": [
            "Collecting py4j\n",
            "\u001b[?25l  Downloading https://files.pythonhosted.org/packages/30/42/25ad191f311fcdb38b750d49de167abd535e37a144e730a80d7c439d1751/py4j-0.10.9.1-py2.py3-none-any.whl (198kB)\n",
            "\r\u001b[K     |█▋                              | 10kB 16.3MB/s eta 0:00:01\r\u001b[K     |███▎                            | 20kB 21.8MB/s eta 0:00:01\r\u001b[K     |█████                           | 30kB 10.7MB/s eta 0:00:01\r\u001b[K     |██████▋                         | 40kB 8.8MB/s eta 0:00:01\r\u001b[K     |████████▎                       | 51kB 7.3MB/s eta 0:00:01\r\u001b[K     |██████████                      | 61kB 8.4MB/s eta 0:00:01\r\u001b[K     |███████████▌                    | 71kB 8.0MB/s eta 0:00:01\r\u001b[K     |█████████████▏                  | 81kB 8.3MB/s eta 0:00:01\r\u001b[K     |██████████████▉                 | 92kB 7.9MB/s eta 0:00:01\r\u001b[K     |████████████████▌               | 102kB 7.5MB/s eta 0:00:01\r\u001b[K     |██████████████████▏             | 112kB 7.5MB/s eta 0:00:01\r\u001b[K     |███████████████████▉            | 122kB 7.5MB/s eta 0:00:01\r\u001b[K     |█████████████████████▌          | 133kB 7.5MB/s eta 0:00:01\r\u001b[K     |███████████████████████         | 143kB 7.5MB/s eta 0:00:01\r\u001b[K     |████████████████████████▊       | 153kB 7.5MB/s eta 0:00:01\r\u001b[K     |██████████████████████████▍     | 163kB 7.5MB/s eta 0:00:01\r\u001b[K     |████████████████████████████    | 174kB 7.5MB/s eta 0:00:01\r\u001b[K     |█████████████████████████████▊  | 184kB 7.5MB/s eta 0:00:01\r\u001b[K     |███████████████████████████████▍| 194kB 7.5MB/s eta 0:00:01\r\u001b[K     |████████████████████████████████| 204kB 7.5MB/s \n",
            "\u001b[?25hInstalling collected packages: py4j\n",
            "Successfully installed py4j-0.10.9.1\n",
            "Requirement already satisfied: folium in /usr/local/lib/python3.6/dist-packages (0.8.3)\n",
            "Requirement already satisfied: six in /usr/local/lib/python3.6/dist-packages (from folium) (1.15.0)\n",
            "Requirement already satisfied: requests in /usr/local/lib/python3.6/dist-packages (from folium) (2.23.0)\n",
            "Requirement already satisfied: branca>=0.3.0 in /usr/local/lib/python3.6/dist-packages (from folium) (0.4.1)\n",
            "Requirement already satisfied: jinja2 in /usr/local/lib/python3.6/dist-packages (from folium) (2.11.2)\n",
            "Requirement already satisfied: numpy in /usr/local/lib/python3.6/dist-packages (from folium) (1.18.5)\n",
            "Requirement already satisfied: chardet<4,>=3.0.2 in /usr/local/lib/python3.6/dist-packages (from requests->folium) (3.0.4)\n",
            "Requirement already satisfied: idna<3,>=2.5 in /usr/local/lib/python3.6/dist-packages (from requests->folium) (2.10)\n",
            "Requirement already satisfied: urllib3!=1.25.0,!=1.25.1,<1.26,>=1.21.1 in /usr/local/lib/python3.6/dist-packages (from requests->folium) (1.24.3)\n",
            "Requirement already satisfied: certifi>=2017.4.17 in /usr/local/lib/python3.6/dist-packages (from requests->folium) (2020.11.8)\n",
            "Requirement already satisfied: MarkupSafe>=0.23 in /usr/local/lib/python3.6/dist-packages (from jinja2->folium) (1.1.1)\n",
            "Requirement already satisfied: plotly in /usr/local/lib/python3.6/dist-packages (4.4.1)\n",
            "Requirement already satisfied: six in /usr/local/lib/python3.6/dist-packages (from plotly) (1.15.0)\n",
            "Requirement already satisfied: retrying>=1.3.3 in /usr/local/lib/python3.6/dist-packages (from plotly) (1.3.3)\n"
          ],
          "name": "stdout"
        }
      ]
    },
    {
      "cell_type": "markdown",
      "metadata": {
        "id": "W0qDLAxMTUYQ"
      },
      "source": [
        "Define the environment (Java & Spark homes)\n",
        "\n",
        "---"
      ]
    },
    {
      "cell_type": "code",
      "metadata": {
        "id": "nSd4dfANNndH"
      },
      "source": [
        "import os\n",
        "os.environ[\"JAVA_HOME\"] = \"/usr/lib/jvm/java-8-openjdk-amd64\"\n",
        "os.environ[\"SPARK_HOME\"] = \"/content/spark-3.0.1-bin-hadoop3.2\"\n",
        "os.environ[\"PYSPARK_SUBMIT_ARGS\"] = \"--master local[*] pyspark-shell\""
      ],
      "execution_count": null,
      "outputs": []
    },
    {
      "cell_type": "markdown",
      "metadata": {
        "id": "K_IgZEv2XaDm"
      },
      "source": [
        "Starting Spark Session and print the version\n",
        "\n",
        "\n",
        "---\n"
      ]
    },
    {
      "cell_type": "code",
      "metadata": {
        "id": "BDLMbVBATf9K",
        "colab": {
          "base_uri": "https://localhost:8080/",
          "height": 35
        },
        "outputId": "db9c8903-bb09-45a3-81a6-e895614e8c80"
      },
      "source": [
        "import findspark\n",
        "findspark.init(\"spark-3.0.1-bin-hadoop3.2\")# SPARK_HOME\n",
        "\n",
        "from pyspark.sql import SparkSession\n",
        "\n",
        "# create the session\n",
        "spark = SparkSession \\\n",
        "        .builder \\\n",
        "        .master(\"local[*]\") \\\n",
        "        .config(\"spark.ui.port\", \"4500\") \\\n",
        "        .getOrCreate()\n",
        "\n",
        "spark.version"
      ],
      "execution_count": null,
      "outputs": [
        {
          "output_type": "execute_result",
          "data": {
            "application/vnd.google.colaboratory.intrinsic+json": {
              "type": "string"
            },
            "text/plain": [
              "'3.0.1'"
            ]
          },
          "metadata": {
            "tags": []
          },
          "execution_count": 3
        }
      ]
    },
    {
      "cell_type": "code",
      "metadata": {
        "id": "G28MgeRJHKJ5",
        "colab": {
          "base_uri": "https://localhost:8080/",
          "height": 221
        },
        "outputId": "2febd3ab-d324-47f0-cf15-5b1590ebacb6"
      },
      "source": [
        "spark"
      ],
      "execution_count": null,
      "outputs": [
        {
          "output_type": "execute_result",
          "data": {
            "text/html": [
              "\n",
              "            <div>\n",
              "                <p><b>SparkSession - in-memory</b></p>\n",
              "                \n",
              "        <div>\n",
              "            <p><b>SparkContext</b></p>\n",
              "\n",
              "            <p><a href=\"http://ebe80e70d4f8:4500\">Spark UI</a></p>\n",
              "\n",
              "            <dl>\n",
              "              <dt>Version</dt>\n",
              "                <dd><code>v3.0.1</code></dd>\n",
              "              <dt>Master</dt>\n",
              "                <dd><code>local[*]</code></dd>\n",
              "              <dt>AppName</dt>\n",
              "                <dd><code>pyspark-shell</code></dd>\n",
              "            </dl>\n",
              "        </div>\n",
              "        \n",
              "            </div>\n",
              "        "
            ],
            "text/plain": [
              "<pyspark.sql.session.SparkSession at 0x7f4eb00fbc50>"
            ]
          },
          "metadata": {
            "tags": []
          },
          "execution_count": 4
        }
      ]
    },
    {
      "cell_type": "code",
      "metadata": {
        "id": "qPrOO29YRuDB"
      },
      "source": [
        "# For Pandas conversion optimization\n",
        "spark.conf.set(\"spark.sql.execution.arrow.enabled\", \"true\")"
      ],
      "execution_count": null,
      "outputs": []
    },
    {
      "cell_type": "markdown",
      "metadata": {
        "id": "FNiYuI5dGo8Y"
      },
      "source": [
        "Creating ngrok tunnel to allow Spark UI (Optional)\n"
      ]
    },
    {
      "cell_type": "code",
      "metadata": {
        "id": "x4-7fXZiGmqB",
        "colab": {
          "base_uri": "https://localhost:8080/"
        },
        "outputId": "226c0efb-d011-4fbf-e17d-d0c697e8e2ae"
      },
      "source": [
        "!wget https://bin.equinox.io/c/4VmDzA7iaHb/ngrok-stable-linux-amd64.zip\n",
        "!unzip -o ngrok-stable-linux-amd64.zip\n",
        "!sleep 2\n",
        "get_ipython().system_raw('./ngrok http 4500 &')\n",
        "!curl -s http://localhost:4040/api/tunnels | python3 -c \\\n",
        "    \"import sys, json; print(json.load(sys.stdin)['tunnels'][0]['public_url'])\""
      ],
      "execution_count": null,
      "outputs": [
        {
          "output_type": "stream",
          "text": [
            "--2020-11-25 12:51:21--  https://bin.equinox.io/c/4VmDzA7iaHb/ngrok-stable-linux-amd64.zip\n",
            "Resolving bin.equinox.io (bin.equinox.io)... 34.198.20.103, 35.174.46.144, 54.227.160.247, ...\n",
            "Connecting to bin.equinox.io (bin.equinox.io)|34.198.20.103|:443... connected.\n",
            "HTTP request sent, awaiting response... 200 OK\n",
            "Length: 13773305 (13M) [application/octet-stream]\n",
            "Saving to: ‘ngrok-stable-linux-amd64.zip.1’\n",
            "\n",
            "ngrok-stable-linux- 100%[===================>]  13.13M  15.9MB/s    in 0.8s    \n",
            "\n",
            "2020-11-25 12:51:22 (15.9 MB/s) - ‘ngrok-stable-linux-amd64.zip.1’ saved [13773305/13773305]\n",
            "\n",
            "Archive:  ngrok-stable-linux-amd64.zip\n",
            "  inflating: ngrok                   \n",
            "http://767ee60b1595.ngrok.io\n"
          ],
          "name": "stdout"
        }
      ]
    },
    {
      "cell_type": "markdown",
      "metadata": {
        "id": "8Z0h3dF9Vg4X"
      },
      "source": [
        "# Descargar Datasets"
      ]
    },
    {
      "cell_type": "code",
      "metadata": {
        "id": "KBDin-0sXgyI",
        "colab": {
          "base_uri": "https://localhost:8080/"
        },
        "outputId": "e40d6bb2-1728-4da2-d0ca-50a7378ea425"
      },
      "source": [
        "!mkdir -p /dataset\n",
        "!wget -q https://github.com/masfworld/datahack_docker/raw/master/zeppelin/data/bank.csv -P /dataset\n",
        "!wget -q https://github.com/masfworld/datahack_docker/raw/master/zeppelin/data/vehicles.csv -P /dataset\n",
        "!wget -q https://github.com/masfworld/datahack_docker/raw/master/zeppelin/data/characters.csv -P /dataset\n",
        "!wget -q https://github.com/masfworld/datahack_docker/raw/master/zeppelin/data/planets.csv -P /dataset\n",
        "!wget -q https://github.com/masfworld/datahack_docker/raw/master/zeppelin/data/species.csv -P /dataset\n",
        "!ls /dataset"
      ],
      "execution_count": null,
      "outputs": [
        {
          "output_type": "stream",
          "text": [
            "bank.csv  characters.csv  planets.csv  species.csv  vehicles.csv\n"
          ],
          "name": "stdout"
        }
      ]
    },
    {
      "cell_type": "markdown",
      "metadata": {
        "id": "02Zwm3NRXS_I"
      },
      "source": [
        "# Windows Partitioning\n",
        "\n",
        "---\n",
        "\n"
      ]
    },
    {
      "cell_type": "markdown",
      "metadata": {
        "id": "h1o6f6QOjTcZ"
      },
      "source": [
        "## Ejemplo 1"
      ]
    },
    {
      "cell_type": "code",
      "metadata": {
        "id": "USrsDETtstv-",
        "colab": {
          "base_uri": "https://localhost:8080/"
        },
        "outputId": "6da404d8-9001-4fe4-87bd-a21a167331d2"
      },
      "source": [
        "!head /dataset/bank.csv"
      ],
      "execution_count": null,
      "outputs": [
        {
          "output_type": "stream",
          "text": [
            "\"age\";\"job\";\"marital\";\"education\";\"default\";\"balance\";\"housing\";\"loan\";\"contact\";\"day\";\"month\";\"duration\";\"campaign\";\"pdays\";\"previous\";\"poutcome\";\"y\"\n",
            "30;\"unemployed\";\"married\";\"primary\";\"no\";1787;\"no\";\"no\";\"cellular\";19;\"oct\";79;1;-1;0;\"unknown\";\"no\"\n",
            "33;\"services\";\"married\";\"secondary\";\"no\";4789;\"yes\";\"yes\";\"cellular\";11;\"may\";220;1;339;4;\"failure\";\"no\"\n",
            "35;\"management\";\"single\";\"tertiary\";\"no\";1350;\"yes\";\"no\";\"cellular\";16;\"apr\";185;1;330;1;\"failure\";\"no\"\n",
            "30;\"management\";\"married\";\"tertiary\";\"no\";1476;\"yes\";\"yes\";\"unknown\";3;\"jun\";199;4;-1;0;\"unknown\";\"no\"\n",
            "59;\"blue-collar\";\"married\";\"secondary\";\"no\";0;\"yes\";\"no\";\"unknown\";5;\"may\";226;1;-1;0;\"unknown\";\"no\"\n",
            "35;\"management\";\"single\";\"tertiary\";\"no\";747;\"no\";\"no\";\"cellular\";23;\"feb\";141;2;176;3;\"failure\";\"no\"\n",
            "36;\"self-employed\";\"married\";\"tertiary\";\"no\";307;\"yes\";\"no\";\"cellular\";14;\"may\";341;1;330;2;\"other\";\"no\"\n",
            "39;\"technician\";\"married\";\"secondary\";\"no\";147;\"yes\";\"no\";\"cellular\";6;\"may\";151;2;-1;0;\"unknown\";\"no\"\n",
            "41;\"entrepreneur\";\"married\";\"tertiary\";\"no\";221;\"yes\";\"no\";\"unknown\";14;\"may\";57;2;-1;0;\"unknown\";\"no\"\n"
          ],
          "name": "stdout"
        }
      ]
    },
    {
      "cell_type": "markdown",
      "metadata": {
        "id": "yjPpxRyJYA1h"
      },
      "source": [
        "Leyendo Datos del fichero bank.csv a un Dataframe"
      ]
    },
    {
      "cell_type": "code",
      "metadata": {
        "id": "HnbafeFCVk8d"
      },
      "source": [
        "from pyspark.sql.functions import *\n",
        "\n",
        "bank_df = spark.read.format(\"csv\") \\\n",
        "  .option(\"sep\", \";\") \\\n",
        "  .option(\"inferSchema\", \"true\") \\\n",
        "  .option(\"header\", \"true\") \\\n",
        "  .load(\"/dataset/bank.csv\")"
      ],
      "execution_count": null,
      "outputs": []
    },
    {
      "cell_type": "code",
      "metadata": {
        "id": "qxhLiwwXk6kD",
        "colab": {
          "base_uri": "https://localhost:8080/"
        },
        "outputId": "06120ae5-9633-4a9a-a058-29ec3c21e0c7"
      },
      "source": [
        "bank_df.show()"
      ],
      "execution_count": null,
      "outputs": [
        {
          "output_type": "stream",
          "text": [
            "+---+-------------+-------+---------+-------+-------+-------+----+--------+---+-----+--------+--------+-----+--------+--------+---+\n",
            "|age|          job|marital|education|default|balance|housing|loan| contact|day|month|duration|campaign|pdays|previous|poutcome|  y|\n",
            "+---+-------------+-------+---------+-------+-------+-------+----+--------+---+-----+--------+--------+-----+--------+--------+---+\n",
            "| 30|   unemployed|married|  primary|     no|   1787|     no|  no|cellular| 19|  oct|      79|       1|   -1|       0| unknown| no|\n",
            "| 33|     services|married|secondary|     no|   4789|    yes| yes|cellular| 11|  may|     220|       1|  339|       4| failure| no|\n",
            "| 35|   management| single| tertiary|     no|   1350|    yes|  no|cellular| 16|  apr|     185|       1|  330|       1| failure| no|\n",
            "| 30|   management|married| tertiary|     no|   1476|    yes| yes| unknown|  3|  jun|     199|       4|   -1|       0| unknown| no|\n",
            "| 59|  blue-collar|married|secondary|     no|      0|    yes|  no| unknown|  5|  may|     226|       1|   -1|       0| unknown| no|\n",
            "| 35|   management| single| tertiary|     no|    747|     no|  no|cellular| 23|  feb|     141|       2|  176|       3| failure| no|\n",
            "| 36|self-employed|married| tertiary|     no|    307|    yes|  no|cellular| 14|  may|     341|       1|  330|       2|   other| no|\n",
            "| 39|   technician|married|secondary|     no|    147|    yes|  no|cellular|  6|  may|     151|       2|   -1|       0| unknown| no|\n",
            "| 41| entrepreneur|married| tertiary|     no|    221|    yes|  no| unknown| 14|  may|      57|       2|   -1|       0| unknown| no|\n",
            "| 43|     services|married|  primary|     no|    -88|    yes| yes|cellular| 17|  apr|     313|       1|  147|       2| failure| no|\n",
            "| 39|     services|married|secondary|     no|   9374|    yes|  no| unknown| 20|  may|     273|       1|   -1|       0| unknown| no|\n",
            "| 43|       admin.|married|secondary|     no|    264|    yes|  no|cellular| 17|  apr|     113|       2|   -1|       0| unknown| no|\n",
            "| 36|   technician|married| tertiary|     no|   1109|     no|  no|cellular| 13|  aug|     328|       2|   -1|       0| unknown| no|\n",
            "| 20|      student| single|secondary|     no|    502|     no|  no|cellular| 30|  apr|     261|       1|   -1|       0| unknown|yes|\n",
            "| 31|  blue-collar|married|secondary|     no|    360|    yes| yes|cellular| 29|  jan|      89|       1|  241|       1| failure| no|\n",
            "| 40|   management|married| tertiary|     no|    194|     no| yes|cellular| 29|  aug|     189|       2|   -1|       0| unknown| no|\n",
            "| 56|   technician|married|secondary|     no|   4073|     no|  no|cellular| 27|  aug|     239|       5|   -1|       0| unknown| no|\n",
            "| 37|       admin.| single| tertiary|     no|   2317|    yes|  no|cellular| 20|  apr|     114|       1|  152|       2| failure| no|\n",
            "| 25|  blue-collar| single|  primary|     no|   -221|    yes|  no| unknown| 23|  may|     250|       1|   -1|       0| unknown| no|\n",
            "| 31|     services|married|secondary|     no|    132|     no|  no|cellular|  7|  jul|     148|       1|  152|       1|   other| no|\n",
            "+---+-------------+-------+---------+-------+-------+-------+----+--------+---+-----+--------+--------+-----+--------+--------+---+\n",
            "only showing top 20 rows\n",
            "\n"
          ],
          "name": "stdout"
        }
      ]
    },
    {
      "cell_type": "markdown",
      "metadata": {
        "id": "VHDroSQ1ZQSB"
      },
      "source": [
        "**Obtén el balance de las dos personas más jóvenes por tipo de trabajo**\n"
      ]
    },
    {
      "cell_type": "code",
      "metadata": {
        "id": "3BEWmhhYqxp8",
        "colab": {
          "base_uri": "https://localhost:8080/"
        },
        "outputId": "2faee94f-45c5-4881-ac75-87bf0d676f80"
      },
      "source": [
        "from pyspark.sql.window import Window\n",
        "\n",
        "byJob = Window.partitionBy(\"job\").orderBy(\"age\")\n",
        "\n",
        "bank_df \\\n",
        "  .withColumn(\"new_column_job\", row_number().over(byJob)) \\\n",
        "  .filter(col(\"new_column_job\") <= 2) \\\n",
        "  .select(\"age\", \"job\", \"balance\") \\\n",
        "  .orderBy(\"job\", \"age\") \\\n",
        "  .show()"
      ],
      "execution_count": null,
      "outputs": [
        {
          "output_type": "stream",
          "text": [
            "+---+-------------+-------+\n",
            "|age|          job|balance|\n",
            "+---+-------------+-------+\n",
            "| 22|       admin.|   4111|\n",
            "| 23|       admin.|      5|\n",
            "| 23|  blue-collar|    817|\n",
            "| 23|  blue-collar|   8627|\n",
            "| 23| entrepreneur|      4|\n",
            "| 25| entrepreneur|  16874|\n",
            "| 26|    housemaid|    543|\n",
            "| 26|    housemaid|   -759|\n",
            "| 23|   management|    736|\n",
            "| 24|   management|    172|\n",
            "| 24|      retired|    366|\n",
            "| 35|      retired|    285|\n",
            "| 25|self-employed|    453|\n",
            "| 26|self-employed|    211|\n",
            "| 21|     services|    361|\n",
            "| 21|     services|   1903|\n",
            "| 19|      student|    103|\n",
            "| 19|      student|      0|\n",
            "| 22|   technician|    333|\n",
            "| 23|   technician|    598|\n",
            "+---+-------------+-------+\n",
            "only showing top 20 rows\n",
            "\n"
          ],
          "name": "stdout"
        }
      ]
    },
    {
      "cell_type": "markdown",
      "metadata": {
        "id": "yzU_4EjAjZgh"
      },
      "source": [
        "## Ejercicio 1"
      ]
    },
    {
      "cell_type": "markdown",
      "metadata": {
        "id": "sV-NchsMsHvF"
      },
      "source": [
        "**A partir del Dataframe formado a partir del fichero \"bank.csv\". \n",
        "Obtén el Top 3 de máximos balances por estado civil**\n",
        "\n",
        "\n",
        "---\n",
        "\n",
        "\n"
      ]
    },
    {
      "cell_type": "code",
      "metadata": {
        "id": "SgireGq6YWEj",
        "colab": {
          "base_uri": "https://localhost:8080/"
        },
        "outputId": "8b54e8ed-f0f3-4fd9-c99e-ddd10039f045"
      },
      "source": [
        "byMarital = Window.partitionBy(\"marital\").orderBy(col(\"balance\").desc())\n",
        "\n",
        "bank_df \\\n",
        "  .withColumn(\"ranking\", row_number().over(byMarital)) \\\n",
        "  .filter(col(\"ranking\") <= 3) \\\n",
        "  .show()"
      ],
      "execution_count": null,
      "outputs": [
        {
          "output_type": "stream",
          "text": [
            "+---+-------------+--------+---------+-------+-------+-------+----+--------+---+-----+--------+--------+-----+--------+--------+---+-------+\n",
            "|age|          job| marital|education|default|balance|housing|loan| contact|day|month|duration|campaign|pdays|previous|poutcome|  y|ranking|\n",
            "+---+-------------+--------+---------+-------+-------+-------+----+--------+---+-----+--------+--------+-----+--------+--------+---+-------+\n",
            "| 54|   management|divorced| tertiary|     no|  26306|    yes|  no|cellular| 11|  feb|      27|       1|   84|       3| failure| no|      1|\n",
            "| 34|   management|divorced| tertiary|     no|  13204|    yes| yes|cellular| 20|  nov|     197|       2|   -1|       0| unknown| no|      2|\n",
            "| 51|self-employed|divorced|  primary|     no|  10924|     no|  no|cellular|  6|  may|     106|       2|   -1|       0| unknown| no|      3|\n",
            "| 60|      retired| married|  primary|     no|  71188|     no|  no|cellular|  6|  oct|     205|       1|   -1|       0| unknown| no|      1|\n",
            "| 42| entrepreneur| married| tertiary|     no|  42045|     no|  no|cellular|  8|  aug|     205|       2|   -1|       0| unknown| no|      2|\n",
            "| 36|   management| married| tertiary|     no|  27359|    yes|  no| unknown|  3|  jun|      71|       2|   -1|       0| unknown| no|      3|\n",
            "| 43|   technician|  single| tertiary|     no|  27733|    yes|  no| unknown|  3|  jun|     164|       7|   -1|       0| unknown| no|      1|\n",
            "| 31|    housemaid|  single|  primary|     no|  26965|     no|  no|cellular| 21|  apr|     654|       2|   -1|       0| unknown|yes|      2|\n",
            "| 49|      retired|  single|  primary|     no|  25824|     no|  no| unknown| 17|  jun|      94|       1|   -1|       0| unknown| no|      3|\n",
            "+---+-------------+--------+---------+-------+-------+-------+----+--------+---+-----+--------+--------+-----+--------+--------+---+-------+\n",
            "\n"
          ],
          "name": "stdout"
        }
      ]
    },
    {
      "cell_type": "markdown",
      "metadata": {
        "id": "bX0FXU7JawRm"
      },
      "source": [
        "## Ejercicio 2\n",
        "\n"
      ]
    },
    {
      "cell_type": "markdown",
      "metadata": {
        "id": "eBtPRPnVmpGM"
      },
      "source": [
        "**Carga el fichero de vehicles.csv en un DataFrame**"
      ]
    },
    {
      "cell_type": "code",
      "metadata": {
        "id": "eYPt59chwJUw",
        "colab": {
          "base_uri": "https://localhost:8080/"
        },
        "outputId": "35ace9e2-569b-4c24-8727-2773dbc87bcf"
      },
      "source": [
        "!head /dataset/vehicles.csv"
      ],
      "execution_count": null,
      "outputs": [
        {
          "output_type": "stream",
          "text": [
            "name,model,manufacturer,cost_in_credits,length,max_atmosphering_speed,crew,passengers,cargo_capacity,consumables,vehicle_class\n",
            "Sand Crawler,Digger Crawler,Corellia Mining Corporation,150000,36.8,30,46,30,50000,2 months,wheeled\n",
            "T-16 skyhopper,T-16 skyhopper,Incom Corporation,14500,10.4,1200,1,1,50,0,repulsorcraft\n",
            "X-34 landspeeder,X-34 landspeeder,SoroSuub Corporation,10550,3.4,250,1,1,5,NA,repulsorcraft\n",
            "TIE/LN starfighter,Twin Ion Engine/Ln Starfighter,Sienar Fleet Systems,NA,6.4,1200,1,0,65,2 days,starfighter\n",
            "Snowspeeder,t-47 airspeeder,Incom corporation,NA,4.5,650,2,0,10,none,airspeeder\n",
            "TIE bomber,TIE/sa bomber,Sienar Fleet Systems,NA,7.8,850,1,0,none,2 days,space/planetary bomber\n",
            "AT-AT,All Terrain Armored Transport,\"Kuat Drive Yards, Imperial Department of Military Research\",NA,20,60,5,40,1000,NA,assault walker\n",
            "AT-ST,All Terrain Scout Transport,\"Kuat Drive Yards, Imperial Department of Military Research\",NA,2,90,2,0,200,none,walker\n",
            "Storm IV Twin-Pod cloud car,Storm IV Twin-Pod,Bespin Motors,75000,7,1500,2,0,10,1 day,repulsorcraft\n"
          ],
          "name": "stdout"
        }
      ]
    },
    {
      "cell_type": "code",
      "metadata": {
        "id": "mCDo_-PiaEVl"
      },
      "source": [
        "vehiclesDF_all = spark.read.format(\"csv\")\\\n",
        "  .option(\"sep\", \",\") \\\n",
        "  .option(\"inferSchema\", \"true\") \\\n",
        "  .option(\"header\", \"true\") \\\n",
        "  .load(\"/dataset/vehicles.csv\")\n"
      ],
      "execution_count": null,
      "outputs": []
    },
    {
      "cell_type": "code",
      "metadata": {
        "id": "gWdg2O5bwhV-",
        "colab": {
          "base_uri": "https://localhost:8080/"
        },
        "outputId": "c4f5fa04-5a35-4dc3-a9df-d735824a5f5f"
      },
      "source": [
        "vehiclesDF_all.show(truncate=False)"
      ],
      "execution_count": null,
      "outputs": [
        {
          "output_type": "stream",
          "text": [
            "+------------------------------+-------------------------------+----------------------------------------------------------+---------------+------+----------------------+----+----------+--------------+---------------+-------------------------+\n",
            "|name                          |model                          |manufacturer                                              |cost_in_credits|length|max_atmosphering_speed|crew|passengers|cargo_capacity|consumables    |vehicle_class            |\n",
            "+------------------------------+-------------------------------+----------------------------------------------------------+---------------+------+----------------------+----+----------+--------------+---------------+-------------------------+\n",
            "|Sand Crawler                  |Digger Crawler                 |Corellia Mining Corporation                               |150000         |36.8  |30                    |46  |30        |50000         |2 months       |wheeled                  |\n",
            "|T-16 skyhopper                |T-16 skyhopper                 |Incom Corporation                                         |14500          |10.4  |1200                  |1   |1         |50            |0              |repulsorcraft            |\n",
            "|X-34 landspeeder              |X-34 landspeeder               |SoroSuub Corporation                                      |10550          |3.4   |250                   |1   |1         |5             |NA             |repulsorcraft            |\n",
            "|TIE/LN starfighter            |Twin Ion Engine/Ln Starfighter |Sienar Fleet Systems                                      |NA             |6.4   |1200                  |1   |0         |65            |2 days         |starfighter              |\n",
            "|Snowspeeder                   |t-47 airspeeder                |Incom corporation                                         |NA             |4.5   |650                   |2   |0         |10            |none           |airspeeder               |\n",
            "|TIE bomber                    |TIE/sa bomber                  |Sienar Fleet Systems                                      |NA             |7.8   |850                   |1   |0         |none          |2 days         |space/planetary bomber   |\n",
            "|AT-AT                         |All Terrain Armored Transport  |Kuat Drive Yards, Imperial Department of Military Research|NA             |20    |60                    |5   |40        |1000          |NA             |assault walker           |\n",
            "|AT-ST                         |All Terrain Scout Transport    |Kuat Drive Yards, Imperial Department of Military Research|NA             |2     |90                    |2   |0         |200           |none           |walker                   |\n",
            "|Storm IV Twin-Pod cloud car   |Storm IV Twin-Pod              |Bespin Motors                                             |75000          |7     |1500                  |2   |0         |10            |1 day          |repulsorcraft            |\n",
            "|Sail barge                    |Modified Luxury Sail Barge     |Ubrikkian Industries Custom Vehicle Division              |285000         |30    |100                   |26  |500       |2000000       |Live food tanks|sail barge               |\n",
            "|Bantha-II cargo skiff         |Bantha-II                      |Ubrikkian Industries                                      |8000           |9.5   |250                   |5   |16        |135000        |1 day          |repulsorcraft cargo skiff|\n",
            "|TIE/IN interceptor            |Twin Ion Engine Interceptor    |Sienar Fleet Systems                                      |NA             |9.6   |1250                  |1   |0         |75            |2 days         |starfighter              |\n",
            "|Imperial Speeder Bike         |74-Z speeder bike              |Aratech Repulsor Company                                  |8000           |3     |360                   |1   |1         |4             |1 day          |speeder                  |\n",
            "|Vulture Droid                 |Vulture-class droid starfighter|Haor Chall Engineering, Baktoid Armor Workshop            |NA             |3.5   |1200                  |0   |0         |0             |none           |starfighter              |\n",
            "|Multi-Troop Transport         |Multi-Troop Transport          |Baktoid Armor Workshop                                    |138000         |31    |35                    |4   |112       |12000         |NA             |repulsorcraft            |\n",
            "|Armored Assault Tank          |Armoured Assault Tank          |Baktoid Armor Workshop                                    |NA             |9.75  |55                    |4   |6         |NA            |NA             |repulsorcraft            |\n",
            "|Single Trooper Aerial Platform|Single Trooper Aerial Platform |Baktoid Armor Workshop                                    |2500           |2     |400                   |1   |0         |none          |none           |repulsorcraft            |\n",
            "|C-9979 landing craft          |C-9979 landing craft           |Haor Chall Engineering                                    |200000         |210   |587                   |140 |284       |1800000       |1 day          |landing craft            |\n",
            "|Tribubble bongo               |Tribubble bongo                |Otoh Gunga Bongameken Cooperative                         |NA             |15    |85                    |1   |2         |1600          |NA             |submarine                |\n",
            "|Sith speeder                  |FC-20 speeder bike             |Razalon                                                   |4000           |1.5   |180                   |1   |0         |2             |NA             |speeder                  |\n",
            "+------------------------------+-------------------------------+----------------------------------------------------------+---------------+------+----------------------+----+----------+--------------+---------------+-------------------------+\n",
            "only showing top 20 rows\n",
            "\n"
          ],
          "name": "stdout"
        }
      ]
    },
    {
      "cell_type": "markdown",
      "metadata": {
        "id": "vCDfqm_UxUcn"
      },
      "source": [
        "**Para cada uno de los vehículos, obtén la diferencia de precio (*cost_in_credits*) para cada producto con respecto al más barato en la misma clase de vehículo**\n",
        "\n",
        "\n",
        "---\n",
        "\n"
      ]
    },
    {
      "cell_type": "code",
      "metadata": {
        "id": "-IdhtILfwmSF",
        "colab": {
          "base_uri": "https://localhost:8080/"
        },
        "outputId": "8f9af5de-ed91-4f4f-c0e7-706c921fdba3"
      },
      "source": [
        "from pyspark.sql.types import IntegerType\n",
        "\n",
        "vehicles_filtered = vehiclesDF_all \\\n",
        "  .filter(col(\"cost_in_credits\") != \"NA\") \\\n",
        "  .withColumn(\"cost_in_credits\", col(\"cost_in_credits\").cast(IntegerType()))\n",
        "vehicles_filtered.printSchema()"
      ],
      "execution_count": null,
      "outputs": [
        {
          "output_type": "stream",
          "text": [
            "root\n",
            " |-- name: string (nullable = true)\n",
            " |-- model: string (nullable = true)\n",
            " |-- manufacturer: string (nullable = true)\n",
            " |-- cost_in_credits: integer (nullable = true)\n",
            " |-- length: string (nullable = true)\n",
            " |-- max_atmosphering_speed: string (nullable = true)\n",
            " |-- crew: integer (nullable = true)\n",
            " |-- passengers: string (nullable = true)\n",
            " |-- cargo_capacity: string (nullable = true)\n",
            " |-- consumables: string (nullable = true)\n",
            " |-- vehicle_class: string (nullable = true)\n",
            "\n"
          ],
          "name": "stdout"
        }
      ]
    },
    {
      "cell_type": "code",
      "metadata": {
        "id": "-n2R6MJlxP4w",
        "colab": {
          "base_uri": "https://localhost:8080/"
        },
        "outputId": "f846b154-42ef-46bd-c1f5-3f8d24c20c6e"
      },
      "source": [
        "from pyspark.sql.functions import *\n",
        "\n",
        "byClass = Window.partitionBy(\"vehicle_class\") \\\n",
        "  .orderBy(col(\"cost_in_credits\").asc())\n",
        "\n",
        "\n",
        "vehicles_filtered \\\n",
        "  .withColumn(\"cost_difference\", min(col(\"cost_in_credits\")).over(byClass) - col(\"cost_in_credits\")) \\\n",
        "  .withColumn(\"min_cost\", min(col(\"cost_in_credits\")).over(byClass)) \\\n",
        "  .orderBy(col(\"vehicle_class\"), col(\"cost_in_credits\").desc()) \\\n",
        "  .show()"
      ],
      "execution_count": null,
      "outputs": [
        {
          "output_type": "stream",
          "text": [
            "+--------------------+--------------------+--------------------+---------------+------+----------------------+----+----------+--------------+---------------+--------------------+---------------+--------+\n",
            "|                name|               model|        manufacturer|cost_in_credits|length|max_atmosphering_speed|crew|passengers|cargo_capacity|    consumables|       vehicle_class|cost_difference|min_cost|\n",
            "+--------------------+--------------------+--------------------+---------------+------+----------------------+----+----------+--------------+---------------+--------------------+---------------+--------+\n",
            "|Raddaugh Gnasp fl...|Raddaugh Gnasp fl...|Appazanna Enginee...|          14750|     7|                   310|   2|         0|            20|           none|         air speeder|              0|   14750|\n",
            "|       Droid gunship|   HMP droid gunship|Baktoid Fleet Ord...|          60000|  12.3|                   820|   0|         0|             0|           none|          airspeeder|         -47875|   12125|\n",
            "|Oevvaor jet catam...|Oevvaor jet catam...|Appazanna Enginee...|          12125|  15.1|                   420|   2|         2|            50|         3 days|          airspeeder|              0|   12125|\n",
            "|   Droid tri-fighter|         tri-fighter|Colla Designs, Ph...|          20000|   5.4|                  1180|   1|         0|             0|           none|   droid starfighter|              0|   20000|\n",
            "|Corporate Allianc...|NR-N99 Persuader-...|        Techno Union|          49000| 10.96|                   100|   0|         4|          none|           none|          droid tank|              0|   49000|\n",
            "|C-9979 landing craft|C-9979 landing craft|Haor Chall Engine...|         200000|   210|                   587| 140|       284|       1800000|          1 day|       landing craft|              0|  200000|\n",
            "|Multi-Troop Trans...|Multi-Troop Trans...|Baktoid Armor Wor...|         138000|    31|                    35|   4|       112|         12000|             NA|       repulsorcraft|        -135500|    2500|\n",
            "|Storm IV Twin-Pod...|   Storm IV Twin-Pod|       Bespin Motors|          75000|     7|                  1500|   2|         0|            10|          1 day|       repulsorcraft|         -72500|    2500|\n",
            "|      T-16 skyhopper|      T-16 skyhopper|   Incom Corporation|          14500|  10.4|                  1200|   1|         1|            50|              0|       repulsorcraft|         -12000|    2500|\n",
            "|    X-34 landspeeder|    X-34 landspeeder|SoroSuub Corporation|          10550|   3.4|                   250|   1|         1|             5|             NA|       repulsorcraft|          -8050|    2500|\n",
            "| Zephyr-G swoop bike| Zephyr-G swoop bike|Mobquet Swoops an...|           5750|  3.68|                   350|   1|         1|           200|           none|       repulsorcraft|          -3250|    2500|\n",
            "|Single Trooper Ae...|Single Trooper Ae...|Baktoid Armor Wor...|           2500|     2|                   400|   1|         0|          none|           none|       repulsorcraft|              0|    2500|\n",
            "|Bantha-II cargo s...|           Bantha-II|Ubrikkian Industries|           8000|   9.5|                   250|   5|        16|        135000|          1 day|repulsorcraft car...|              0|    8000|\n",
            "|          Sail barge|Modified Luxury S...|Ubrikkian Industr...|         285000|    30|                   100|  26|       500|       2000000|Live food tanks|          sail barge|              0|  285000|\n",
            "|    Flitknot speeder|    Flitknot speeder|Huppla Pasa Tisc ...|           8000|     2|                   634|   1|         0|            NA|             NA|             speeder|          -4000|    4000|\n",
            "|Imperial Speeder ...|   74-Z speeder bike|Aratech Repulsor ...|           8000|     3|                   360|   1|         1|             4|          1 day|             speeder|          -4000|    4000|\n",
            "|        Sith speeder|  FC-20 speeder bike|             Razalon|           4000|   1.5|                   180|   1|         0|             2|             NA|             speeder|              0|    4000|\n",
            "|               AT-RT|All Terrain Recon...|    Kuat Drive Yards|          40000|   3.2|                    90|   1|         0|            20|          1 day|              walker|              0|   40000|\n",
            "|        Sand Crawler|      Digger Crawler|Corellia Mining C...|         150000|  36.8|                    30|  46|        30|         50000|       2 months|             wheeled|              0|  150000|\n",
            "|    Clone turbo tank|  HAVw A6 Juggernaut|    Kuat Drive Yards|         350000|  49.4|                   160|  20|       300|         30000|        20 days|      wheeled walker|        -335000|   15000|\n",
            "+--------------------+--------------------+--------------------+---------------+------+----------------------+----+----------+--------------+---------------+--------------------+---------------+--------+\n",
            "only showing top 20 rows\n",
            "\n"
          ],
          "name": "stdout"
        }
      ]
    },
    {
      "cell_type": "markdown",
      "metadata": {
        "id": "8GUV9KLzqR-4"
      },
      "source": [
        "# Joins"
      ]
    },
    {
      "cell_type": "markdown",
      "metadata": {
        "id": "tZw41ki6kc3p"
      },
      "source": [
        "## Ejercicio 3"
      ]
    },
    {
      "cell_type": "markdown",
      "metadata": {
        "id": "YAzx5B5IkVeP"
      },
      "source": [
        "**Crea los dataframes correspondientes para los ficheros \"characters.csv\" y \"planets.csv\". <br/>\n",
        "Obtén la gravedad del planeta para cada personaje. Selecciona sólo el nombre del personaje y planeta además de su gravedad**\n",
        "\n",
        "\n",
        "---\n",
        "\n",
        "\n"
      ]
    },
    {
      "cell_type": "code",
      "metadata": {
        "id": "SIKCDk4mx0ep"
      },
      "source": [
        "charactersDF_all = spark.read.format(\"csv\")\\\n",
        "  .option(\"sep\", \",\") \\\n",
        "  .option(\"inferSchema\", \"true\") \\\n",
        "  .option(\"header\", \"true\") \\\n",
        "  .load(\"/dataset/characters.csv\")"
      ],
      "execution_count": null,
      "outputs": []
    },
    {
      "cell_type": "code",
      "metadata": {
        "id": "Mo8ehfZ_kPIt",
        "colab": {
          "base_uri": "https://localhost:8080/"
        },
        "outputId": "4319b892-6e40-4c30-ea29-44b398732f00"
      },
      "source": [
        "charactersDF_all.show(truncate=False)"
      ],
      "execution_count": null,
      "outputs": [
        {
          "output_type": "stream",
          "text": [
            "+---------------------+------+-----+-------------+----------------+---------+----------+-------------+----------+--------------+\n",
            "|name                 |height|mass |hair_color   |skin_color      |eye_color|birth_year|gender       |homeworld |species       |\n",
            "+---------------------+------+-----+-------------+----------------+---------+----------+-------------+----------+--------------+\n",
            "|Luke Skywalker       |172   |77   |blond        |fair            |blue     |19BBY     |male         |Tatooine  |Human         |\n",
            "|C-3PO                |167   |75   |NA           |gold            |yellow   |112BBY    |NA           |Tatooine  |Droid         |\n",
            "|R2-D2                |96    |32   |NA           |white, blue     |red      |33BBY     |NA           |Naboo     |Droid         |\n",
            "|Darth Vader          |202   |136  |none         |white           |yellow   |41.9BBY   |male         |Tatooine  |Human         |\n",
            "|Leia Organa          |150   |49   |brown        |light           |brown    |19BBY     |female       |Alderaan  |Human         |\n",
            "|Owen Lars            |178   |120  |brown, grey  |light           |blue     |52BBY     |male         |Tatooine  |Human         |\n",
            "|Beru Whitesun lars   |165   |75   |brown        |light           |blue     |47BBY     |female       |Tatooine  |Human         |\n",
            "|R5-D4                |97    |32   |NA           |white, red      |red      |NA        |NA           |Tatooine  |Droid         |\n",
            "|Biggs Darklighter    |183   |84   |black        |light           |brown    |24BBY     |male         |Tatooine  |Human         |\n",
            "|Obi-Wan Kenobi       |182   |77   |auburn, white|fair            |blue-gray|57BBY     |male         |Stewjon   |Human         |\n",
            "|Anakin Skywalker     |188   |84   |blond        |fair            |blue     |41.9BBY   |male         |Tatooine  |Human         |\n",
            "|Wilhuff Tarkin       |180   |NA   |auburn, grey |fair            |blue     |64BBY     |male         |Eriadu    |Human         |\n",
            "|Chewbacca            |228   |112  |brown        |NA              |blue     |200BBY    |male         |Kashyyyk  |Wookiee       |\n",
            "|Han Solo             |180   |80   |brown        |fair            |brown    |29BBY     |male         |Corellia  |Human         |\n",
            "|Greedo               |173   |74   |NA           |green           |black    |44BBY     |male         |Rodia     |Rodian        |\n",
            "|Jabba Desilijic Tiure|175   |1,358|NA           |green-tan, brown|orange   |600BBY    |hermaphrodite|Nal Hutta |Hutt          |\n",
            "|Wedge Antilles       |170   |77   |brown        |fair            |hazel    |21BBY     |male         |Corellia  |Human         |\n",
            "|Jek Tono Porkins     |180   |110  |brown        |fair            |blue     |NA        |male         |Bestine IV|Human         |\n",
            "|Yoda                 |66    |17   |white        |green           |brown    |896BBY    |male         |NA        |Yoda's species|\n",
            "|Palpatine            |170   |75   |grey         |pale            |yellow   |82BBY     |male         |Naboo     |Human         |\n",
            "+---------------------+------+-----+-------------+----------------+---------+----------+-------------+----------+--------------+\n",
            "only showing top 20 rows\n",
            "\n"
          ],
          "name": "stdout"
        }
      ]
    },
    {
      "cell_type": "code",
      "metadata": {
        "id": "XtofA1n1j2fQ"
      },
      "source": [
        "planetsDF_all = spark.read.format(\"csv\")\\\n",
        "  .option(\"sep\", \";\") \\\n",
        "  .option(\"inferSchema\", \"true\") \\\n",
        "  .option(\"header\", \"true\") \\\n",
        "  .load(\"/dataset/planets.csv\")"
      ],
      "execution_count": null,
      "outputs": []
    },
    {
      "cell_type": "code",
      "metadata": {
        "id": "iKwW-JUdj-Fr",
        "colab": {
          "base_uri": "https://localhost:8080/"
        },
        "outputId": "8fa0830f-acd5-4858-976d-b251a08bcee7"
      },
      "source": [
        "planetsDF_all.show(truncate=False)"
      ],
      "execution_count": null,
      "outputs": [
        {
          "output_type": "stream",
          "text": [
            "+--------------+---------------+--------------+--------+----------------------+--------------------------------------+----------------------------------------+-------------+-----------+\n",
            "|name          |rotation_period|orbital_period|diameter|climate               |gravity                               |terrain                                 |surface_water|population |\n",
            "+--------------+---------------+--------------+--------+----------------------+--------------------------------------+----------------------------------------+-------------+-----------+\n",
            "|Alderaan      |24             |364           |12500   |temperate             |1 standard                            |grasslands, mountains                   |40           |2000000000 |\n",
            "|Yavin IV      |24             |4818          |10200   |temperate, tropical   |1 standard                            |jungle, rainforests                     |8            |1000       |\n",
            "|Hoth          |23             |549           |7200    |frozen                |1.1 standard                          |tundra, ice caves, mountain ranges      |100          |NA         |\n",
            "|Dagobah       |23             |341           |8900    |murky                 |N/A                                   |swamp, jungles                          |8            |NA         |\n",
            "|Bespin        |12             |5110          |118000  |temperate             |1.5 (surface), 1 standard (Cloud City)|gas giant                               |0            |6000000    |\n",
            "|Endor         |18             |402           |4900    |temperate             |0.85 standard                         |forests, mountains, lakes               |8            |30000000   |\n",
            "|Naboo         |26             |312           |12120   |temperate             |1 standard                            |grassy hills, swamps, forests, mountains|12           |4500000000 |\n",
            "|Coruscant     |24             |368           |12240   |temperate             |1 standard                            |cityscape, mountains                    |NA           |1E+12      |\n",
            "|Kamino        |27             |463           |19720   |temperate             |1 standard                            |ocean                                   |100          |1000000000 |\n",
            "|Geonosis      |30             |256           |11370   |temperate, arid       |0.9 standard                          |rock, desert, mountain, barren          |5            |1E+11      |\n",
            "|Utapau        |27             |351           |12900   |temperate, arid, windy|1 standard                            |scrublands, savanna, canyons, sinkholes |0.9          |95000000   |\n",
            "|Mustafar      |36             |412           |4200    |hot                   |1 standard                            |volcanoes, lava rivers, mountains, caves|0            |20000      |\n",
            "|Kashyyyk      |26             |381           |12765   |tropical              |1 standard                            |jungle, forests, lakes, rivers          |60           |45000000   |\n",
            "|Polis Massa   |24             |590           |0       |artificial temperate  |0.56 standard                         |airless asteroid                        |0            |1000000    |\n",
            "|Mygeeto       |12             |167           |10088   |frigid                |1 standard                            |glaciers, mountains, ice canyons        |NA           |19000000   |\n",
            "|Felucia       |34             |231           |9100    |hot, humid            |0.75 standard                         |fungus forests                          |NA           |8500000    |\n",
            "|Cato Neimoidia|25             |278           |0       |temperate, moist      |1 standard                            |mountains, fields, forests, rock arches |NA           |10000000   |\n",
            "|Saleucami     |26             |392           |14920   |hot                   |NA                                    |caves, desert, mountains, volcanoes     |NA           |1400000000 |\n",
            "|Stewjon       |NA             |NA            |0       |temperate             |1 standard                            |grass                                   |NA           |NA         |\n",
            "|Eriadu        |24             |360           |13490   |polluted              |1 standard                            |cityscape                               |NA           |22000000000|\n",
            "+--------------+---------------+--------------+--------+----------------------+--------------------------------------+----------------------------------------+-------------+-----------+\n",
            "only showing top 20 rows\n",
            "\n"
          ],
          "name": "stdout"
        }
      ]
    },
    {
      "cell_type": "code",
      "metadata": {
        "id": "WMlJTJzTkC2j",
        "colab": {
          "base_uri": "https://localhost:8080/"
        },
        "outputId": "0e6e78d3-bcd7-4d9c-c880-246f58588cfb"
      },
      "source": [
        "from pyspark.sql.functions import *\n",
        "\n",
        "charactersDF_all \\\n",
        "  .join(planetsDF_all, charactersDF_all[\"homeworld\"] == planetsDF_all[\"name\"]) \\\n",
        "  .select(charactersDF_all[\"name\"], planetsDF_all[\"name\"], col(\"gravity\")) \\\n",
        "  .show()"
      ],
      "execution_count": null,
      "outputs": [
        {
          "output_type": "stream",
          "text": [
            "+--------------------+-----------+-------------+\n",
            "|                name|       name|      gravity|\n",
            "+--------------------+-----------+-------------+\n",
            "|          Wat Tambor|      Skako|            1|\n",
            "|      Wilhuff Tarkin|     Eriadu|   1 standard|\n",
            "|          Tion Medon|     Utapau|   1 standard|\n",
            "|   Poggle the Lesser|   Geonosis| 0.9 standard|\n",
            "|       Ratts Tyerell|Aleen Minor|           NA|\n",
            "|               Dooku|    Serenno|           NA|\n",
            "|            Shaak Ti|      Shili|            1|\n",
            "|           Sly Moore|     Umbara|           NA|\n",
            "|          Mon Mothma|  Chandrila|            1|\n",
            "|           Chewbacca|   Kashyyyk|   1 standard|\n",
            "|             Tarfful|   Kashyyyk|   1 standard|\n",
            "|Wicket Systri War...|      Endor|0.85 standard|\n",
            "|                Yoda|         NA|           NA|\n",
            "|               IG-88|         NA|           NA|\n",
            "|        Arvel Crynyd|         NA|           NA|\n",
            "|        Qui-Gon Jinn|         NA|           NA|\n",
            "|              R4-P17|         NA|           NA|\n",
            "|                Finn|         NA|           NA|\n",
            "|                 Rey|         NA|           NA|\n",
            "|         Poe Dameron|         NA|           NA|\n",
            "+--------------------+-----------+-------------+\n",
            "only showing top 20 rows\n",
            "\n"
          ],
          "name": "stdout"
        }
      ]
    },
    {
      "cell_type": "markdown",
      "metadata": {
        "id": "HSEBVnVQlU52"
      },
      "source": [
        "## Ejercicio 4"
      ]
    },
    {
      "cell_type": "markdown",
      "metadata": {
        "id": "JF4fyAaMlXsI"
      },
      "source": [
        "**Revisa el plan de ejecución del ejercicio 3. ¿Qué tipo de join se está ejecutando? ¿Por qué?**\n",
        "\n",
        "---"
      ]
    },
    {
      "cell_type": "markdown",
      "metadata": {
        "id": "bbYUbaSMlXGc"
      },
      "source": [
        "**Después de revisar el plan de ejecución, ejecuta las siguientes instrucciones**\n",
        "\n",
        "---"
      ]
    },
    {
      "cell_type": "code",
      "metadata": {
        "id": "y8HYt2Eylh4k"
      },
      "source": [
        "spark.conf.set(\"spark.sql.autoBroadcastJoinThreshold\", '0')"
      ],
      "execution_count": null,
      "outputs": []
    },
    {
      "cell_type": "code",
      "metadata": {
        "id": "SwEnVoVqnj7D",
        "colab": {
          "base_uri": "https://localhost:8080/",
          "height": 35
        },
        "outputId": "666331c1-364d-4b0b-977f-c2bb3a4c3818"
      },
      "source": [
        "spark.conf.get(\"spark.sql.autoBroadcastJoinThreshold\")"
      ],
      "execution_count": null,
      "outputs": [
        {
          "output_type": "execute_result",
          "data": {
            "application/vnd.google.colaboratory.intrinsic+json": {
              "type": "string"
            },
            "text/plain": [
              "'0'"
            ]
          },
          "metadata": {
            "tags": []
          },
          "execution_count": 25
        }
      ]
    },
    {
      "cell_type": "markdown",
      "metadata": {
        "id": "pxqgghUnlWe3"
      },
      "source": [
        "**Vuelve a ejecutar la consulta del ejercicio 3 que contiene el Join**\n",
        "\n",
        "---"
      ]
    },
    {
      "cell_type": "markdown",
      "metadata": {
        "id": "yT-AFIMvm43z"
      },
      "source": [
        "## Ejercicio 5"
      ]
    },
    {
      "cell_type": "markdown",
      "metadata": {
        "id": "C9UBVU6ym9ue"
      },
      "source": [
        "**Crea un DataFrame a partir del fichero de \"species.csv\" y reparticiona este y el DataFrame de Characters a 100 particiones**\n",
        "\n",
        "\n",
        "---\n",
        "\n"
      ]
    },
    {
      "cell_type": "code",
      "metadata": {
        "id": "nbQcMwsJmY4m"
      },
      "source": [
        "charactersDF_repartition = charactersDF_all.repartition(100)"
      ],
      "execution_count": null,
      "outputs": []
    },
    {
      "cell_type": "code",
      "metadata": {
        "id": "VUN9z44jm8Wa"
      },
      "source": [
        "speciesDF_all = spark.read.format(\"csv\") \\\n",
        "  .option(\"sep\", \",\") \\\n",
        "  .option(\"inferSchema\", \"true\") \\\n",
        "  .option(\"header\", \"true\") \\\n",
        "  .load(\"/dataset/species.csv\")"
      ],
      "execution_count": null,
      "outputs": []
    },
    {
      "cell_type": "code",
      "metadata": {
        "id": "-O1pIfZEnN7h",
        "colab": {
          "base_uri": "https://localhost:8080/"
        },
        "outputId": "ede0d21f-83b3-4a78-fcc6-4e763ee8235c"
      },
      "source": [
        "speciesDF_all.show()"
      ],
      "execution_count": null,
      "outputs": [
        {
          "output_type": "stream",
          "text": [
            "+--------------+--------------+-----------+--------------+--------------------+--------------------+--------------------+----------------+--------------+--------------+\n",
            "|          name|classification|designation|average_height|         skin_colors|         hair_colors|          eye_colors|average_lifespan|      language|     homeworld|\n",
            "+--------------+--------------+-----------+--------------+--------------------+--------------------+--------------------+----------------+--------------+--------------+\n",
            "|          Hutt|     gastropod|   sentient|           300|   green, brown, tan|                  NA|         yellow, red|            1000|       Huttese|     Nal Hutta|\n",
            "|Yoda's species|        mammal|   sentient|            66|       green, yellow|        brown, white|brown, green, yellow|             900|Galactic basic|            NA|\n",
            "|    Trandoshan|       reptile|   sentient|           200|        brown, green|                none|      yellow, orange|              NA|          Dosh|     Trandosha|\n",
            "|  Mon Calamari|     amphibian|   sentient|           160|red, blue, brown,...|                none|              yellow|              NA|Mon Calamarian|      Mon Cala|\n",
            "|          Ewok|        mammal|   sentient|           100|               brown| white, brown, black|       orange, brown|              NA|       Ewokese|         Endor|\n",
            "|     Sullustan|        mammal|   sentient|           180|                pale|                none|               black|              NA|     Sullutese|       Sullust|\n",
            "|     Neimodian|            NA|   sentient|           180|         grey, green|                none|           red, pink|              NA|     Neimoidia|Cato Neimoidia|\n",
            "|        Gungan|     amphibian|   sentient|           190|        brown, green|                none|              orange|              NA|  Gungan basic|         Naboo|\n",
            "|     Toydarian|        mammal|   sentient|           120|   blue, green, grey|                none|              yellow|              91|     Toydarian|      Toydaria|\n",
            "|           Dug|        mammal|   sentient|           100|brown, purple, gr...|                none|        yellow, blue|              NA|        Dugese|     Malastare|\n",
            "|       Twi'lek|       mammals|   sentient|           200|orange, yellow, b...|                none|blue, brown, oran...|              NA|      Twi'leki|        Ryloth|\n",
            "|        Aleena|       reptile|   sentient|            80|          blue, gray|                none|                  NA|              79|        Aleena|   Aleen Minor|\n",
            "|    Vulptereen|            NA|   sentient|           100|                grey|                none|              yellow|              NA|    vulpterish|       Vulpter|\n",
            "|         Xexto|            NA|   sentient|           125|grey, yellow, purple|                none|               black|              NA|       Xextese|       Troiken|\n",
            "|         Toong|            NA|   sentient|           200| grey, green, yellow|                none|              orange|              NA|        Tundan|          Tund|\n",
            "|        Cerean|        mammal|   sentient|           200|           pale pink|red, blond, black...|               hazel|              NA|        Cerean|         Cerea|\n",
            "|      Nautolan|     amphibian|   sentient|           180|green, blue, brow...|                none|               black|              70|       Nautila|   Glee Anselm|\n",
            "|        Zabrak|        mammal|   sentient|           180|pale, brown, red,...|               black|       brown, orange|              NA|       Zabraki|      Iridonia|\n",
            "|    Tholothian|        mammal|   sentient|            NA|                dark|                  NA|        blue, indigo|              NA|            NA|       Tholoth|\n",
            "|      Iktotchi|            NA|   sentient|           180|                pink|                none|              orange|              NA|    Iktotchese|       Iktotch|\n",
            "+--------------+--------------+-----------+--------------+--------------------+--------------------+--------------------+----------------+--------------+--------------+\n",
            "only showing top 20 rows\n",
            "\n"
          ],
          "name": "stdout"
        }
      ]
    },
    {
      "cell_type": "code",
      "metadata": {
        "id": "ohStdyUGnRC0"
      },
      "source": [
        "speciesDF_repartition = speciesDF_all.repartition(100)"
      ],
      "execution_count": null,
      "outputs": []
    },
    {
      "cell_type": "markdown",
      "metadata": {
        "id": "tv0AmHi926F7"
      },
      "source": [
        "## Ejercicio 6"
      ]
    },
    {
      "cell_type": "markdown",
      "metadata": {
        "id": "WR6FPU3b29TP"
      },
      "source": [
        "**Obtén la clasificación de especies para cada personaje. Selecciona sólo el nombre del personaje y su clasificación de especie**<br>\n",
        "Usa los datframes reparticionados\n",
        "\n",
        "\n",
        "---\n",
        "\n"
      ]
    },
    {
      "cell_type": "code",
      "metadata": {
        "id": "5zyuYbll3UrI"
      },
      "source": [
        "classDF = charactersDF_repartition \\\n",
        "  .join(speciesDF_repartition, charactersDF_repartition[\"species\"] == speciesDF_repartition[\"name\"]) \\\n",
        "  .select(charactersDF_repartition[\"name\"], speciesDF_repartition[\"classification\"]) \\\n"
      ],
      "execution_count": null,
      "outputs": []
    },
    {
      "cell_type": "code",
      "metadata": {
        "id": "C0tRj1VIonEX",
        "colab": {
          "base_uri": "https://localhost:8080/"
        },
        "outputId": "e3c4d3f5-1f1f-4b40-c3a6-d26597871205"
      },
      "source": [
        "classDF.show()"
      ],
      "execution_count": null,
      "outputs": [
        {
          "output_type": "stream",
          "text": [
            "+--------------------+--------------+\n",
            "|                name|classification|\n",
            "+--------------------+--------------+\n",
            "|          Zam Wesell|     reptilian|\n",
            "|     Dexter Jettster|     amphibian|\n",
            "|           Nien Nunb|        mammal|\n",
            "|Wicket Systri War...|        mammal|\n",
            "|             Sebulba|        mammal|\n",
            "|                Yoda|        mammal|\n",
            "|     Luminara Unduli|        mammal|\n",
            "|       Barriss Offee|        mammal|\n",
            "|          Wat Tambor|        mammal|\n",
            "|          Tion Medon|        mammal|\n",
            "|      Ben Quadinaros|            NA|\n",
            "|          Adi Gallia|        mammal|\n",
            "|              Greedo|      sentient|\n",
            "|          Mas Amedda|     amphibian|\n",
            "|            Shaak Ti|        mammal|\n",
            "|             Gasgano|            NA|\n",
            "|            Plo Koon|            NA|\n",
            "|         Nute Gunray|            NA|\n",
            "|          Darth Maul|        mammal|\n",
            "|           Eeth Koth|        mammal|\n",
            "+--------------------+--------------+\n",
            "only showing top 20 rows\n",
            "\n"
          ],
          "name": "stdout"
        }
      ]
    },
    {
      "cell_type": "markdown",
      "metadata": {
        "id": "xG81SgpY4P3t"
      },
      "source": [
        "## Ejercicio 7"
      ]
    },
    {
      "cell_type": "markdown",
      "metadata": {
        "id": "56fGSsmt4adO"
      },
      "source": [
        "**Ejecuta la siguiente operación sobre el DataFrame del ejercicio 6 y observa la diferencia de reparto de rows entre las particiones**\n",
        "\n",
        "---\n",
        "\n"
      ]
    },
    {
      "cell_type": "code",
      "metadata": {
        "id": "EFvUIbn93woD",
        "colab": {
          "base_uri": "https://localhost:8080/"
        },
        "outputId": "c8f70395-fd8b-4240-bdac-d5679201f677"
      },
      "source": [
        "from pyspark.sql.functions import *\n",
        "\n",
        "classDF \\\n",
        "  .withColumn(\"partitionId\", spark_partition_id()) \\\n",
        "  .groupBy(\"partitionId\") \\\n",
        "  .count() \\\n",
        "  .orderBy(col(\"count\").desc()) \\\n",
        "  .show()"
      ],
      "execution_count": null,
      "outputs": [
        {
          "output_type": "stream",
          "text": [
            "+-----------+-----+\n",
            "|partitionId|count|\n",
            "+-----------+-----+\n",
            "|        183|   35|\n",
            "|        170|    5|\n",
            "|        169|    3|\n",
            "|         58|    2|\n",
            "|         65|    2|\n",
            "|        173|    2|\n",
            "|          8|    2|\n",
            "|         43|    2|\n",
            "|        134|    2|\n",
            "|         89|    2|\n",
            "|         51|    1|\n",
            "|         49|    1|\n",
            "|        140|    1|\n",
            "|        176|    1|\n",
            "|         47|    1|\n",
            "|        175|    1|\n",
            "|        127|    1|\n",
            "|         50|    1|\n",
            "|        179|    1|\n",
            "|         64|    1|\n",
            "+-----------+-----+\n",
            "only showing top 20 rows\n",
            "\n"
          ],
          "name": "stdout"
        }
      ]
    },
    {
      "cell_type": "code",
      "metadata": {
        "id": "XhNn5PZX6Dpf",
        "colab": {
          "base_uri": "https://localhost:8080/"
        },
        "outputId": "6186259e-cfc6-4387-ff8d-bd8cb2824860"
      },
      "source": [
        "classDF \\\n",
        "  .repartition(20) \\\n",
        "  .withColumn(\"partitionId\", spark_partition_id()) \\\n",
        "  .groupBy(\"partitionId\") \\\n",
        "  .count() \\\n",
        "  .orderBy(col(\"count\").desc()) \\\n",
        "  .show()"
      ],
      "execution_count": null,
      "outputs": [
        {
          "output_type": "stream",
          "text": [
            "+-----------+-----+\n",
            "|partitionId|count|\n",
            "+-----------+-----+\n",
            "|         17|    7|\n",
            "|          1|    7|\n",
            "|         18|    7|\n",
            "|          2|    6|\n",
            "|         16|    5|\n",
            "|          4|    5|\n",
            "|          5|    5|\n",
            "|         19|    5|\n",
            "|          3|    5|\n",
            "|          6|    4|\n",
            "|          0|    4|\n",
            "|         15|    3|\n",
            "|         10|    3|\n",
            "|          9|    3|\n",
            "|          7|    3|\n",
            "|         12|    2|\n",
            "|         13|    2|\n",
            "|          8|    2|\n",
            "|         11|    2|\n",
            "|         14|    2|\n",
            "+-----------+-----+\n",
            "\n"
          ],
          "name": "stdout"
        }
      ]
    },
    {
      "cell_type": "code",
      "metadata": {
        "id": "Io-BtgnHyKZ6"
      },
      "source": [
        ""
      ],
      "execution_count": null,
      "outputs": []
    }
  ]
}
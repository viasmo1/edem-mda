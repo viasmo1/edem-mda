{
 "cells": [
  {
   "cell_type": "markdown",
   "metadata": {},
   "source": [
    "# EDEM Captura y Regogida Datos Exercise 3"
   ]
  },
  {
   "cell_type": "markdown",
   "metadata": {},
   "source": [
    "On this exercise we will play with a JSON file to understand how to access to the data inside of it. "
   ]
  },
  {
   "cell_type": "markdown",
   "metadata": {},
   "source": [
    "First thing we do is to paste our created sales records file as an string.\n",
    "\n",
    "Example: \n",
    "```python\n",
    "    data = '{ \"items\": [{\"item\": \"Beer\", \"cost\":\"£4.00\"}, {\"item\": \"Beer2\", \"cost\":\"£43.00\"}]}'\n",
    "```\n"
   ]
  },
  {
   "cell_type": "code",
   "execution_count": 1,
   "metadata": {},
   "outputs": [],
   "source": [
    "import json\n",
    "data = '{\"orders\":[{\"orderNumber\":10107,\"quantityOrder\":30,\"priceEach\":95.7,\"orderLineNumber\":2,\"sales\":2871,\"orderDate\":\"2/24/2003 0:00\",\"status\":\"Shipped\",\"QTR_ID\":1,\"MONTH_ID\":2,\"YEAR_ID\":2003},{\"orderNumber\":10121,\"quantityOrder\":34,\"priceEach\":81.35,\"orderLineNumber\":5,\"sales\":2765.9,\"orderDate\":\"5/7/2003 0:00\",\"status\":\"Shipped\",\"QTR_ID\":2,\"MONTH_ID\":5,\"YEAR_ID\":2003}]}'"
   ]
  },
  {
   "cell_type": "markdown",
   "metadata": {},
   "source": [
    "Second we load the json file inside a dictionary on Python"
   ]
  },
  {
   "cell_type": "code",
   "execution_count": 2,
   "metadata": {},
   "outputs": [],
   "source": [
    "json_parsed = json.loads(data)"
   ]
  },
  {
   "cell_type": "markdown",
   "metadata": {},
   "source": [
    "Finally we print on screen second order sales field"
   ]
  },
  {
   "cell_type": "code",
   "execution_count": 3,
   "metadata": {},
   "outputs": [
    {
     "name": "stdout",
     "output_type": "stream",
     "text": [
      "2765.9\n"
     ]
    }
   ],
   "source": [
    "print(json_parsed[\"orders\"][1][\"sales\"])"
   ]
  },
  {
   "cell_type": "markdown",
   "metadata": {},
   "source": [
    "Now print first order quantityOrder field"
   ]
  },
  {
   "cell_type": "code",
   "execution_count": 5,
   "metadata": {},
   "outputs": [
    {
     "name": "stdout",
     "output_type": "stream",
     "text": [
      "30\n"
     ]
    }
   ],
   "source": [
    "print(json_parsed[\"orders\"][0][\"quantityOrder\"])"
   ]
  }
 ],
 "metadata": {
  "kernelspec": {
   "display_name": "Python 3",
   "language": "python",
   "name": "python3"
  },
  "language_info": {
   "codemirror_mode": {
    "name": "ipython",
    "version": 3
   },
   "file_extension": ".py",
   "mimetype": "text/x-python",
   "name": "python",
   "nbconvert_exporter": "python",
   "pygments_lexer": "ipython3",
   "version": "3.8.6"
  }
 },
 "nbformat": 4,
 "nbformat_minor": 2
}

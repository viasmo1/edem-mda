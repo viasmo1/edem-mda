{
 "cells": [
  {
   "cell_type": "markdown",
   "metadata": {},
   "source": [
    "## Stream Processing Arquitectura Completa"
   ]
  },
  {
   "cell_type": "markdown",
   "metadata": {},
   "source": [
    "Goals:\n",
    "\n",
    "* Perform a realtime stock prices analytics\n",
    "* For this we use two data sources\n",
    "    * [IEX Cloud](https://iexcloud.io/)\n",
    "    * [Twitter](https://developer.twitter.com/)\n",
    "* We implement following data pipeline\n",
    "    * Data Ingestion in Nifi and Kafka\n",
    "    * Data processing with Spark Streaming\n",
    "    * Data Storage on Elasticsearch\n",
    "    * Data visualization on Kibana\n"
   ]
  },
  {
   "cell_type": "markdown",
   "metadata": {},
   "source": [
    "Let’s create a data processing for Stock prices"
   ]
  },
  {
   "cell_type": "code",
   "execution_count": null,
   "metadata": {},
   "outputs": [],
   "source": [
    "import sys\n",
    "import json\n",
    "import pprint\n",
    "from pyspark import SparkContext\n",
    "from pyspark import SparkConf\n",
    "from pyspark.streaming import StreamingContext\n",
    "\n",
    "from pyspark.streaming.kafka import KafkaUtils\n",
    "\n",
    "conf = SparkConf().setAll([(\"es.index.auto.create\", \"true\")])\n",
    "\n",
    "sc = SparkContext(appName=\"QuotesConsumer\",conf=conf)\n",
    "ssc = StreamingContext(sc, 1)\n",
    "\n",
    "kafkaParams = {'bootstrap.servers': 'broker:29092', 'group.id' : 'quotesConsumer'}\n",
    "topicQuotes = ['quotes']\n",
    "\n",
    "streamQuotes = KafkaUtils.createDirectStream(ssc, topicQuotes, kafkaParams)"
   ]
  },
  {
   "cell_type": "markdown",
   "metadata": {},
   "source": [
    "Load companies Json reference on a dictionary"
   ]
  },
  {
   "cell_type": "code",
   "execution_count": null,
   "metadata": {},
   "outputs": [],
   "source": [
    "with open('/tmp/data/companies.json') as json_file:\n",
    "    Lines = json_file.readlines()\n",
    "    \n",
    "companies = { }\n",
    "# Parse compnies data\n",
    "for line in Lines: \n",
    "    data = json.loads(line) \n",
    "    companies[data[\"symbol\"]]=data"
   ]
  },
  {
   "cell_type": "markdown",
   "metadata": {},
   "source": [
    "Create an enrichment function to add company data to every input quote\n",
    "    \n",
    "    \n"
   ]
  },
  {
   "cell_type": "code",
   "execution_count": null,
   "metadata": {},
   "outputs": [],
   "source": [
    "def enrichQuote(quote, companies):\n",
    "    quoteJson=json.loads(quote[1])    \n",
    "    companyJson=companies[quoteJson[\"symbol\"]]\n",
    "    quoteJson.update(companyJson) \n",
    "    return(quote[0],json.dumps(quoteJson))"
   ]
  },
  {
   "cell_type": "markdown",
   "metadata": {},
   "source": [
    "Now apply a map to add this company reference fields"
   ]
  },
  {
   "cell_type": "code",
   "execution_count": null,
   "metadata": {},
   "outputs": [],
   "source": [
    "streamQuotesEnriched=streamQuotes.map(lambda record : enrichQuote(record,companies) )                                   \n",
    "    \n",
    "streamQuotesEnriched.map(lambda record : (record[0], record[1])).pprint()"
   ]
  },
  {
   "cell_type": "markdown",
   "metadata": {},
   "source": [
    "Finally we add a sink to store on elastic"
   ]
  },
  {
   "cell_type": "code",
   "execution_count": null,
   "metadata": {},
   "outputs": [],
   "source": [
    "es_write_quotes = {\n",
    "        \"es.nodes\" : \"elasticsearch\",\n",
    "        \"es.port\" : \"9200\",\n",
    "        \"es.resource\" : 'quotes/_doc',\n",
    "        \"es.input.json\": \"yes\",\n",
    "    }\n",
    "\n",
    "\n",
    "streamQuotesEnriched.foreachRDD(lambda rdd: rdd.saveAsNewAPIHadoopFile(\n",
    "        path='-',\n",
    "        outputFormatClass=\"org.elasticsearch.hadoop.mr.EsOutputFormat\",\n",
    "        keyClass=\"org.apache.hadoop.io.NullWritable\",\n",
    "        valueClass=\"org.elasticsearch.hadoop.mr.LinkedMapWritable\",\n",
    "        conf=es_write_quotes))"
   ]
  },
  {
   "cell_type": "markdown",
   "metadata": {},
   "source": [
    "Let’s create a data processing for twitter"
   ]
  },
  {
   "cell_type": "code",
   "execution_count": null,
   "metadata": {},
   "outputs": [],
   "source": [
    "topicTwitter = ['tweets']\n",
    "\n",
    "streamTwitter = KafkaUtils.createDirectStream(ssc, topicTwitter, kafkaParams)\n",
    "\n",
    "streamTwitter.map(lambda record : (record[0], record[1])).pprint()\n",
    "\n",
    "\n",
    "es_write_twitter = {\n",
    "        \"es.nodes\" : \"elasticsearch\",\n",
    "        \"es.port\" : \"9200\",\n",
    "        \"es.resource\" : 'tweets/_doc',\n",
    "        \"es.input.json\": \"yes\",\n",
    "    }\n",
    "\n",
    "streamTwitter.foreachRDD(lambda rdd: rdd.saveAsNewAPIHadoopFile(\n",
    "        path='-',\n",
    "        outputFormatClass=\"org.elasticsearch.hadoop.mr.EsOutputFormat\",\n",
    "        keyClass=\"org.apache.hadoop.io.NullWritable\",\n",
    "        valueClass=\"org.elasticsearch.hadoop.mr.LinkedMapWritable\",\n",
    "        conf=es_write_twitter))"
   ]
  },
  {
   "cell_type": "markdown",
   "metadata": {},
   "source": [
    "Finally let's launch the process"
   ]
  },
  {
   "cell_type": "code",
   "execution_count": null,
   "metadata": {},
   "outputs": [],
   "source": [
    "\n",
    "ssc.start()\n",
    "ssc.awaitTermination()"
   ]
  }
 ],
 "metadata": {
  "kernelspec": {
   "display_name": "Python 3",
   "language": "python",
   "name": "python3"
  },
  "language_info": {
   "codemirror_mode": {
    "name": "ipython",
    "version": 3
   },
   "file_extension": ".py",
   "mimetype": "text/x-python",
   "name": "python",
   "nbconvert_exporter": "python",
   "pygments_lexer": "ipython3",
   "version": "3.7.6"
  }
 },
 "nbformat": 4,
 "nbformat_minor": 4
}

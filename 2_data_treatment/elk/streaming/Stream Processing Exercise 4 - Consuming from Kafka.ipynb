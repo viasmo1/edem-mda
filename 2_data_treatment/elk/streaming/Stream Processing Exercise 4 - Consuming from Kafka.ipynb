{
 "cells": [
  {
   "cell_type": "markdown",
   "metadata": {},
   "source": [
    "## Stream Processing Exercise 4 - Consuming from Kafka"
   ]
  },
  {
   "cell_type": "markdown",
   "metadata": {},
   "source": [
    "Goals:\n",
    "\n",
    "* Perform different computations on a input stream: read, aggregation, windowed aggregation\n",
    "* Additional references\n",
    "    * [Spark Streaming](https://spark.apache.org/streaming/)\n",
    "    * [Structured Spark Streaming documentation](https://spark.apache.org/docs/latest/structured-streaming-programming-guide.html)\n",
    "    * [Spark and Kafka integration guide](https://spark.apache.org/docs/latest/structured-streaming-kafka-integration.html)\n"
   ]
  },
  {
   "cell_type": "markdown",
   "metadata": {},
   "source": [
    "Let’s inspect content of Pageviews topic, showing it every 5 seconds:"
   ]
  },
  {
   "cell_type": "code",
   "execution_count": null,
   "metadata": {},
   "outputs": [],
   "source": [
    "import sys\n",
    "import os \n",
    "from pyspark import SparkContext\n",
    "from pyspark.streaming import StreamingContext\n",
    "\n",
    "from pyspark.streaming.kafka import KafkaUtils\n",
    "\n",
    "\n",
    "sc = SparkContext(appName=\"PageViewsConsumer\")\n",
    "\n",
    "ssc = StreamingContext(sc, 5)\n",
    "\n",
    "\n",
    "topics = ['pageviews']\n",
    "\n",
    "kafkaParams = {'bootstrap.servers': 'broker:29092', \n",
    "               'group.id' : 'test'}\n",
    "\n",
    "stream = KafkaUtils.createDirectStream(ssc, topics, kafkaParams)\n",
    "\n",
    "stream.map(lambda record : (record[0], record[1])).pprint()\n",
    "\n",
    "\n",
    "ssc.start()\n",
    "ssc.awaitTermination()"
   ]
  },
  {
   "cell_type": "markdown",
   "metadata": {},
   "source": [
    "Now, inspect also the content of Users topic"
   ]
  },
  {
   "cell_type": "code",
   "execution_count": null,
   "metadata": {},
   "outputs": [],
   "source": []
  },
  {
   "cell_type": "markdown",
   "metadata": {},
   "source": [
    "Here we will consume streaming data from pageviews kafka topic to count numer of visits per page.\n",
    "First we are going to define input Stream"
   ]
  },
  {
   "cell_type": "code",
   "execution_count": null,
   "metadata": {},
   "outputs": [],
   "source": [
    "from pyspark import sql\n",
    "from pyspark.sql import SparkSession\n",
    "from pyspark.sql.functions import *\n",
    "from pyspark.sql.types import *\n",
    "\n",
    "spark = SparkSession \\\n",
    "    .builder \\\n",
    "    .appName(\"PageViewsConsumer\") \\\n",
    "    .getOrCreate()\n",
    "\n",
    "\n",
    "dfPageViewsStream = (\n",
    "    spark\n",
    "    .readStream\n",
    "    .format(\"kafka\")\n",
    "    .option(\"kafka.bootstrap.servers\", \"broker:29092\")\n",
    "    .option(\"subscribe\", \"pageviews\")\n",
    "    .load()\n",
    ")\n",
    "\n",
    "dfPageViews = (\n",
    "    dfPageViewsStream\n",
    "    .selectExpr(\"CAST(key AS STRING)\", \"CAST(value AS STRING)\", \"timestamp\")\n",
    "    .withColumn(\"_tmp\", split(col(\"value\"), \"\\\\,\"))\n",
    "    .select((col(\"_tmp\").getItem(0).cast(\"long\") / lit(1000)).cast(\"timestamp\").alias(\"viewtime\"),\n",
    "            col(\"_tmp\").getItem(1).alias(\"userid\"),\n",
    "            col(\"_tmp\").getItem(2).alias(\"pageid\"),\n",
    "            col(\"timestamp\"))\n",
    ")\n",
    "\n",
    "dfPageViews.printSchema()\n"
   ]
  },
  {
   "cell_type": "markdown",
   "metadata": {},
   "source": [
    "Now let's create a table to store query output on memory\n",
    "\n"
   ]
  },
  {
   "cell_type": "code",
   "execution_count": null,
   "metadata": {},
   "outputs": [],
   "source": [
    "dfPageViews.writeStream.format(\"memory\").outputMode(\"append\").queryName(\"PageViews\").start()\n"
   ]
  },
  {
   "cell_type": "markdown",
   "metadata": {},
   "source": [
    "Here you can see table structure"
   ]
  },
  {
   "cell_type": "code",
   "execution_count": null,
   "metadata": {},
   "outputs": [],
   "source": [
    "spark.sql(\"describe pageviews\").show()"
   ]
  },
  {
   "cell_type": "markdown",
   "metadata": {},
   "source": [
    "Now, select those events happening in odd minutes."
   ]
  },
  {
   "cell_type": "code",
   "execution_count": null,
   "metadata": {},
   "outputs": [],
   "source": []
  },
  {
   "cell_type": "markdown",
   "metadata": {},
   "source": [
    "Try with an order over userid."
   ]
  },
  {
   "cell_type": "code",
   "execution_count": null,
   "metadata": {},
   "outputs": [],
   "source": []
  },
  {
   "cell_type": "markdown",
   "metadata": {},
   "source": [
    "\n",
    "Now count number of visits of each page:\n",
    "\n",
    "* from the source stream: dfPageViews\n",
    "* by page means group by pageid \n",
    "* count as the aggregation operation\n",
    "* store the output stream as an in-memory table: CountsByPage.\n",
    "\n",
    "Describe its content and show part of the content"
   ]
  },
  {
   "cell_type": "code",
   "execution_count": null,
   "metadata": {},
   "outputs": [],
   "source": []
  },
  {
   "cell_type": "markdown",
   "metadata": {},
   "source": [
    "Now we want to get number of visits every 5 minutes over last 10 minutes:\n",
    "\n",
    "* 10 minutes is the window duration\n",
    "* 5 minutes is the slide duration\n",
    "\n",
    "Additional references for windowing in Spark can be found [here](https://spark.apache.org/docs/latest/structured-streaming-programming-guide.html#window-operations-on-event-time).\n"
   ]
  },
  {
   "cell_type": "code",
   "execution_count": null,
   "metadata": {},
   "outputs": [],
   "source": []
  }
 ],
 "metadata": {
  "kernelspec": {
   "display_name": "Python 3",
   "language": "python",
   "name": "python3"
  },
  "language_info": {
   "codemirror_mode": {
    "name": "ipython",
    "version": 3
   },
   "file_extension": ".py",
   "mimetype": "text/x-python",
   "name": "python",
   "nbconvert_exporter": "python",
   "pygments_lexer": "ipython3",
   "version": "3.7.6"
  }
 },
 "nbformat": 4,
 "nbformat_minor": 4
}

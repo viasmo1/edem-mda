{
 "cells": [
  {
   "cell_type": "markdown",
   "metadata": {},
   "source": [
    "# Playing with Elasticsearch via REST"
   ]
  },
  {
   "cell_type": "markdown",
   "metadata": {},
   "source": [
    "In those examples you will see how clients interacts with Elasticsearch unsing REST APIs. "
   ]
  },
  {
   "cell_type": "markdown",
   "metadata": {},
   "source": [
    "An index is defined using the Create Index API, which can be accomplished with a simple **PUT** command:"
   ]
  },
  {
   "cell_type": "code",
   "execution_count": null,
   "metadata": {},
   "outputs": [],
   "source": [
    "import requests\n",
    "import json\n",
    "import pprint\n",
    "\n",
    "req = requests.put('http://elasticsearch:9200/my_test')\n",
    "print(req.json())"
   ]
  },
  {
   "cell_type": "markdown",
   "metadata": {},
   "source": [
    "To store a document on elasticsearch you should use **PUT** again, notice that in this example you are specifying a **unique id** of the document."
   ]
  },
  {
   "cell_type": "code",
   "execution_count": null,
   "metadata": {},
   "outputs": [],
   "source": [
    "document = {'username':'Alice',\n",
    "            'comment':'I love to see the stars at night'}\n",
    "\n",
    "requestResponse = requests.put('http://elasticsearch:9200/my_test/doc/1',json=document)\n",
    "pprint.pprint(requestResponse.json())\n"
   ]
  },
  {
   "cell_type": "markdown",
   "metadata": {},
   "source": [
    "You can avoid specifying the document id but using **POST** method. In this case elasticsearch create one"
   ]
  },
  {
   "cell_type": "code",
   "execution_count": null,
   "metadata": {},
   "outputs": [],
   "source": [
    "document = {'username':'Maria',\n",
    "            'comment':'My favorite painting is Starry Night'}\n",
    "\n",
    "requestResponse = requests.post('http://elasticsearch:9200/my_test/doc/',json=document)\n",
    "pprint.pprint(requestResponse.json())"
   ]
  },
  {
   "cell_type": "markdown",
   "metadata": {},
   "source": [
    "To obtain a document you need to use **GET** method. "
   ]
  },
  {
   "cell_type": "code",
   "execution_count": null,
   "metadata": {},
   "outputs": [],
   "source": [
    "storedDocument = requests.get('http://elasticsearch:9200/my_test/doc/1',json=document)\n",
    "pprint.pprint(storedDocument.json())\n"
   ]
  },
  {
   "cell_type": "markdown",
   "metadata": {},
   "source": [
    "But you can also launch queries over elasticsearch, using **GET** method and with a specific json that contain **query** and **match** clauses. Here you can see how you can obtain all documents from an index. "
   ]
  },
  {
   "cell_type": "code",
   "execution_count": null,
   "metadata": {},
   "outputs": [],
   "source": [
    "document = { 'query': {\n",
    "                'match_all': {}\n",
    "              }\n",
    "           }\n",
    "\n",
    "storedDocuments = requests.get('http://elasticsearch:9200/my_test/_search',json=document)\n",
    "pprint.pprint(storedDocuments.json())"
   ]
  },
  {
   "cell_type": "markdown",
   "metadata": {},
   "source": [
    "To store a document you can use **Create** or **Index** methods. Create will try to store a document if this id is not already present. "
   ]
  },
  {
   "cell_type": "code",
   "execution_count": null,
   "metadata": {},
   "outputs": [],
   "source": [
    "document = {'username':'Alice',\n",
    "            'comment':'I love to see the stars and the moon at night'}\n",
    "\n",
    "requestResponse = requests.put('http://elasticsearch:9200/my_test/doc/1/_create',json=document)\n",
    "pprint.pprint(requestResponse.json())"
   ]
  },
  {
   "cell_type": "markdown",
   "metadata": {},
   "source": [
    "However, if you use index it directly, the document will be overriten (without _create sufix). "
   ]
  },
  {
   "cell_type": "code",
   "execution_count": null,
   "metadata": {},
   "outputs": [],
   "source": [
    "document = {'username':'Alice',\n",
    "            'comment':'I love to see the stars and the moon at night'}\n",
    "\n",
    "requestResponse = requests.put('http://elasticsearch:9200/my_test/doc/1',json=document)\n",
    "pprint.pprint(requestResponse.json())"
   ]
  },
  {
   "cell_type": "code",
   "execution_count": null,
   "metadata": {},
   "outputs": [],
   "source": [
    "storedDocument = requests.get('http://elasticsearch:9200/my_test/doc/1',json=document)\n",
    "pprint.pprint(storedDocument.json())"
   ]
  },
  {
   "cell_type": "code",
   "execution_count": null,
   "metadata": {},
   "outputs": [],
   "source": []
  }
 ],
 "metadata": {
  "kernelspec": {
   "display_name": "Python 3",
   "language": "python",
   "name": "python3"
  },
  "language_info": {
   "codemirror_mode": {
    "name": "ipython",
    "version": 3
   },
   "file_extension": ".py",
   "mimetype": "text/x-python",
   "name": "python",
   "nbconvert_exporter": "python",
   "pygments_lexer": "ipython3",
   "version": "3.8.3"
  }
 },
 "nbformat": 4,
 "nbformat_minor": 4
}

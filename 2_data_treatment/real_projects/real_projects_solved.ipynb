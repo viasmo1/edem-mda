{
  "nbformat": 4,
  "nbformat_minor": 0,
  "metadata": {
    "colab": {
      "name": "Ejercicios Sesión 19 TD Real Projects 30-01-2021 RESUELTOS.ipynb",
      "provenance": [],
      "collapsed_sections": [
        "Jq9d0x1OTh2N"
      ],
      "toc_visible": true
    },
    "kernelspec": {
      "name": "python3",
      "display_name": "Python 3"
    }
  },
  "cells": [
    {
      "cell_type": "markdown",
      "metadata": {
        "id": "Jq9d0x1OTh2N"
      },
      "source": [
        "# Prerrequisites"
      ]
    },
    {
      "cell_type": "markdown",
      "metadata": {
        "id": "2_DQBVj_KNvL"
      },
      "source": [
        "Installing Spark and Apache Kafka Library in VM\n",
        "\n",
        "\n",
        "---\n",
        "\n"
      ]
    },
    {
      "cell_type": "code",
      "metadata": {
        "id": "xEbGSM3_NM-z",
        "colab": {
          "base_uri": "https://localhost:8080/"
        },
        "outputId": "1b409bfd-5ed6-45e3-ce2d-f71b31f34053"
      },
      "source": [
        "!apt-get install openjdk-8-jdk-headless -qq > /dev/null\n",
        "!wget -q https://downloads.apache.org/spark/spark-3.0.1/spark-3.0.1-bin-hadoop2.7.tgz\n",
        "!tar xf spark-3.0.1-bin-hadoop2.7.tgz\n",
        "!pip install -q findspark==1.3.0\n",
        "!pip install py4j==0.10.9\n",
        "\n",
        "# For plotting\n",
        "!pip install folium\n",
        "!pip install plotly"
      ],
      "execution_count": null,
      "outputs": [
        {
          "output_type": "stream",
          "text": [
            "Collecting py4j==0.10.9\n",
            "\u001b[?25l  Downloading https://files.pythonhosted.org/packages/9e/b6/6a4fb90cd235dc8e265a6a2067f2a2c99f0d91787f06aca4bcf7c23f3f80/py4j-0.10.9-py2.py3-none-any.whl (198kB)\n",
            "\r\u001b[K     |█▋                              | 10kB 16.8MB/s eta 0:00:01\r\u001b[K     |███▎                            | 20kB 21.9MB/s eta 0:00:01\r\u001b[K     |█████                           | 30kB 13.7MB/s eta 0:00:01\r\u001b[K     |██████▋                         | 40kB 10.1MB/s eta 0:00:01\r\u001b[K     |████████▎                       | 51kB 9.5MB/s eta 0:00:01\r\u001b[K     |██████████                      | 61kB 9.9MB/s eta 0:00:01\r\u001b[K     |███████████▌                    | 71kB 8.8MB/s eta 0:00:01\r\u001b[K     |█████████████▏                  | 81kB 9.7MB/s eta 0:00:01\r\u001b[K     |██████████████▉                 | 92kB 9.0MB/s eta 0:00:01\r\u001b[K     |████████████████▌               | 102kB 8.8MB/s eta 0:00:01\r\u001b[K     |██████████████████▏             | 112kB 8.8MB/s eta 0:00:01\r\u001b[K     |███████████████████▉            | 122kB 8.8MB/s eta 0:00:01\r\u001b[K     |█████████████████████▌          | 133kB 8.8MB/s eta 0:00:01\r\u001b[K     |███████████████████████         | 143kB 8.8MB/s eta 0:00:01\r\u001b[K     |████████████████████████▊       | 153kB 8.8MB/s eta 0:00:01\r\u001b[K     |██████████████████████████▍     | 163kB 8.8MB/s eta 0:00:01\r\u001b[K     |████████████████████████████    | 174kB 8.8MB/s eta 0:00:01\r\u001b[K     |█████████████████████████████▊  | 184kB 8.8MB/s eta 0:00:01\r\u001b[K     |███████████████████████████████▍| 194kB 8.8MB/s eta 0:00:01\r\u001b[K     |████████████████████████████████| 204kB 8.8MB/s \n",
            "\u001b[?25hInstalling collected packages: py4j\n",
            "Successfully installed py4j-0.10.9\n",
            "Requirement already satisfied: folium in /usr/local/lib/python3.6/dist-packages (0.8.3)\n",
            "Requirement already satisfied: six in /usr/local/lib/python3.6/dist-packages (from folium) (1.15.0)\n",
            "Requirement already satisfied: branca>=0.3.0 in /usr/local/lib/python3.6/dist-packages (from folium) (0.4.2)\n",
            "Requirement already satisfied: numpy in /usr/local/lib/python3.6/dist-packages (from folium) (1.19.5)\n",
            "Requirement already satisfied: requests in /usr/local/lib/python3.6/dist-packages (from folium) (2.23.0)\n",
            "Requirement already satisfied: jinja2 in /usr/local/lib/python3.6/dist-packages (from folium) (2.11.2)\n",
            "Requirement already satisfied: chardet<4,>=3.0.2 in /usr/local/lib/python3.6/dist-packages (from requests->folium) (3.0.4)\n",
            "Requirement already satisfied: idna<3,>=2.5 in /usr/local/lib/python3.6/dist-packages (from requests->folium) (2.10)\n",
            "Requirement already satisfied: certifi>=2017.4.17 in /usr/local/lib/python3.6/dist-packages (from requests->folium) (2020.12.5)\n",
            "Requirement already satisfied: urllib3!=1.25.0,!=1.25.1,<1.26,>=1.21.1 in /usr/local/lib/python3.6/dist-packages (from requests->folium) (1.24.3)\n",
            "Requirement already satisfied: MarkupSafe>=0.23 in /usr/local/lib/python3.6/dist-packages (from jinja2->folium) (1.1.1)\n",
            "Requirement already satisfied: plotly in /usr/local/lib/python3.6/dist-packages (4.4.1)\n",
            "Requirement already satisfied: retrying>=1.3.3 in /usr/local/lib/python3.6/dist-packages (from plotly) (1.3.3)\n",
            "Requirement already satisfied: six in /usr/local/lib/python3.6/dist-packages (from plotly) (1.15.0)\n"
          ],
          "name": "stdout"
        }
      ]
    },
    {
      "cell_type": "code",
      "metadata": {
        "colab": {
          "base_uri": "https://localhost:8080/"
        },
        "id": "gt5sHazLNzqb",
        "outputId": "2043d979-6bd0-4d95-8bfe-94de965bd16c"
      },
      "source": [
        "!ls /content"
      ],
      "execution_count": null,
      "outputs": [
        {
          "output_type": "stream",
          "text": [
            "sample_data  spark-3.0.1-bin-hadoop2.7\tspark-3.0.1-bin-hadoop2.7.tgz\n"
          ],
          "name": "stdout"
        }
      ]
    },
    {
      "cell_type": "code",
      "metadata": {
        "id": "TP_HtvSAj4sI",
        "colab": {
          "base_uri": "https://localhost:8080/"
        },
        "outputId": "e43f1bb5-7ec4-4fc9-9e58-a781d7ef9007"
      },
      "source": [
        "!wget -q https://github.com/masfworld/datahack_docker/raw/master/zeppelin/libs/libs-kafka_301.zip --directory-prefix=/content/spark-3.0.1-bin-hadoop2.7/jars/\n",
        "!unzip -n /content/spark-3.0.1-bin-hadoop2.7/jars/libs-kafka_301.zip -d /content/spark-3.0.1-bin-hadoop2.7/jars/\n",
        "!ls /content/spark-3.0.1-bin-hadoop2.7/jars/*kafka*"
      ],
      "execution_count": null,
      "outputs": [
        {
          "output_type": "stream",
          "text": [
            "Archive:  /content/spark-3.0.1-bin-hadoop2.7/jars/libs-kafka_301.zip\n",
            "  inflating: /content/spark-3.0.1-bin-hadoop2.7/jars/ant-1.10.3.jar  \n",
            "  inflating: /content/spark-3.0.1-bin-hadoop2.7/jars/ant-launcher-1.10.3.jar  \n",
            "  inflating: /content/spark-3.0.1-bin-hadoop2.7/jars/asm-7.0.jar  \n",
            "  inflating: /content/spark-3.0.1-bin-hadoop2.7/jars/asm-tree-7.0.jar  \n",
            "  inflating: /content/spark-3.0.1-bin-hadoop2.7/jars/asm-util-7.0.jar  \n",
            "  inflating: /content/spark-3.0.1-bin-hadoop2.7/jars/cglib-3.2.10.jar  \n",
            "  inflating: /content/spark-3.0.1-bin-hadoop2.7/jars/commons-pool2-2.6.2.jar  \n",
            "  inflating: /content/spark-3.0.1-bin-hadoop2.7/jars/kafka-clients-2.4.1.jar  \n",
            "  inflating: /content/spark-3.0.1-bin-hadoop2.7/jars/spark-sql-kafka-0-10_2.12-3.0.1.jar  \n",
            "  inflating: /content/spark-3.0.1-bin-hadoop2.7/jars/spark-token-provider-kafka-0-10_2.12-3.0.1.jar  \n",
            "/content/spark-3.0.1-bin-hadoop2.7/jars/kafka-clients-2.4.1.jar\n",
            "/content/spark-3.0.1-bin-hadoop2.7/jars/libs-kafka_301.zip\n",
            "/content/spark-3.0.1-bin-hadoop2.7/jars/spark-sql-kafka-0-10_2.12-3.0.1.jar\n",
            "/content/spark-3.0.1-bin-hadoop2.7/jars/spark-token-provider-kafka-0-10_2.12-3.0.1.jar\n"
          ],
          "name": "stdout"
        }
      ]
    },
    {
      "cell_type": "markdown",
      "metadata": {
        "id": "W0qDLAxMTUYQ"
      },
      "source": [
        "Define the environment (Java & Spark homes)\n",
        "\n",
        "---"
      ]
    },
    {
      "cell_type": "code",
      "metadata": {
        "id": "nSd4dfANNndH"
      },
      "source": [
        "import os\n",
        "os.environ[\"JAVA_HOME\"] = \"/usr/lib/jvm/java-8-openjdk-amd64\"\n",
        "os.environ[\"SPARK_HOME\"] = \"/content/spark-3.0.1-bin-hadoop2.7\"\n",
        "os.environ[\"PYSPARK_SUBMIT_ARGS\"] = \"\""
      ],
      "execution_count": null,
      "outputs": []
    },
    {
      "cell_type": "markdown",
      "metadata": {
        "id": "K_IgZEv2XaDm"
      },
      "source": [
        "Starting Spark Session and print the version\n",
        "\n",
        "\n",
        "---\n"
      ]
    },
    {
      "cell_type": "code",
      "metadata": {
        "id": "BDLMbVBATf9K",
        "colab": {
          "base_uri": "https://localhost:8080/",
          "height": 35
        },
        "outputId": "c6220643-983c-4d51-c949-a1f5ce2edbdf"
      },
      "source": [
        "import findspark\n",
        "findspark.add_packages([\"org.apache.spark:spark-sql-kafka-0-10_2.12:3.0.1\"])\n",
        "findspark.add_jars([\"/content/spark-3.0.1-bin-hadoop2.7/jars/kafka-clients-2.0.0.jar\",\"/content/spark-3.0.1-bin-hadoop2.7/jars/lz4-java-1.4.1-jar\",\"/content/spark-3.0.1-bin-hadoop2.7/jars/scala-library-2.11.12.jar\",\"/content/spark-3.0.1-bin-hadoop2.7/jars/slf4j-api-1.7.25.jar\",\"/content/spark-3.0.1-bin-hadoop2.7/jars/snappy-java-1.1.7.1.jar\",\"/content/spark-3.0.1-bin-hadoop2.7/jars/spark-sql-kafka-0-10_2.11-2.4.5.jar\",\"/content/spark-3.0.1-bin-hadoop2.7/jars/spark-tags_2.11-2.4.5.jar\",\"/content/spark-3.0.1-bin-hadoop2.7/jars/unused-1.0.0.jar\"])\n",
        "findspark.init(\"spark-3.0.1-bin-hadoop2.7\")# SPARK_HOME\n",
        "\n",
        "from pyspark.sql import SparkSession\n",
        "\n",
        "# create the session\n",
        "spark = SparkSession \\\n",
        "        .builder \\\n",
        "        .master(\"local[*]\") \\\n",
        "        .config(\"spark.ui.port\", \"4050\") \\\n",
        "        .getOrCreate()\n",
        "\n",
        "spark.version"
      ],
      "execution_count": null,
      "outputs": [
        {
          "output_type": "execute_result",
          "data": {
            "application/vnd.google.colaboratory.intrinsic+json": {
              "type": "string"
            },
            "text/plain": [
              "'3.0.1'"
            ]
          },
          "metadata": {
            "tags": []
          },
          "execution_count": 7
        }
      ]
    },
    {
      "cell_type": "code",
      "metadata": {
        "id": "G28MgeRJHKJ5",
        "colab": {
          "base_uri": "https://localhost:8080/",
          "height": 216
        },
        "outputId": "12c86a0b-73dc-4bb0-f575-3ab867006ca3"
      },
      "source": [
        "spark"
      ],
      "execution_count": null,
      "outputs": [
        {
          "output_type": "execute_result",
          "data": {
            "text/html": [
              "\n",
              "            <div>\n",
              "                <p><b>SparkSession - in-memory</b></p>\n",
              "                \n",
              "        <div>\n",
              "            <p><b>SparkContext</b></p>\n",
              "\n",
              "            <p><a href=\"http://2fa42f2fccb9:4050\">Spark UI</a></p>\n",
              "\n",
              "            <dl>\n",
              "              <dt>Version</dt>\n",
              "                <dd><code>v3.0.1</code></dd>\n",
              "              <dt>Master</dt>\n",
              "                <dd><code>local[*]</code></dd>\n",
              "              <dt>AppName</dt>\n",
              "                <dd><code>pyspark-shell</code></dd>\n",
              "            </dl>\n",
              "        </div>\n",
              "        \n",
              "            </div>\n",
              "        "
            ],
            "text/plain": [
              "<pyspark.sql.session.SparkSession at 0x7f06e42ac978>"
            ]
          },
          "metadata": {
            "tags": []
          },
          "execution_count": 8
        }
      ]
    },
    {
      "cell_type": "code",
      "metadata": {
        "id": "qPrOO29YRuDB"
      },
      "source": [
        "# For Pandas conversion optimization\n",
        "spark.conf.set(\"spark.sql.execution.arrow.enabled\", \"true\")"
      ],
      "execution_count": null,
      "outputs": []
    },
    {
      "cell_type": "markdown",
      "metadata": {
        "id": "FNiYuI5dGo8Y"
      },
      "source": [
        "Creating ngrok tunnel to allow Spark UI (Optional)\n"
      ]
    },
    {
      "cell_type": "code",
      "metadata": {
        "id": "x4-7fXZiGmqB",
        "colab": {
          "base_uri": "https://localhost:8080/"
        },
        "outputId": "a621fd37-025d-4973-d498-8f4c35fe13c1"
      },
      "source": [
        "!wget https://bin.equinox.io/c/4VmDzA7iaHb/ngrok-stable-linux-amd64.zip\n",
        "!unzip ngrok-stable-linux-amd64.zip\n",
        "get_ipython().system_raw('./ngrok http 4050 &')\n",
        "!curl -s http://localhost:4040/api/tunnels | python3 -c \\\n",
        "    \"import sys, json; print(json.load(sys.stdin)['tunnels'][0]['public_url'])\""
      ],
      "execution_count": null,
      "outputs": [
        {
          "output_type": "stream",
          "text": [
            "--2021-01-25 12:29:29--  https://bin.equinox.io/c/4VmDzA7iaHb/ngrok-stable-linux-amd64.zip\n",
            "Resolving bin.equinox.io (bin.equinox.io)... 52.6.49.248, 52.2.242.115, 34.196.37.54, ...\n",
            "Connecting to bin.equinox.io (bin.equinox.io)|52.6.49.248|:443... connected.\n",
            "HTTP request sent, awaiting response... 200 OK\n",
            "Length: 13773305 (13M) [application/octet-stream]\n",
            "Saving to: ‘ngrok-stable-linux-amd64.zip’\n",
            "\n",
            "ngrok-stable-linux- 100%[===================>]  13.13M  16.9MB/s    in 0.8s    \n",
            "\n",
            "2021-01-25 12:29:30 (16.9 MB/s) - ‘ngrok-stable-linux-amd64.zip’ saved [13773305/13773305]\n",
            "\n",
            "Archive:  ngrok-stable-linux-amd64.zip\n",
            "  inflating: ngrok                   \n",
            "Traceback (most recent call last):\n",
            "  File \"<string>\", line 1, in <module>\n",
            "IndexError: list index out of range\n"
          ],
          "name": "stdout"
        }
      ]
    },
    {
      "cell_type": "markdown",
      "metadata": {
        "id": "ruHocwYcT4aj"
      },
      "source": [
        "# Download Datasets"
      ]
    },
    {
      "cell_type": "code",
      "metadata": {
        "colab": {
          "base_uri": "https://localhost:8080/"
        },
        "id": "musWXLzBUEQg",
        "outputId": "0273ee21-0f26-46f7-df3f-7ee5945f3873"
      },
      "source": [
        "!mkdir -p /dataset\r\n",
        "!wget -q https://github.com/masfworld/datahack_docker/raw/master/zeppelin/data/trades.csv -P /dataset\r\n",
        "!wget -q https://github.com/masfworld/datahack_docker/raw/master/zeppelin/data/trades.json -P /dataset\r\n",
        "!wget -q https://github.com/masfworld/datahack_docker/raw/master/zeppelin/data/offshore_leaks.edges.csv -P /dataset\r\n",
        "!wget -q https://github.com/masfworld/datahack_docker/raw/master/zeppelin/data/offshore_leaks.nodes.address.csv -P /dataset\r\n",
        "!wget -q https://github.com/masfworld/datahack_docker/raw/master/zeppelin/data/offshore_leaks.nodes.intermediary.csv -P /dataset\r\n",
        "!wget -q https://github.com/masfworld/datahack_docker/raw/master/zeppelin/data/offshore_leaks.nodes.officer.csv -P /dataset\r\n",
        "!wget -q https://github.com/masfworld/datahack_docker/raw/master/zeppelin/data/offshore_leaks.nodes.entity.csv -P /dataset\r\n",
        "!ls /dataset"
      ],
      "execution_count": null,
      "outputs": [
        {
          "output_type": "stream",
          "text": [
            "offshore_leaks.edges.csv\t\t offshore_leaks.nodes.officer.csv.1\n",
            "offshore_leaks.edges.csv.1\t\t offshore-leaks.sqlite\n",
            "offshore_leaks.nodes.address.csv\t trades.csv\n",
            "offshore_leaks.nodes.address.csv.1\t trades.csv.1\n",
            "offshore_leaks.nodes.entity.csv\t\t trades.csv.2\n",
            "offshore_leaks.nodes.intermediary.csv\t trades.json\n",
            "offshore_leaks.nodes.intermediary.csv.1  trades.json.1\n",
            "offshore_leaks.nodes.officer.csv\t trades.json.2\n"
          ],
          "name": "stdout"
        }
      ]
    },
    {
      "cell_type": "markdown",
      "metadata": {
        "id": "42PI1onm9kIh"
      },
      "source": [
        "# Project 1 - Regulatory Banking Project\r\n",
        "---\r\n",
        "\r\n",
        "Input files: /dataset/trades.csv & /dataset/trades.json\r\n"
      ]
    },
    {
      "cell_type": "code",
      "metadata": {
        "colab": {
          "base_uri": "https://localhost:8080/"
        },
        "id": "xK3w80jJZ-gH",
        "outputId": "73630c01-e3b6-4463-c75b-82933eab9347"
      },
      "source": [
        "from pyspark.sql.functions import *\r\n",
        "\r\n",
        "def pnl(open, close):\r\n",
        "  if (open is not None and close is not None):\r\n",
        "    return (close * 100 / open) - 100\r\n",
        "  else:\r\n",
        "    return 0\r\n",
        "\r\n",
        "spark.udf.register(\"pnl_udf\", pnl)"
      ],
      "execution_count": null,
      "outputs": [
        {
          "output_type": "execute_result",
          "data": {
            "text/plain": [
              "<function __main__.pnl>"
            ]
          },
          "metadata": {
            "tags": []
          },
          "execution_count": 12
        }
      ]
    },
    {
      "cell_type": "code",
      "metadata": {
        "id": "PUIqs27uAvM9"
      },
      "source": [
        "df_trade1 = spark \\\n",
        "  .read \\\n",
        "  .format(\"csv\") \\\n",
        "  .option(\"inferSchema\", \"true\") \\\n",
        "  .option(\"header\", \"true\") \\\n",
        "  .load(\"/dataset/trades.csv\")\n",
        "  "
      ],
      "execution_count": null,
      "outputs": []
    },
    {
      "cell_type": "code",
      "metadata": {
        "colab": {
          "base_uri": "https://localhost:8080/"
        },
        "id": "JQpCVm96cPHu",
        "outputId": "c69dfd1b-bc55-43d2-ce8a-afb7cede4710"
      },
      "source": [
        "df_trade1.printSchema()"
      ],
      "execution_count": null,
      "outputs": [
        {
          "output_type": "stream",
          "text": [
            "root\n",
            " |-- Date: string (nullable = true)\n",
            " |-- Open: double (nullable = true)\n",
            " |-- High: double (nullable = true)\n",
            " |-- Low: double (nullable = true)\n",
            " |-- Close: double (nullable = true)\n",
            " |-- Volume: double (nullable = true)\n",
            " |-- Dividend: double (nullable = true)\n",
            " |-- Split: double (nullable = true)\n",
            " |-- Adj_Open: double (nullable = true)\n",
            " |-- Adj_High: double (nullable = true)\n",
            " |-- Adj_Low: double (nullable = true)\n",
            " |-- Adj_Close: double (nullable = true)\n",
            " |-- Adj_Volume: double (nullable = true)\n",
            "\n"
          ],
          "name": "stdout"
        }
      ]
    },
    {
      "cell_type": "code",
      "metadata": {
        "colab": {
          "base_uri": "https://localhost:8080/"
        },
        "id": "wNaTGr8jb8aR",
        "outputId": "e6280483-0c22-49ad-ee5f-21216e25e02f"
      },
      "source": [
        "df_trade1_norm = (df_trade1\r\n",
        "                  .select(\"date\", \"open\", \"close\")\r\n",
        "                  .withColumn(\"type\", lit(\"trade_1\"))\r\n",
        ")\r\n",
        "\r\n",
        "df_trade1_norm.show()"
      ],
      "execution_count": null,
      "outputs": [
        {
          "output_type": "stream",
          "text": [
            "+----------+-------+------+-------+\n",
            "|      date|   open| close|   type|\n",
            "+----------+-------+------+-------+\n",
            "|2017-12-28| 190.91|189.78|trade_1|\n",
            "|2017-12-27|  190.6|190.19|trade_1|\n",
            "|2017-12-26| 188.53|190.36|trade_1|\n",
            "|2017-12-22|  188.2|188.13|trade_1|\n",
            "|2017-12-21|  187.7|188.08|trade_1|\n",
            "|2017-12-20| 187.14|187.31|trade_1|\n",
            "|2017-12-19|185.235|185.98|trade_1|\n",
            "|2017-12-18| 183.96|184.73|trade_1|\n",
            "|2017-12-15|183.005|182.58|trade_1|\n",
            "|2017-12-14| 183.88|182.13|trade_1|\n",
            "|2017-12-13| 182.01|183.03|trade_1|\n",
            "|2017-12-12| 182.75| 181.8|trade_1|\n",
            "|2017-12-11|  182.9|182.25|trade_1|\n",
            "|2017-12-08|  182.5|183.41|trade_1|\n",
            "|2017-12-07| 180.05| 182.0|trade_1|\n",
            "|2017-12-06| 180.25| 180.8|trade_1|\n",
            "|2017-12-05| 184.79|182.85|trade_1|\n",
            "|2017-12-04| 183.19| 184.9|trade_1|\n",
            "|2017-12-01| 180.32|180.42|trade_1|\n",
            "|2017-11-30| 178.07|179.82|trade_1|\n",
            "+----------+-------+------+-------+\n",
            "only showing top 20 rows\n",
            "\n"
          ],
          "name": "stdout"
        }
      ]
    },
    {
      "cell_type": "code",
      "metadata": {
        "id": "qGtL7X6ohnjw"
      },
      "source": [
        "df_trade2 = spark \\\r\n",
        "  .read \\\r\n",
        "  .json(\"/dataset/trades.json\")"
      ],
      "execution_count": null,
      "outputs": []
    },
    {
      "cell_type": "code",
      "metadata": {
        "colab": {
          "base_uri": "https://localhost:8080/"
        },
        "id": "ICZ0A3P_i6kV",
        "outputId": "1f2769c7-6222-49e1-8a3f-2f58301f2ca1"
      },
      "source": [
        "df_trade2.printSchema()"
      ],
      "execution_count": null,
      "outputs": [
        {
          "output_type": "stream",
          "text": [
            "root\n",
            " |-- dataset: struct (nullable = true)\n",
            " |    |-- collapse: string (nullable = true)\n",
            " |    |-- column_index: string (nullable = true)\n",
            " |    |-- column_names: array (nullable = true)\n",
            " |    |    |-- element: string (containsNull = true)\n",
            " |    |-- data: array (nullable = true)\n",
            " |    |    |-- element: array (containsNull = true)\n",
            " |    |    |    |-- element: string (containsNull = true)\n",
            " |    |-- database_code: string (nullable = true)\n",
            " |    |-- database_id: long (nullable = true)\n",
            " |    |-- dataset_code: string (nullable = true)\n",
            " |    |-- description: string (nullable = true)\n",
            " |    |-- end_date: string (nullable = true)\n",
            " |    |-- frequency: string (nullable = true)\n",
            " |    |-- id: long (nullable = true)\n",
            " |    |-- limit: string (nullable = true)\n",
            " |    |-- name: string (nullable = true)\n",
            " |    |-- newest_available_date: string (nullable = true)\n",
            " |    |-- oldest_available_date: string (nullable = true)\n",
            " |    |-- order: string (nullable = true)\n",
            " |    |-- premium: boolean (nullable = true)\n",
            " |    |-- refreshed_at: string (nullable = true)\n",
            " |    |-- start_date: string (nullable = true)\n",
            " |    |-- transform: string (nullable = true)\n",
            " |    |-- type: string (nullable = true)\n",
            "\n"
          ],
          "name": "stdout"
        }
      ]
    },
    {
      "cell_type": "code",
      "metadata": {
        "colab": {
          "base_uri": "https://localhost:8080/"
        },
        "id": "wRPff5aCuMRK",
        "outputId": "0a9a963c-28f1-486a-dcdc-42e9835a5607"
      },
      "source": [
        "df_trade2.select(\"dataset.column_names\").show(truncate= False)"
      ],
      "execution_count": null,
      "outputs": [
        {
          "output_type": "stream",
          "text": [
            "+-----------------------------------------------------------------------------------------------------------+\n",
            "|column_names                                                                                               |\n",
            "+-----------------------------------------------------------------------------------------------------------+\n",
            "|[Date, Open, High, Low, Close, Volume, Dividend, Split, Adj_Open, Adj_High, Adj_Low, Adj_Close, Adj_Volume]|\n",
            "+-----------------------------------------------------------------------------------------------------------+\n",
            "\n"
          ],
          "name": "stdout"
        }
      ]
    },
    {
      "cell_type": "code",
      "metadata": {
        "id": "mSTJ6cNFh_2L"
      },
      "source": [
        "from pyspark.sql.functions import *\r\n",
        "\r\n",
        "df_trade2_norm = df_trade2 \\\r\n",
        "  .select(explode(\"dataset.data\").alias(\"data\")) \\\r\n",
        "  .select(element_at(\"data\", 1).alias(\"date\"), element_at(\"data\", 2).alias(\"open\"), element_at(\"data\", 5).alias(\"close\")) \\\r\n",
        "  .withColumn(\"type\", lit(\"trade_2\"))"
      ],
      "execution_count": null,
      "outputs": []
    },
    {
      "cell_type": "code",
      "metadata": {
        "colab": {
          "base_uri": "https://localhost:8080/"
        },
        "id": "Y7NyhusUfKTe",
        "outputId": "800924ee-fd35-4288-ba50-0fb8f76b7b82"
      },
      "source": [
        "df_trade2_norm.show()"
      ],
      "execution_count": null,
      "outputs": [
        {
          "output_type": "stream",
          "text": [
            "+----------+-------+------+-------+\n",
            "|      date|   open| close|   type|\n",
            "+----------+-------+------+-------+\n",
            "|2017-12-28|  108.0|107.77|trade_2|\n",
            "|2017-12-27| 108.42|107.64|trade_2|\n",
            "|2017-12-26| 108.49|108.12|trade_2|\n",
            "|2017-12-22|  109.4|108.67|trade_2|\n",
            "|2017-12-21| 109.52|109.57|trade_2|\n",
            "|2017-12-20|111.625|109.69|trade_2|\n",
            "|2017-12-19| 111.05|111.81|trade_2|\n",
            "|2017-12-18| 111.85|111.03|trade_2|\n",
            "|2017-12-15|111.805|111.27|trade_2|\n",
            "|2017-12-14| 107.75|110.57|trade_2|\n",
            "|2017-12-13| 108.15|107.61|trade_2|\n",
            "|2017-12-12|  107.6|107.43|trade_2|\n",
            "|2017-12-11| 104.87|106.83|trade_2|\n",
            "|2017-12-08| 104.91|104.23|trade_2|\n",
            "|2017-12-07| 105.74|105.26|trade_2|\n",
            "|2017-12-06| 107.17|105.46|trade_2|\n",
            "|2017-12-05| 109.53|107.22|trade_2|\n",
            "|2017-12-04|  106.5|110.22|trade_2|\n",
            "|2017-12-01| 104.58|105.25|trade_2|\n",
            "|2017-11-30| 105.36|104.82|trade_2|\n",
            "+----------+-------+------+-------+\n",
            "only showing top 20 rows\n",
            "\n"
          ],
          "name": "stdout"
        }
      ]
    },
    {
      "cell_type": "code",
      "metadata": {
        "id": "q_O9uhVggbL7"
      },
      "source": [
        "from pyspark.sql.window import Window\r\n",
        "\r\n",
        "windowSpec  = Window.partitionBy(\"date\").orderBy(col(\"pnl\").desc())"
      ],
      "execution_count": null,
      "outputs": []
    },
    {
      "cell_type": "code",
      "metadata": {
        "id": "WTp_E-OAsrgw"
      },
      "source": [
        "df_result = (df_trade1_norm\r\n",
        " .union(df_trade2_norm)\r\n",
        " .withColumn(\"pnl\", round(pnl(col(\"open\"), col(\"close\")), 2))\r\n",
        " .withColumn(\"row_number\", row_number().over(windowSpec)) \r\n",
        " .filter(col(\"row_number\") == 1)\r\n",
        " .select(\"date\", \"pnl\", \"type\")\r\n",
        ")"
      ],
      "execution_count": null,
      "outputs": []
    },
    {
      "cell_type": "code",
      "metadata": {
        "colab": {
          "base_uri": "https://localhost:8080/"
        },
        "id": "FPTwweVqf8Vq",
        "outputId": "5e6ec3ec-1381-4511-ce5b-86a6935c5a5b"
      },
      "source": [
        "df_result.show()"
      ],
      "execution_count": null,
      "outputs": [
        {
          "output_type": "stream",
          "text": [
            "+----------+-----+-------+\n",
            "|      date|  pnl|   type|\n",
            "+----------+-----+-------+\n",
            "|2014-05-27| 0.39|trade_1|\n",
            "|2015-05-01|  2.4|trade_1|\n",
            "|2016-08-17| 0.48|trade_1|\n",
            "|2017-12-05|-1.05|trade_1|\n",
            "|2014-07-14|-0.58|trade_1|\n",
            "|2014-12-11|  1.0|trade_1|\n",
            "|2015-02-09|-0.07|trade_2|\n",
            "|2015-02-27|-0.38|trade_1|\n",
            "|2016-04-22| 0.69|trade_2|\n",
            "|2016-08-08|-0.37|trade_2|\n",
            "|2017-02-24|  0.9|trade_1|\n",
            "|2017-05-11|-0.15|trade_2|\n",
            "|2017-10-20|-0.05|trade_2|\n",
            "|2017-12-22|-0.04|trade_1|\n",
            "|2015-02-26|-0.53|trade_1|\n",
            "|2015-11-20| 2.24|trade_1|\n",
            "|2016-07-06| 1.83|trade_1|\n",
            "|2013-11-08| 2.56|trade_2|\n",
            "|2014-03-17| 1.11|trade_2|\n",
            "|2014-03-20| 0.48|trade_1|\n",
            "+----------+-----+-------+\n",
            "only showing top 20 rows\n",
            "\n"
          ],
          "name": "stdout"
        }
      ]
    },
    {
      "cell_type": "code",
      "metadata": {
        "id": "ebjNK66MgA_i"
      },
      "source": [
        ""
      ],
      "execution_count": null,
      "outputs": []
    },
    {
      "cell_type": "markdown",
      "metadata": {
        "id": "1h6LICd9ZBPw"
      },
      "source": [
        "# Project 2 - Transactions Notifications\r\n",
        "\r\n",
        "*Hint: https://databricks.com/blog/2017/05/08/event-time-aggregation-watermarking-apache-sparks-structured-streaming.html*"
      ]
    },
    {
      "cell_type": "code",
      "metadata": {
        "id": "49tIaJ7gZN2C"
      },
      "source": [
        "from pyspark.sql.functions import from_json, col\r\n",
        "from pyspark.sql.types import StructType, StructField, StringType\r\n",
        "\r\n",
        "df = spark \\\r\n",
        "  .readStream \\\r\n",
        "  .format(\"kafka\") \\\r\n",
        "  .option(\"kafka.bootstrap.servers\", \"ec2-3-231-22-58.compute-1.amazonaws.com:9092\") \\\r\n",
        "  .option(\"subscribe\", \"transactions\") \\\r\n",
        "  .load()"
      ],
      "execution_count": null,
      "outputs": []
    },
    {
      "cell_type": "code",
      "metadata": {
        "colab": {
          "base_uri": "https://localhost:8080/"
        },
        "id": "z6SLWzYRZbud",
        "outputId": "838e7d25-7355-4283-c93a-a3c7f8ce3892"
      },
      "source": [
        "schema = StructType(\r\n",
        "    [\r\n",
        "     StructField('Account No', StringType(), True),\r\n",
        "     StructField('DATE', StringType(), True),\r\n",
        "     StructField('TRANSACTION DETAILS', StringType(), True),\r\n",
        "     StructField('CHQ.NO.', StringType(), True),\r\n",
        "     StructField('VALUE DATE', StringType(), True),\r\n",
        "     StructField(' WITHDRAWAL AMT ', StringType(), True),\r\n",
        "     StructField(' DEPOSIT AMT ', StringType(), True),\r\n",
        "     StructField('BALANCE AMT', StringType(), True)\r\n",
        "    ]\r\n",
        ")\r\n",
        "df.printSchema()\r\n",
        "\r\n",
        "dataset = df.selectExpr(\"CAST(key AS STRING)\", \"CAST(value AS STRING)\", \"timestamp\") \\\r\n",
        "    .withColumn(\"value\", from_json(\"value\", schema)) \\\r\n",
        "    .select(col('key'), col(\"timestamp\"), col('value.*'))"
      ],
      "execution_count": null,
      "outputs": [
        {
          "output_type": "stream",
          "text": [
            "root\n",
            " |-- key: binary (nullable = true)\n",
            " |-- value: binary (nullable = true)\n",
            " |-- topic: string (nullable = true)\n",
            " |-- partition: integer (nullable = true)\n",
            " |-- offset: long (nullable = true)\n",
            " |-- timestamp: timestamp (nullable = true)\n",
            " |-- timestampType: integer (nullable = true)\n",
            "\n"
          ],
          "name": "stdout"
        }
      ]
    },
    {
      "cell_type": "code",
      "metadata": {
        "id": "7kg9KVXiiwmf"
      },
      "source": [
        "from pyspark.sql.functions import *\r\n",
        "\r\n",
        "dataset_count = \\\r\n",
        "  dataset \\\r\n",
        "    .groupBy(window(\"timestamp\", \"1 minute\")) \\\r\n",
        "    .count()"
      ],
      "execution_count": null,
      "outputs": []
    },
    {
      "cell_type": "code",
      "metadata": {
        "colab": {
          "base_uri": "https://localhost:8080/"
        },
        "id": "eh82Gqz7Z1bm",
        "outputId": "d55a20cc-e9ac-4683-e55f-1a380008198d"
      },
      "source": [
        "dataset_count.writeStream \\\r\n",
        " .outputMode(\"update\") \\\r\n",
        " .format(\"memory\") \\\r\n",
        " .option(\"truncate\", \"false\") \\\r\n",
        " .queryName(\"transactions\") \\\r\n",
        " .start()"
      ],
      "execution_count": null,
      "outputs": [
        {
          "output_type": "execute_result",
          "data": {
            "text/plain": [
              "<pyspark.sql.streaming.StreamingQuery at 0x7fefdc11de10>"
            ]
          },
          "metadata": {
            "tags": []
          },
          "execution_count": 12
        }
      ]
    },
    {
      "cell_type": "code",
      "metadata": {
        "colab": {
          "base_uri": "https://localhost:8080/"
        },
        "id": "h2KkvViQaXKj",
        "outputId": "7142e81e-47d1-4b6f-b1a5-02f3567b09e4"
      },
      "source": [
        "spark.sql(\"select * from transactions\").show(truncate = False)"
      ],
      "execution_count": null,
      "outputs": [
        {
          "output_type": "stream",
          "text": [
            "+------------------------------------------+-----+\n",
            "|window                                    |count|\n",
            "+------------------------------------------+-----+\n",
            "|[2021-01-24 19:10:00, 2021-01-24 19:11:00]|171  |\n",
            "|[2021-01-24 19:10:00, 2021-01-24 19:11:00]|350  |\n",
            "+------------------------------------------+-----+\n",
            "\n"
          ],
          "name": "stdout"
        }
      ]
    },
    {
      "cell_type": "markdown",
      "metadata": {
        "id": "yG8_q4f5Q_E6"
      },
      "source": [
        "# Project 3 - Panama Papers"
      ]
    },
    {
      "cell_type": "markdown",
      "metadata": {
        "id": "NApu7049VPwm"
      },
      "source": [
        "Trace \"Spring Song International Co., Ltd.\" entity with Spark SQL using the following dataset</br>\r\n",
        "/dataset/offshore_leaks.nodes.entity.csv </br>\r\n",
        "/dataset/offshore_leaks.nodes.intermediary.csv </br>\r\n",
        "/dataset/offshore_leaks.edges.csv </br>\r\n",
        "/dataset/offshore_leaks.nodes.officer.csv"
      ]
    },
    {
      "cell_type": "code",
      "metadata": {
        "id": "FywAUS07alD-"
      },
      "source": [
        "from pyspark.sql.functions import *\r\n",
        "\r\n",
        "df_entities = spark \\\r\n",
        "  .read \\\r\n",
        "  .format(\"csv\") \\\r\n",
        "  .option(\"inferSchema\", \"true\") \\\r\n",
        "  .option(\"header\", \"true\") \\\r\n",
        "  .load(\"/dataset/offshore_leaks.nodes.entity.csv\")\r\n",
        "  "
      ],
      "execution_count": null,
      "outputs": []
    },
    {
      "cell_type": "code",
      "metadata": {
        "colab": {
          "base_uri": "https://localhost:8080/"
        },
        "id": "39PihTB2aqyX",
        "outputId": "26b7c2f1-a790-4752-da84-868adaf63c25"
      },
      "source": [
        "df_entities.printSchema()"
      ],
      "execution_count": null,
      "outputs": [
        {
          "output_type": "stream",
          "text": [
            "root\n",
            " |-- node_id: string (nullable = true)\n",
            " |-- name: string (nullable = true)\n",
            " |-- jurisdiction: string (nullable = true)\n",
            " |-- jurisdiction_description: string (nullable = true)\n",
            " |-- country_codes: string (nullable = true)\n",
            " |-- countries: string (nullable = true)\n",
            " |-- incorporation_date: string (nullable = true)\n",
            " |-- inactivation_date: string (nullable = true)\n",
            " |-- struck_off_date: string (nullable = true)\n",
            " |-- closed_date: string (nullable = true)\n",
            " |-- ibcRUC: string (nullable = true)\n",
            " |-- status: string (nullable = true)\n",
            " |-- company_type: string (nullable = true)\n",
            " |-- service_provider: string (nullable = true)\n",
            " |-- sourceID: string (nullable = true)\n",
            " |-- valid_until: string (nullable = true)\n",
            " |-- note: string (nullable = true)\n",
            "\n"
          ],
          "name": "stdout"
        }
      ]
    },
    {
      "cell_type": "code",
      "metadata": {
        "colab": {
          "base_uri": "https://localhost:8080/"
        },
        "id": "5pYk7ZlTbHzu",
        "outputId": "eafd2c90-67a4-4dee-c30c-2d22f057b0d8"
      },
      "source": [
        "df_entities.show()"
      ],
      "execution_count": null,
      "outputs": [
        {
          "output_type": "stream",
          "text": [
            "+-------+--------------------+------------+------------------------+-------------+--------------------+------------------+-----------------+---------------+-----------+-------+--------------------+--------------------+--------------------+--------------+--------------------+--------------------+\n",
            "|node_id|                name|jurisdiction|jurisdiction_description|country_codes|           countries|incorporation_date|inactivation_date|struck_off_date|closed_date| ibcRUC|              status|        company_type|    service_provider|      sourceID|         valid_until|                note|\n",
            "+-------+--------------------+------------+------------------------+-------------+--------------------+------------------+-----------------+---------------+-----------+-------+--------------------+--------------------+--------------------+--------------+--------------------+--------------------+\n",
            "|  67028|          ZODIAK LTD|         XXX|            Undetermined|      VGB;CYP|British Virgin Is...|       24-AUG-2007|             null|           null|       null|1427813|                Dead|Business Company ...|Commonwealth Trus...|Offshore Leaks|The Offshore Leak...|                null|\n",
            "|  67243|           Zven Ltd.|         XXX|            Undetermined|      XXX;VGB|Not identified;Br...|       29-JAN-2007|             null|           null|       null|1382756|                Dead|Business Company ...|Commonwealth Trus...|Offshore Leaks|The Offshore Leak...|                null|\n",
            "|  67258|      Anson 11A Ltd.|         XXX|            Undetermined|      SGP;VGB|Singapore;British...|       09-MAY-2000|             null|           null|       null| 386675|          Liquidated|The GRA group of ...|Commonwealth Trus...|Offshore Leaks|The Offshore Leak...|                null|\n",
            "|  67266|           GIADA LTD|         XXX|            Undetermined|      CYP;VGB|Cyprus;British Vi...|       14-JUN-2007|             null|           null|       null|1411204|     Transferred OUT|Business Company ...|Commonwealth Trus...|Offshore Leaks|The Offshore Leak...|                null|\n",
            "| 108050|     Scott D. Howard|         XXX|            Undetermined|      USA;XXX|United States;Not...|              null|             null|           null|       null|   null|                null|      Sundry Account|Commonwealth Trus...|Offshore Leaks|The Offshore Leak...|This is not an of...|\n",
            "| 108051|        Pjustar Ltd.|         XXX|            Undetermined|          XXX|      Not identified|       26-NOV-2003|             null|           null|       null| 569309|                Dead|Standard Company ...|Commonwealth Trus...|Offshore Leaks|The Offshore Leak...|                null|\n",
            "| 108110|    VAN Vector, Ltd.|         XXX|            Undetermined|      RUS;VGB|Russia;British Vi...|       09-APR-2003|             null|           null|       null| 541329|              Active|Standard Company ...|Commonwealth Trus...|Offshore Leaks|The Offshore Leak...|                null|\n",
            "| 108141|   Southglen Limited|         XXX|            Undetermined|      XXX;NLD|Not identified;Ne...|       15-JUN-1998|             null|           null|       null|   null|                Dead|                null|Commonwealth Trus...|Offshore Leaks|The Offshore Leak...|                null|\n",
            "| 108147|   Julius J. Grodski|         XXX|            Undetermined|      XXX;USA|Not identified;Un...|              null|             null|           null|       null|   null|                null|      Sundry Account|Commonwealth Trus...|Offshore Leaks|The Offshore Leak...|This is not an of...|\n",
            "| 108148|      Kiran Kulkarni|         XXX|            Undetermined|          XXX|      Not identified|              null|             null|           null|       null|   null|                null|      Sundry Account|Commonwealth Trus...|Offshore Leaks|The Offshore Leak...|This is not an of...|\n",
            "| 108197|        MIRALEY LTD.|         XXX|            Undetermined|      VGB;RUS|British Virgin Is...|       16-JUN-2005|             null|           null|       null| 662155|                Dead|Standard Company ...|Commonwealth Trus...|Offshore Leaks|The Offshore Leak...|                null|\n",
            "| 109720|          BAHITI LTD|         XXX|            Undetermined|      VGB;CYP|British Virgin Is...|       06-JUL-2007|             null|           null|       null|1416873|              Active|Business Company ...|Commonwealth Trus...|Offshore Leaks|The Offshore Leak...|                null|\n",
            "| 109743|   Tannehill Limited|         XXX|            Undetermined|      VGB;SGP|British Virgin Is...|       12-JUL-2004|             null|           null|       null| 605746|              Active|Standard Company ...|Commonwealth Trus...|Offshore Leaks|The Offshore Leak...|                null|\n",
            "| 109745|    SHONSTAR LIMITED|         XXX|            Undetermined|      VGB;GBR|British Virgin Is...|       25-MAY-2007|             null|           null|       null|1407066|              Active|Business Company ...|Commonwealth Trus...|Offshore Leaks|The Offshore Leak...|                null|\n",
            "| 109759|   Brezor Group Ltd.|         XXX|            Undetermined|      VGB;XXX|British Virgin Is...|       30-SEP-2005|             null|           null|       null| 678821|                Dead|Standard Company ...|Commonwealth Trus...|Offshore Leaks|The Offshore Leak...|                null|\n",
            "| 109795|          Excel Ltd.|         XXX|            Undetermined|      GBR;XXX|United Kingdom;No...|       03-FEB-1997|             null|           null|       null| 217360|                Dead|Standard Company ...|Commonwealth Trus...|Offshore Leaks|The Offshore Leak...|                null|\n",
            "| 123331|   THE CHARMBO TRUST|         XXX|            Undetermined|          XXX|      Not identified|              null|             null|           null|       null|   null|              Active|     Hong Kong Trust| Portcullis Trustnet|Offshore Leaks|The Offshore Leak...|                null|\n",
            "| 123345|GALAXY ASIA LIMITED.|         BVI|    British Virgin Is...|          VGB|British Virgin Is...|       12-NOV-1993|             null|           null|       null| 100057|              Active|Standard Internat...| Portcullis Trustnet|Offshore Leaks|The Offshore Leak...|                null|\n",
            "| 123351|VISCOUNT ENTERPRI...|         BVI|    British Virgin Is...|          VGB|British Virgin Is...|       16-NOV-1993|             null|           null|       null| 100208|Struck / Defunct ...|Standard Internat...| Portcullis Trustnet|Offshore Leaks|The Offshore Leak...|                null|\n",
            "| 123352|  GLASS STAR LIMITED|         BVI|    British Virgin Is...|          VGB|British Virgin Is...|       16-NOV-1993|             null|           null|       null| 100210|Struck / Defunct ...|Standard Internat...| Portcullis Trustnet|Offshore Leaks|The Offshore Leak...|                null|\n",
            "+-------+--------------------+------------+------------------------+-------------+--------------------+------------------+-----------------+---------------+-----------+-------+--------------------+--------------------+--------------------+--------------+--------------------+--------------------+\n",
            "only showing top 20 rows\n",
            "\n"
          ],
          "name": "stdout"
        }
      ]
    },
    {
      "cell_type": "code",
      "metadata": {
        "id": "8j256iW7W9WV"
      },
      "source": [
        "df_intermediaries = spark \\\r\n",
        "  .read \\\r\n",
        "  .format(\"csv\") \\\r\n",
        "  .option(\"inferSchema\", \"true\") \\\r\n",
        "  .option(\"header\", \"true\") \\\r\n",
        "  .load(\"/dataset/offshore_leaks.nodes.intermediary.csv\")\r\n",
        "  "
      ],
      "execution_count": null,
      "outputs": []
    },
    {
      "cell_type": "code",
      "metadata": {
        "colab": {
          "base_uri": "https://localhost:8080/"
        },
        "id": "BAFSIVzZjn3i",
        "outputId": "4425de2a-31c9-4184-9a12-a4b32af52663"
      },
      "source": [
        "df_intermediaries.printSchema()"
      ],
      "execution_count": null,
      "outputs": [
        {
          "output_type": "stream",
          "text": [
            "root\n",
            " |-- node_id: string (nullable = true)\n",
            " |-- name: string (nullable = true)\n",
            " |-- country_codes: string (nullable = true)\n",
            " |-- countries: string (nullable = true)\n",
            " |-- status: string (nullable = true)\n",
            " |-- sourceID: string (nullable = true)\n",
            " |-- valid_until: string (nullable = true)\n",
            " |-- note: string (nullable = true)\n",
            "\n"
          ],
          "name": "stdout"
        }
      ]
    },
    {
      "cell_type": "code",
      "metadata": {
        "id": "1vMrMyXPXDsV"
      },
      "source": [
        "df_edges = spark \\\r\n",
        "  .read \\\r\n",
        "  .format(\"csv\") \\\r\n",
        "  .option(\"inferSchema\", \"true\") \\\r\n",
        "  .option(\"header\", \"true\") \\\r\n",
        "  .load(\"/dataset/offshore_leaks.edges.csv\")"
      ],
      "execution_count": null,
      "outputs": []
    },
    {
      "cell_type": "code",
      "metadata": {
        "colab": {
          "base_uri": "https://localhost:8080/"
        },
        "id": "Enp_aUw8RW4N",
        "outputId": "3086b8b5-eb1c-4bd3-8080-c2a9aa0ae73e"
      },
      "source": [
        "df_edges.printSchema()"
      ],
      "execution_count": null,
      "outputs": [
        {
          "output_type": "stream",
          "text": [
            "root\n",
            " |-- START_ID: integer (nullable = true)\n",
            " |-- TYPE: string (nullable = true)\n",
            " |-- END_ID: integer (nullable = true)\n",
            " |-- link: string (nullable = true)\n",
            " |-- start_date: string (nullable = true)\n",
            " |-- end_date: string (nullable = true)\n",
            " |-- sourceID: string (nullable = true)\n",
            " |-- valid_until: string (nullable = true)\n",
            "\n"
          ],
          "name": "stdout"
        }
      ]
    },
    {
      "cell_type": "code",
      "metadata": {
        "colab": {
          "base_uri": "https://localhost:8080/"
        },
        "id": "t7gH-D1nqxvQ",
        "outputId": "0dc8f0a4-1f5d-479f-e9e6-eb437159203c"
      },
      "source": [
        "df_edges.show()"
      ],
      "execution_count": null,
      "outputs": [
        {
          "output_type": "stream",
          "text": [
            "+--------+------------------+------+------------------+----------+--------+--------------+--------------------+\n",
            "|START_ID|              TYPE|END_ID|              link|start_date|end_date|      sourceID|         valid_until|\n",
            "+--------+------------------+------+------------------+----------+--------+--------------+--------------------+\n",
            "|   67028|registered_address|263908|registered address|      null|    null|Offshore Leaks|The Offshore Leak...|\n",
            "|   67243|registered_address|172931|registered address|      null|    null|Offshore Leaks|The Offshore Leak...|\n",
            "|   67258|registered_address|264788|registered address|      null|    null|Offshore Leaks|The Offshore Leak...|\n",
            "|   67266|registered_address|263908|registered address|      null|    null|Offshore Leaks|The Offshore Leak...|\n",
            "|  108050|registered_address|285718|registered address|      null|    null|Offshore Leaks|The Offshore Leak...|\n",
            "|  108051|registered_address|172931|registered address|      null|    null|Offshore Leaks|The Offshore Leak...|\n",
            "|  108110|registered_address|237583|registered address|      null|    null|Offshore Leaks|The Offshore Leak...|\n",
            "|  108141|registered_address|279231|registered address|      null|    null|Offshore Leaks|The Offshore Leak...|\n",
            "|  108147|registered_address|270800|registered address|      null|    null|Offshore Leaks|The Offshore Leak...|\n",
            "|  108148|registered_address|270995|registered address|      null|    null|Offshore Leaks|The Offshore Leak...|\n",
            "|  108197|registered_address|263996|registered address|      null|    null|Offshore Leaks|The Offshore Leak...|\n",
            "|  109720|registered_address|263908|registered address|      null|    null|Offshore Leaks|The Offshore Leak...|\n",
            "|  109743|registered_address|264788|registered address|      null|    null|Offshore Leaks|The Offshore Leak...|\n",
            "|  109745|registered_address|286081|registered address|      null|    null|Offshore Leaks|The Offshore Leak...|\n",
            "|  109759|registered_address|172931|registered address|      null|    null|Offshore Leaks|The Offshore Leak...|\n",
            "|  109795|registered_address|263710|registered address|      null|    null|Offshore Leaks|The Offshore Leak...|\n",
            "|  123345|registered_address|236724|registered address|      null|    null|Offshore Leaks|The Offshore Leak...|\n",
            "|  123351|registered_address|236724|registered address|      null|    null|Offshore Leaks|The Offshore Leak...|\n",
            "|  123352|registered_address|236724|registered address|      null|    null|Offshore Leaks|The Offshore Leak...|\n",
            "|  123356|registered_address|236724|registered address|      null|    null|Offshore Leaks|The Offshore Leak...|\n",
            "+--------+------------------+------+------------------+----------+--------+--------------+--------------------+\n",
            "only showing top 20 rows\n",
            "\n"
          ],
          "name": "stdout"
        }
      ]
    },
    {
      "cell_type": "code",
      "metadata": {
        "id": "qAL74lvAoCjg"
      },
      "source": [
        "df_officier = spark \\\r\n",
        "  .read \\\r\n",
        "  .format(\"csv\") \\\r\n",
        "  .option(\"inferSchema\", \"true\") \\\r\n",
        "  .option(\"header\", \"true\") \\\r\n",
        "  .load(\"/dataset/offshore_leaks.nodes.officer.csv\")"
      ],
      "execution_count": null,
      "outputs": []
    },
    {
      "cell_type": "code",
      "metadata": {
        "colab": {
          "base_uri": "https://localhost:8080/"
        },
        "id": "0XOSoQjFoJZF",
        "outputId": "0b95a281-63db-4384-a425-d4e5d04e1bcb"
      },
      "source": [
        "df_officier.show()"
      ],
      "execution_count": null,
      "outputs": [
        {
          "output_type": "stream",
          "text": [
            "+-------+--------------------+-------------+--------------------+--------------+--------------------+----+\n",
            "|node_id|                name|country_codes|           countries|      sourceID|         valid_until|note|\n",
            "+-------+--------------------+-------------+--------------------+--------------+--------------------+----+\n",
            "|  51113|Bisbro Investment...|          VGB|British Virgin Is...|Offshore Leaks|The Offshore Leak...|null|\n",
            "|  51114|Mohamed Mustafa B...|          MYS|            Malaysia|Offshore Leaks|The Offshore Leak...|null|\n",
            "|  51115|        Teh Hong Eng|          HKG|           Hong Kong|Offshore Leaks|The Offshore Leak...|null|\n",
            "|  51116|New Sights Enterp...|          VGB|British Virgin Is...|Offshore Leaks|The Offshore Leak...|null|\n",
            "|  51117|       Yong Meow Mui|          SGP|           Singapore|Offshore Leaks|The Offshore Leak...|null|\n",
            "|  51118|        CHEN GUOSHUN|          CHN|               China|Offshore Leaks|The Offshore Leak...|null|\n",
            "|  60877|       Chan Yat Ying|          XXX|      Not identified|Offshore Leaks|The Offshore Leak...|null|\n",
            "|  60879| Melvyn Tan Kim Leng|          XXX|      Not identified|Offshore Leaks|The Offshore Leak...|null|\n",
            "|  60880|    Shu Watt Man Kay|          XXX|      Not identified|Offshore Leaks|The Offshore Leak...|null|\n",
            "|  51119|      Caruso Antonio|          ITA|               Italy|Offshore Leaks|The Offshore Leak...|null|\n",
            "|  51120| SUNIL NAROTAM ASHER|          SGP|           Singapore|Offshore Leaks|The Offshore Leak...|null|\n",
            "|  51121|Claudia BARDELLI-...|          SGP|           Singapore|Offshore Leaks|The Offshore Leak...|null|\n",
            "|  51122|    Peng, Wan-Hsiung|          TWN|              Taiwan|Offshore Leaks|The Offshore Leak...|null|\n",
            "|  51123|World Greetings L...|          VGB|British Virgin Is...|Offshore Leaks|The Offshore Leak...|null|\n",
            "|  51124|        Tan, Chih-Fo|          TWN|              Taiwan|Offshore Leaks|The Offshore Leak...|null|\n",
            "|  51125|          Ma Jiayang|          HKG|           Hong Kong|Offshore Leaks|The Offshore Leak...|null|\n",
            "|  51126|      CHUI, WAN-LUNG|          CAN|              Canada|Offshore Leaks|The Offshore Leak...|null|\n",
            "|  51127|     Chen, Hsuan-Jui|          TWN|              Taiwan|Offshore Leaks|The Offshore Leak...|null|\n",
            "|  60886|Alan Algaze      ...|          XXX|      Not identified|Offshore Leaks|The Offshore Leak...|null|\n",
            "|  60887|Express Systems L...|          XXX|      Not identified|Offshore Leaks|The Offshore Leak...|null|\n",
            "+-------+--------------------+-------------+--------------------+--------------+--------------------+----+\n",
            "only showing top 20 rows\n",
            "\n"
          ],
          "name": "stdout"
        }
      ]
    },
    {
      "cell_type": "code",
      "metadata": {
        "colab": {
          "base_uri": "https://localhost:8080/"
        },
        "id": "-n4EKAvMp9fN",
        "outputId": "70e38684-7b81-4333-f8d0-2a596ed04e1b"
      },
      "source": [
        "df_entity.show()"
      ],
      "execution_count": null,
      "outputs": [
        {
          "output_type": "stream",
          "text": [
            "+-------+-----------------+------------+------------------------+-------------+--------------------+------------------+-----------------+---------------+-----------+------+------+--------------------+--------------------+--------------+--------------------+----+\n",
            "|node_id|             name|jurisdiction|jurisdiction_description|country_codes|           countries|incorporation_date|inactivation_date|struck_off_date|closed_date|ibcRUC|status|        company_type|    service_provider|      sourceID|         valid_until|note|\n",
            "+-------+-----------------+------------+------------------------+-------------+--------------------+------------------+-----------------+---------------+-----------+------+------+--------------------+--------------------+--------------+--------------------+----+\n",
            "| 109743|Tannehill Limited|         XXX|            Undetermined|      VGB;SGP|British Virgin Is...|       12-JUL-2004|             null|           null|       null|605746|Active|Standard Company ...|Commonwealth Trus...|Offshore Leaks|The Offshore Leak...|null|\n",
            "+-------+-----------------+------------+------------------------+-------------+--------------------+------------------+-----------------+---------------+-----------+------+------+--------------------+--------------------+--------------+--------------------+----+\n",
            "\n"
          ],
          "name": "stdout"
        }
      ]
    },
    {
      "cell_type": "code",
      "metadata": {
        "id": "LPQk6bp7XsXi"
      },
      "source": [
        "df_nodes = (df_entities.filter(col(\"name\") == \"Spring Song International Co., Ltd.\")\r\n",
        "            .join(df_edges, df_edges.END_ID == df_entities.node_id)            \r\n",
        "            .join(df_intermediaries, df_edges.START_ID == df_intermediaries.node_id)            \r\n",
        "            )"
      ],
      "execution_count": null,
      "outputs": []
    },
    {
      "cell_type": "code",
      "metadata": {
        "colab": {
          "base_uri": "https://localhost:8080/"
        },
        "id": "9ydUZNSrYGyN",
        "outputId": "b23d5b88-9788-4527-c151-8010b9c664b8"
      },
      "source": [
        "df_nodes.show(truncate = False)"
      ],
      "execution_count": null,
      "outputs": [
        {
          "output_type": "stream",
          "text": [
            "+-------+-----------------------------------+------------+------------------------+-------------+----------------------+------------------+-----------------+---------------+-----------+-------+------+----------------------------------+-------------------+--------------+-----------------------------------------------+----+--------+---------------+------+----------------------+----------+--------+--------------+-----------------------------------------------+-------+---------------------------------+---------------+---------------------------------------------------+------+--------------+-----------------------------------------------+----+\n",
            "|node_id|name                               |jurisdiction|jurisdiction_description|country_codes|countries             |incorporation_date|inactivation_date|struck_off_date|closed_date|ibcRUC |status|company_type                      |service_provider   |sourceID      |valid_until                                    |note|START_ID|TYPE           |END_ID|link                  |start_date|end_date|sourceID      |valid_until                                    |node_id|name                             |country_codes  |countries                                          |status|sourceID      |valid_until                                    |note|\n",
            "+-------+-----------------------------------+------------+------------------------+-------------+----------------------+------------------+-----------------+---------------+-----------+-------+------+----------------------------------+-------------------+--------------+-----------------------------------------------+----+--------+---------------+------+----------------------+----------+--------+--------------+-----------------------------------------------+-------+---------------------------------+---------------+---------------------------------------------------+------+--------------+-----------------------------------------------+----+\n",
            "|162267 |Spring Song International Co., Ltd.|BVI         |British Virgin Islands  |VGB          |British Virgin Islands|04-MAY-2006       |null             |null           |null       |1025475|Active|Business Company Limited by Shares|Portcullis Trustnet|Offshore Leaks|The Offshore Leaks data is current through 2010|null|72308   |officer_of     |162267|shareholder of        |2006-05-04|null    |Offshore Leaks|The Offshore Leaks data is current through 2010|72308  |Lin, Hong-Tzu                    |TWN            |Taiwan                                             |null  |Offshore Leaks|The Offshore Leaks data is current through 2010|null|\n",
            "|162267 |Spring Song International Co., Ltd.|BVI         |British Virgin Islands  |VGB          |British Virgin Islands|04-MAY-2006       |null             |null           |null       |1025475|Active|Business Company Limited by Shares|Portcullis Trustnet|Offshore Leaks|The Offshore Leaks data is current through 2010|null|72308   |officer_of     |162267|director of           |2006-05-04|null    |Offshore Leaks|The Offshore Leaks data is current through 2010|72308  |Lin, Hong-Tzu                    |TWN            |Taiwan                                             |null  |Offshore Leaks|The Offshore Leaks data is current through 2010|null|\n",
            "|162267 |Spring Song International Co., Ltd.|BVI         |British Virgin Islands  |VGB          |British Virgin Islands|04-MAY-2006       |null             |null           |null       |1025475|Active|Business Company Limited by Shares|Portcullis Trustnet|Offshore Leaks|The Offshore Leaks data is current through 2010|null|72308   |intermediary_of|162267|intermediary of       |null      |null    |Offshore Leaks|The Offshore Leaks data is current through 2010|72308  |Lin, Hong-Tzu                    |TWN            |Taiwan                                             |null  |Offshore Leaks|The Offshore Leaks data is current through 2010|null|\n",
            "|162267 |Spring Song International Co., Ltd.|BVI         |British Virgin Islands  |VGB          |British Virgin Islands|04-MAY-2006       |null             |null           |null       |1025475|Active|Business Company Limited by Shares|Portcullis Trustnet|Offshore Leaks|The Offshore Leaks data is current through 2010|null|54662   |officer_of     |162267|records & registers of|null      |null    |Offshore Leaks|The Offshore Leaks data is current through 2010|54662  |Portcullis TrustNet (BVI) Limited|THA;VGB;IDN;SGP|Thailand;British Virgin Islands;Indonesia;Singapore|null  |Offshore Leaks|The Offshore Leaks data is current through 2010|null|\n",
            "+-------+-----------------------------------+------------+------------------------+-------------+----------------------+------------------+-----------------+---------------+-----------+-------+------+----------------------------------+-------------------+--------------+-----------------------------------------------+----+--------+---------------+------+----------------------+----------+--------+--------------+-----------------------------------------------+-------+---------------------------------+---------------+---------------------------------------------------+------+--------------+-----------------------------------------------+----+\n",
            "\n"
          ],
          "name": "stdout"
        }
      ]
    }
  ]
}